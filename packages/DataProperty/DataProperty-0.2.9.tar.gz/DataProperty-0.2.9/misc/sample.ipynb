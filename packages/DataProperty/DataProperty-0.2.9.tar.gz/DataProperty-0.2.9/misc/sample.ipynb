{
 "cells": [
  {
   "cell_type": "code",
   "execution_count": 10,
   "metadata": {
    "collapsed": false
   },
   "outputs": [
    {
     "name": "stdout",
     "output_type": "stream",
     "text": [
      "---------- typename ----------\n",
      "['INT', 'FLOAT', 'STRING', 'INT', 'INT']\n",
      "['INT', 'FLOAT', 'STRING', 'FLOAT', 'FLOAT']\n",
      "['INT', 'FLOAT', 'STRING', 'INT', 'STRING']\n",
      "\n",
      "---------- data ----------\n",
      "[1, 1.1, 'aa', 1, 1]\n",
      "[2, 2.2, 'bbb', 2.2, 2.2]\n",
      "[3, 3.33, 'cccc', -3, 'ccc']\n",
      "\n",
      "---------- align ----------\n",
      "[right, right, left, right, right]\n",
      "[right, right, left, right, right]\n",
      "[right, right, left, right, left]\n",
      "\n",
      "---------- str_len ----------\n",
      "[1, 3, 2, 1, 1]\n",
      "[1, 3, 3, 3, 3]\n",
      "[1, 4, 4, 2, 3]\n",
      "\n",
      "---------- integer_digits ----------\n",
      "[1, 1, nan, 1, 1]\n",
      "[1, 1, nan, 1, 1]\n",
      "[1, 1, nan, 1, nan]\n",
      "\n",
      "---------- decimal_places ----------\n",
      "[0, 1, nan, 0, 0]\n",
      "[0, 1, nan, 1, 1]\n",
      "[0, 2, nan, 0, nan]\n"
     ]
    }
   ],
   "source": [
    "from dataproperty import PropertyExtractor, Typecode\n",
    "import six\n",
    "\n",
    "def display(prop_matrix, name):\n",
    "    six.print_()\n",
    "    six.print_(\"---------- %s ----------\" % (name))\n",
    "    for prop_list in prop_matrix:\n",
    "        six.print_([getattr(prop, name) for prop in prop_list])\n",
    "\n",
    "data_matrix = [\n",
    "    [1, 1.1, \"aa\",  1,   1],\n",
    "    [2, 2.2, \"bbb\", 2.2, 2.2],\n",
    "    [3, 3.33, \"cccc\", -3, \"ccc\"],\n",
    "]\n",
    "prop_matrix = PropertyExtractor.extract_data_property_matrix(data_matrix)\n",
    "\n",
    "six.print_(\"---------- typename ----------\")\n",
    "for prop_list in prop_matrix:\n",
    "    six.print_([Typecode.get_typename(prop.typecode) for prop in prop_list])\n",
    "\n",
    "display(prop_matrix, \"data\")\n",
    "display(prop_matrix, \"align\")\n",
    "display(prop_matrix, \"str_len\")\n",
    "display(prop_matrix, \"integer_digits\")\n",
    "display(prop_matrix, \"decimal_places\")"
   ]
  },
  {
   "cell_type": "code",
   "execution_count": 11,
   "metadata": {
    "collapsed": false,
    "scrolled": true
   },
   "outputs": [
    {
     "name": "stdout",
     "output_type": "stream",
     "text": [
      "---------- typename ----------\n",
      "['INT', 'FLOAT', 'STRING', 'FLOAT', 'STRING']\n",
      "\n",
      "---------- align ----------\n",
      "[right, right, left, right, left]\n",
      "\n",
      "---------- padding_len ----------\n",
      "[3, 5, 4, 3, 3]\n",
      "\n",
      "---------- decimal_places ----------\n",
      "[nan, 2, nan, 1, 1]\n"
     ]
    }
   ],
   "source": [
    "from dataproperty import PropertyExtractor, Typecode\n",
    "import six\n",
    "\n",
    "def display(prop_list, name):\n",
    "    six.print_()\n",
    "    six.print_(\"---------- %s ----------\" % (name))\n",
    "    six.print_([getattr(prop, name) for prop in prop_list])\n",
    "\n",
    "header_list = [\"int\", \"float\", \"str\", \"num\", \"mix\"]\n",
    "data_matrix = [\n",
    "    [1, 1.1, \"aa\",  1,   1],\n",
    "    [2, 2.2, \"bbb\", 2.2, 2.2],\n",
    "    [3, 3.33, \"cccc\", -3, \"ccc\"],\n",
    "]\n",
    "col_prop_list = PropertyExtractor.extract_column_property_list(header_list, data_matrix)\n",
    "\n",
    "six.print_(\"---------- typename ----------\")\n",
    "six.print_([Typecode.get_typename(prop.typecode) for prop in col_prop_list])\n",
    "\n",
    "display(col_prop_list, \"align\")\n",
    "display(col_prop_list, \"padding_len\")\n",
    "display(col_prop_list, \"decimal_places\")"
   ]
  },
  {
   "cell_type": "code",
   "execution_count": null,
   "metadata": {
    "collapsed": true
   },
   "outputs": [],
   "source": []
  }
 ],
 "metadata": {
  "kernelspec": {
   "display_name": "Python 2",
   "language": "python",
   "name": "python2"
  },
  "language_info": {
   "codemirror_mode": {
    "name": "ipython",
    "version": 2
   },
   "file_extension": ".py",
   "mimetype": "text/x-python",
   "name": "python",
   "nbconvert_exporter": "python",
   "pygments_lexer": "ipython2",
   "version": "2.7.10"
  }
 },
 "nbformat": 4,
 "nbformat_minor": 0
}
