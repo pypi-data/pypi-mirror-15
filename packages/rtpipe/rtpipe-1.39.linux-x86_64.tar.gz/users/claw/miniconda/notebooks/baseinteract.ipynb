{
 "cells": [
  {
   "cell_type": "markdown",
   "metadata": {
    "urth": {
     "dashboard": {
      "layout": {
       "col": 0,
       "height": 4,
       "row": 0,
       "width": 4
      }
     }
    }
   },
   "source": [
    "# realfast analysis"
   ]
  },
  {
   "cell_type": "code",
   "execution_count": null,
   "metadata": {
    "collapsed": false,
    "scrolled": false,
    "urth": {
     "dashboard": {
      "hidden": true
     }
    }
   },
   "outputs": [],
   "source": [
    "import logging\n",
    "logger = logging.getLogger()\n",
    "for hdlr in logger.handlers:\n",
    "    logger.removeHandler(hdlr)\n",
    "logging.basicConfig()\n",
    "\n",
    "import glob, os, pickle\n",
    "from bokeh.plotting import show, output_notebook\n",
    "from ipywidgets import interact, FloatSlider, Text, Dropdown\n",
    "from rtpipe import interactive\n",
    "from time import asctime\n",
    "import activegit\n",
    "import numpy as np"
   ]
  },
  {
   "cell_type": "code",
   "execution_count": null,
   "metadata": {
    "collapsed": false,
    "scrolled": false,
    "urth": {
     "dashboard": {
      "hidden": true
     }
    }
   },
   "outputs": [],
   "source": [
    "output_notebook()"
   ]
  },
  {
   "cell_type": "code",
   "execution_count": null,
   "metadata": {
    "collapsed": false,
    "scrolled": false,
    "urth": {
     "dashboard": {
      "hidden": true
     }
    }
   },
   "outputs": [],
   "source": [
    "print('Working directory: {0}'.format(os.getcwd()))\n",
    "print('Run on {0}'.format(asctime()))\n",
    "try:\n",
    "    fileroot = os.environ['fileroot']\n",
    "    print('Setting fileroot to {0} from environment variable.\\n'.format(fileroot))\n",
    "    candsfile = 'cands_{0}_merge.pkl'.format(fileroot)\n",
    "    noisefile = 'noise_{0}_merge.pkl'.format(fileroot)\n",
    "except KeyError:\n",
    "    sdmdir = os.getcwd()\n",
    "    print('Setting sdmdir to current directory {0}\\n'.format(os.path.abspath(sdmdir)))\n",
    "    candsfiles = glob.glob('cands_*_merge.pkl')\n",
    "    noisefiles = glob.glob('noise_*_merge.pkl')\n",
    "    if len(candsfiles) == 1 and len(noisefiles) == 1:\n",
    "        print('Found one cands/merge file set')\n",
    "    else:\n",
    "        print('Found multiple cands/noise file sets. Taking first.')\n",
    "\n",
    "    candsfile = candsfiles[0]\n",
    "    noisefile = noisefiles[0]\n",
    "    fileroot = candsfile.rstrip('_merge.pkl').lstrip('cands_')\n",
    "print('Set: \\n\\t candsfile {} \\n\\t noisefile {} \\n\\t fileroot {} '.format(candsfile, noisefile, fileroot))"
   ]
  },
  {
   "cell_type": "markdown",
   "metadata": {
    "urth": {
     "dashboard": {
      "hidden": true
     }
    }
   },
   "source": [
    "### Prepare data and noise plot"
   ]
  },
  {
   "cell_type": "code",
   "execution_count": null,
   "metadata": {
    "collapsed": false,
    "scrolled": false,
    "urth": {
     "dashboard": {
      "hidden": true
     }
    }
   },
   "outputs": [],
   "source": [
    "loc, prop, d = interactive.read_candidates(candsfile, returnstate=True)\n",
    "data = interactive.readdata(d=d, cands=(loc, prop))"
   ]
  },
  {
   "cell_type": "markdown",
   "metadata": {},
   "source": [
    "### Calculate classifier score from latest training set"
   ]
  },
  {
   "cell_type": "code",
   "execution_count": null,
   "metadata": {
    "collapsed": false,
    "scrolled": false
   },
   "outputs": [],
   "source": [
    "try:\n",
    "    agdir = os.environ['agdir']\n",
    "except KeyError:\n",
    "    home = os.environ['HOME']\n",
    "    agdir = os.path.join(home, 'code', 'alnotebook')\n",
    "try:\n",
    "    ag = activegit.ActiveGit(agdir)\n",
    "    clf = ag.read_classifier()\n",
    "    statfeats = [0,4,5,6,7,8]\n",
    "    data['score'] = clf.predict_proba((np.nan_to_num(prop[:,statfeats])))[:,1]  # take real score\n",
    "except:\n",
    "    print('Failure when parsing activegit repo or applying classification.')"
   ]
  },
  {
   "cell_type": "markdown",
   "metadata": {
    "urth": {
     "dashboard": {
      "hidden": true
     }
    }
   },
   "source": [
    "### Remove bad times and cands, then calculate indices"
   ]
  },
  {
   "cell_type": "code",
   "execution_count": null,
   "metadata": {
    "collapsed": false,
    "scrolled": false,
    "urth": {
     "dashboard": {
      "layout": {
       "col": 4,
       "height": 6,
       "row": 0,
       "width": 7
      }
     }
    }
   },
   "outputs": [],
   "source": [
    "plinds = {'cir': [], 'cro': [], 'edg': []}  # initialize plot symbols\n",
    "\n",
    "def filterdata(threshold, ignorestr):\n",
    "    \"\"\" Iteratively filter bad times and set indices for later plotting \"\"\"\n",
    "\n",
    "    ignoret = parseignoret(ignorestr)    \n",
    "    hight, highcount = interactive.findhight(data, ignoret=ignoret, threshold=threshold)\n",
    "    plinds['cir'] = interactive.calcinds(data, 6., ignoret=ignoret) # positive cands\n",
    "    plinds['cro'] = interactive.calcinds(data, -6., ignoret=ignoret) # negative cands\n",
    "    plinds['edg'] = interactive.calcinds(data, 7., ignoret=ignoret) # cands with png plots\n",
    "    sortinds = sorted(set(plinds['cir'] + plinds['cro'] + plinds['edg']))\n",
    "    print('Selected {} ({} linked) points.'.format(len(sortinds), len(plinds['edg'])))\n",
    "    \n",
    "    print('Estimated total on target time: {} s\\n'.format(interactive.calcontime(\n",
    "        data, inds=plinds['cir']+plinds['cro']+plinds['edg'])))\n",
    "    \n",
    "    # these must get get rescaled when cands are ignored\n",
    "    data['zs'] = interactive.normprob(d, data['snrs'], inds=sortinds)   \n",
    "\n",
    "    # print high 1s bin counts\n",
    "    if len(hight):\n",
    "        print('High times \\t High counts:')\n",
    "        for i in range(len(hight)):\n",
    "              print('{0}\\t{1}'.format(hight[i], highcount[i]))\n",
    "    else:\n",
    "        print('No high 1s bin counts.')\n",
    "    print('\\n')\n",
    "\n",
    "    # print high cands and their times\n",
    "    biginds = np.argsort(data['abssnr'][sortinds])[-5:]    \n",
    "    print('Top 5 absnr candidates and times:')\n",
    "    for ind in biginds:\n",
    "        print(data['snrs'][sortinds][ind], data['time'][sortinds][ind])\n",
    "    print('\\n')\n",
    "\n",
    "    # update ignorestr.txt if changed\n",
    "    ignorestr0 = open('ignorestr.txt', 'r').read() if os.path.exists('ignorestr.txt') else ''\n",
    "    if ignorestr != ignorestr0:\n",
    "        print('Updating ignorestr.txt with {0}'.format(ignorestr))\n",
    "        with open('ignorestr.txt', 'w') as pkl:\n",
    "            pkl.write(ignorestr)\n",
    "\n",
    "def parseignoret(ignorestr):\n",
    "    if ',' in ignorestr:\n",
    "        ignorelist = ignorestr.split(',')\n",
    "        assert (len(ignorelist)/2.).is_integer(), 'ignorestr be pairs of comma-delimited values.'\n",
    "        ignoret = [(int(ignorelist[i]), int(ignorelist[i+1])) for i in range(0, len(ignorelist), 2)]\n",
    "    else:\n",
    "        ignoret = []\n",
    "    return ignoret        \n",
    "\n",
    "# set ignorestr\n",
    "ignorestr = open('ignorestr.txt', 'r').read() if os.path.exists('ignorestr.txt') else ''\n",
    "\n",
    "# set widgets\n",
    "threshw = FloatSlider(value=15, min=5, max=20, description='Threshold to find bad times', padding=10)\n",
    "textw = Text(value=ignorestr, description='Times to ignore (comma-delimited)', padding=10)\n",
    "\n",
    "filterdata(15, ignorestr) # run once to prefill notebook\n",
    "hndl = interact(filterdata, threshold=threshw, ignorestr=textw, __manual=True) # set up interaction"
   ]
  },
  {
   "cell_type": "markdown",
   "metadata": {},
   "source": [
    "### Generate candidate and noise plots"
   ]
  },
  {
   "cell_type": "code",
   "execution_count": null,
   "metadata": {
    "collapsed": false
   },
   "outputs": [],
   "source": [
    "def displayplot(plottype, sizespec):\n",
    "    \"\"\" Generate interactive plot \"\"\"\n",
    "\n",
    "    plotdict = {'dmt': interactive.plotdmt, 'norm': interactive.plotnorm,\n",
    "               'loc': interactive.plotloc, 'stat': interactive.plotstat,\n",
    "               'all': interactive.plotall}\n",
    "    sizedict = {'dmt': [900,500], 'norm': [700, 700], 'loc': [700,700],\n",
    "                'stat': [700,700]}\n",
    "\n",
    "    sortinds = sorted(set(plinds['cir'] + plinds['cro'] + plinds['edg']))\n",
    "    sizesrc, plaw = sizespec.split('_')\n",
    "    data['sizes'] = interactive.calcsize(data[sizesrc], inds=sortinds, plaw=int(plaw))\n",
    "\n",
    "    if plottype != 'all':\n",
    "        wid, hei = sizedict[plottype]\n",
    "        pl = plotdict[plottype](data, circleinds=plinds['cir'], crossinds=plinds['cro'],\n",
    "                                edgeinds=plinds['edg'], url_path='http://www.aoc.nrao.edu/~claw/plots',\n",
    "                                fileroot=fileroot, plot_width=wid, plot_height=hei)\n",
    "    else:\n",
    "        pl = interactive.plotall(data, circleinds=plinds['cir'], crossinds=plinds['cro'],\n",
    "                                 edgeinds=plinds['edg'], url_path='http://www.aoc.nrao.edu/~claw/plots',\n",
    "                                 fileroot=fileroot)\n",
    "    hdl = show(pl)\n",
    "\n",
    "sizespecw = Dropdown(value='snrs_3', options=['snrs_3', 'snrs_5', 'score_5', 'score_7'],\n",
    "                     description='Sizes spec (\"source_powerlaw\")', padding=10)\n",
    "plotw = Dropdown(options=['all', 'dmt', 'norm', 'loc', 'stat'], description='Type of plot to make', padding=10)\n",
    "\n",
    "displayplot('all', 'snrs_3') # run once to prefill notebook\n",
    "hndl = interact(displayplot, plottype=plotw, sizespec=sizespecw, __manual=True)  # set up interaction"
   ]
  },
  {
   "cell_type": "code",
   "execution_count": null,
   "metadata": {
    "collapsed": false
   },
   "outputs": [],
   "source": [
    "noiseplot = interactive.plotnoise(noisefile, candsfile, plot_width=950, plot_height=400)\n",
    "hndl = show(noiseplot)"
   ]
  },
  {
   "cell_type": "markdown",
   "metadata": {},
   "source": [
    "### Take notes"
   ]
  },
  {
   "cell_type": "code",
   "execution_count": null,
   "metadata": {
    "collapsed": false,
    "scrolled": false
   },
   "outputs": [],
   "source": [
    "def addcomment(commentstr):\n",
    "    with open('commentstr.txt', 'w') as pkl:\n",
    "        pkl.write(commentstr)\n",
    "\n",
    "commentstr = open('commentstr.txt', 'r'). read() if os.path.exists('commentstr.txt') else ''\n",
    "textc = Text(value=commentstr, description='Add Comments', padding=20)\n",
    "hndl = interact(addcomment, commentstr=textc, __manual=True)"
   ]
  },
  {
   "cell_type": "markdown",
   "metadata": {
    "collapsed": true,
    "urth": {
     "dashboard": {
      "hidden": true
     }
    }
   },
   "source": [
    "### Optional refinement analysis\n",
    "#### Requires download data from archive into working directory"
   ]
  },
  {
   "cell_type": "code",
   "execution_count": null,
   "metadata": {
    "collapsed": true
   },
   "outputs": [],
   "source": []
  }
 ],
 "metadata": {
  "kernelspec": {
   "display_name": "Python 2",
   "language": "python",
   "name": "python2"
  },
  "language_info": {
   "codemirror_mode": {
    "name": "ipython",
    "version": 2
   },
   "file_extension": ".py",
   "mimetype": "text/x-python",
   "name": "python",
   "nbconvert_exporter": "python",
   "pygments_lexer": "ipython2",
   "version": "2.7.11"
  },
  "urth": {
   "dashboard": {
    "cellMargin": 10,
    "defaultCellHeight": 20,
    "layoutStrategy": "packed",
    "maxColumns": 12
   }
  },
  "widgets": {
   "state": {
    "01a17666866f4ac6a16a471a731193ea": {
     "views": []
    },
    "047500c7a0654f21bfa32918e832e1d9": {
     "views": []
    },
    "11c56e86558d47a5ac3250d24c79c0b2": {
     "views": []
    },
    "13487a54b5bc475094a2115cb0b88260": {
     "views": []
    },
    "1a13f2a2cf7045e08a2552567b27822d": {
     "views": []
    },
    "1eaaa90390bd470381a85ca8aebbbead": {
     "views": []
    },
    "29e5c1fd4198452e8c9e52fd9ebee3c8": {
     "views": []
    },
    "315d699a529b41839cc4717509e2125f": {
     "views": []
    },
    "3987ad90918a45b2a9aa1c2cb5151132": {
     "views": [
      {
       "cell": {
        "cell_type": "code",
        "execution_count": null,
        "metadata": {
         "collapsed": false,
         "scrolled": false,
         "trusted": true,
         "urth": {
          "dashboard": {
           "layout": {
            "col": 4,
            "height": 6,
            "row": 0,
            "width": 7
           }
          }
         }
        },
        "outputs": [],
        "source": "plinds = {'cir': [], 'cro': [], 'edg': []}  # initialize plot symbols\n\ndef filterdata(threshold, ignorestr):\n    \"\"\" Iteratively filter bad times and set indices for later plotting \"\"\"\n\n    ignoret = parseignoret(ignorestr)    \n    hight, highcount = interactive.findhight(data, ignoret=ignoret, threshold=threshold)\n    plinds['cir'] = interactive.calcinds(data, 6., ignoret=ignoret) # positive cands\n    plinds['cro'] = interactive.calcinds(data, -6., ignoret=ignoret) # negative cands\n    plinds['edg'] = interactive.calcinds(data, 7., ignoret=ignoret) # cands with png plots\n    sortinds = sorted(set(plinds['cir'] + plinds['cro'] + plinds['edg']))\n    print('Selected {} ({} linked) points.'.format(len(sortinds), len(plinds['edg'])))\n    \n    print('Estimated total on target time: {} s\\n'.format(interactive.calcontime(\n        data, inds=plinds['cir']+plinds['cro']+plinds['edg'])))\n    \n    # these must get get rescaled when cands are ignored\n    data['zs'] = interactive.normprob(d, data['snrs'], inds=sortinds)   \n\n    # print high 1s bin counts\n    if len(hight):\n        print('High times \\t High counts:')\n        for i in range(len(hight)):\n              print('{0}\\t{1}'.format(hight[i], highcount[i]))\n    else:\n        print('No high 1s bin counts.')\n    print('\\n')\n\n    # print high cands and their times\n    biginds = np.argsort(data['abssnr'][sortinds])[-5:]    \n    print('Top 5 absnr candidates and times:')\n    for ind in biginds:\n        print(data['snrs'][sortinds][ind], data['time'][sortinds][ind])\n    print('\\n')\n\n    # update ignorestr.txt if changed\n    ignorestr0 = open('ignorestr.txt', 'r').read() if os.path.exists('ignorestr.txt') else ''\n    if ignorestr != ignorestr0:\n        print('Updating ignorestr.txt with {0}'.format(ignorestr))\n        with open('ignorestr.txt', 'w') as pkl:\n            pkl.write(ignorestr)\n\ndef parseignoret(ignorestr):\n    if ',' in ignorestr:\n        ignorelist = ignorestr.split(',')\n        assert (len(ignorelist)/2.).is_integer(), 'ignorestr be pairs of comma-delimited values.'\n        ignoret = [(int(ignorelist[i]), int(ignorelist[i+1])) for i in range(0, len(ignorelist), 2)]\n    else:\n        ignoret = []\n    return ignoret        \n\n# set ignorestr\nignorestr = open('ignorestr.txt', 'r').read() if os.path.exists('ignorestr.txt') else ''\n\n# set widgets\nthreshw = FloatSlider(value=15, min=5, max=20, description='Threshold to find bad times', padding=10)\ntextw = Text(value=ignorestr, description='Times to ignore (comma-delimited)', padding=10)\n\nfilterdata(15, ignorestr) # run once to prefill notebook\nhndl = interact(filterdata, threshold=threshw, ignorestr=textw, __manual=True) # set up interaction"
       },
       "cell_index": 9,
       "root": true
      }
     ]
    },
    "39ffff52d8dd4adcbb59e89e99f67d56": {
     "views": []
    },
    "3e28fdadb82046b69fe36a5132aef6aa": {
     "views": []
    },
    "3e9d8510500342a296d1dab85ead3a2b": {
     "views": [
      {
       "cell": {
        "cell_type": "code",
        "execution_count": null,
        "metadata": {
         "collapsed": false,
         "scrolled": false,
         "trusted": true
        },
        "outputs": [],
        "source": "def addcomment(commentstr):\n    with open('commentstr.txt', 'w') as pkl:\n        pkl.write(commentstr)\n\ncommentstr = open('commentstr.txt', 'r'). read() if os.path.exists('commentstr.txt') else ''\ntextc = Text(value=commentstr, description='Add Comments', padding=20)\nhndl = interact(addcomment, commentstr=textc, __manual=True)"
       },
       "cell_index": 14,
       "root": true
      }
     ]
    },
    "482c7a49fa834e4aa8344a8bbe7638dc": {
     "views": []
    },
    "48d581eacda447dba4b7ce7bd184938f": {
     "views": []
    },
    "4935a158acce4b0ea34ef5df32186d83": {
     "views": []
    },
    "4c5475b915e94e2da7f05b38347723b2": {
     "views": []
    },
    "52a1feed765549e0b12148474a5bcfb7": {
     "views": []
    },
    "5628685abe65413eaf96d7fd6780df7a": {
     "views": []
    },
    "58502fa544134ecfb26551aa42085990": {
     "views": []
    },
    "616507cd9faf423995c794cb8da8b154": {
     "views": []
    },
    "6256ccc741da433b8fff769cd361ed60": {
     "views": []
    },
    "648c771c55d148dbb0d04e33dba65fcf": {
     "views": []
    },
    "7b3c6d315d0d4b30be2959fad24a92ce": {
     "views": []
    },
    "89776a1faa0448178e6b390863ea5327": {
     "views": [
      {
       "cell": {
        "cell_type": "code",
        "execution_count": null,
        "metadata": {
         "collapsed": false,
         "trusted": true
        },
        "outputs": [],
        "source": "def displayplot(plottype, sizespec):\n    \"\"\" Generate interactive plot \"\"\"\n\n    plotdict = {'dmt': interactive.plotdmt, 'norm': interactive.plotnorm,\n               'loc': interactive.plotloc, 'stat': interactive.plotstat,\n               'all': interactive.plotall}\n    sizedict = {'dmt': [900,500], 'norm': [700, 700], 'loc': [700,700],\n                'stat': [700,700]}\n\n    sortinds = sorted(set(plinds['cir'] + plinds['cro'] + plinds['edg']))\n    sizesrc, plaw = sizespec.split('_')\n    data['sizes'] = interactive.calcsize(data[sizesrc], inds=sortinds, plaw=int(plaw))\n\n    if plottype != 'all':\n        wid, hei = sizedict[plottype]\n        pl = plotdict[plottype](data, circleinds=plinds['cir'], crossinds=plinds['cro'],\n                                edgeinds=plinds['edg'], url_path='http://www.aoc.nrao.edu/~claw/plots',\n                                fileroot=fileroot, plot_width=wid, plot_height=hei)\n    else:\n        pl = interactive.plotall(data, circleinds=plinds['cir'], crossinds=plinds['cro'],\n                                 edgeinds=plinds['edg'], url_path='http://www.aoc.nrao.edu/~claw/plots',\n                                 fileroot=fileroot)\n    hdl = show(pl)\n\nsizespecw = Dropdown(value='snrs_3', options=['snrs_3', 'snrs_5', 'score_5', 'score_7'],\n                     description='Sizes spec (\"source_powerlaw\")', padding=10)\nplotw = Dropdown(options=['all', 'dmt', 'norm', 'loc', 'stat'], description='Type of plot to make', padding=10)\n\ndisplayplot('all', 'snrs_3') # run once to prefill notebook\nhndl = interact(displayplot, plottype=plotw, sizespec=sizespecw, __manual=True)  # set up interaction"
       },
       "cell_index": 11,
       "root": true
      }
     ]
    },
    "8db17b535f1849e3aab353bb1d75de49": {
     "views": []
    },
    "93a587b5632e452abd413b186f3bf1a9": {
     "views": []
    },
    "996ee356021344f488427db2d2bdedd9": {
     "views": []
    },
    "99e7d0af734345498315ab482eef550f": {
     "views": []
    },
    "a1384056100440b79c308748104c5348": {
     "views": []
    },
    "a744bd17da884cc89cb52d8d357892a1": {
     "views": []
    },
    "b5d05115272c43efb578fd0de53221c8": {
     "views": []
    },
    "b742e3dc4b02449589fc2f3583393245": {
     "views": []
    },
    "b8e24a5a61364e8f9da96f1cc105fa13": {
     "views": []
    },
    "baae67ee83f64cfcb917dd809eedf9c6": {
     "views": []
    },
    "bae67acfd19c4f62829b5b6b3d3e2678": {
     "views": []
    },
    "c0bd636d391c4637947730db03142e3d": {
     "views": []
    },
    "c1dd558372c14c8d91b0d857a6dac1b5": {
     "views": []
    },
    "c4905d696d804eb6979ed251a771b2e9": {
     "views": []
    },
    "c55143eff043455d88c57dfe52368985": {
     "views": []
    },
    "c80f6671978a4b42ba5b4f07ee36c96e": {
     "views": []
    },
    "c990714c08d4493b81e94f833ba1c66c": {
     "views": []
    },
    "d15c7bbd5f534433bec6f260c4db9445": {
     "views": []
    },
    "d37e42b9ae83423eaad32ab51dff1bd2": {
     "views": []
    },
    "e5bc92a7de9342cab92fa76cc0cb0d52": {
     "views": []
    },
    "eaf49034de4249caa34fd557090ac884": {
     "views": []
    },
    "eed5496114b94f20afaa9f74fe9479d5": {
     "views": []
    },
    "f560f099beaa4f1bbde173464e37f404": {
     "views": []
    },
    "f7dcbd4a586b425a9c1c7aa593d4240c": {
     "views": []
    },
    "ff216755950e4485be7a84a562f3d5e3": {
     "views": []
    },
    "ff27bdc90fd14a59b6c2d78e11d56f93": {
     "views": []
    }
   },
   "version": "1.1.0"
  }
 },
 "nbformat": 4,
 "nbformat_minor": 0
}
