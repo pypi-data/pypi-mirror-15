{
 "cells": [
  {
   "cell_type": "markdown",
   "metadata": {
    "urth": {
     "dashboard": {
      "layout": {
       "col": 0,
       "height": 4,
       "row": 0,
       "width": 4
      }
     }
    }
   },
   "source": [
    "# realfast analysis"
   ]
  },
  {
   "cell_type": "code",
   "execution_count": null,
   "metadata": {
    "collapsed": false,
    "scrolled": false,
    "urth": {
     "dashboard": {
      "hidden": true
     }
    }
   },
   "outputs": [],
   "source": [
    "import logging\n",
    "logger = logging.getLogger()\n",
    "for hdlr in logger.handlers:\n",
    "    logger.removeHandler(hdlr)\n",
    "logging.basicConfig()\n",
    "\n",
    "from bokeh.plotting import output_notebook\n",
    "from rtpipe import interactive, nbpipeline\n",
    "from ipywidgets import Button, Output, VBox\n",
    "from IPython.display import display\n",
    "\n",
    "# following needed for classifier\n",
    "import os\n",
    "import activegit\n",
    "import numpy as np"
   ]
  },
  {
   "cell_type": "code",
   "execution_count": null,
   "metadata": {
    "collapsed": false,
    "scrolled": false,
    "urth": {
     "dashboard": {
      "hidden": true
     }
    }
   },
   "outputs": [],
   "source": [
    "output_notebook()\n",
    "nbpipeline.getnbname()"
   ]
  },
  {
   "cell_type": "code",
   "execution_count": null,
   "metadata": {
    "collapsed": false
   },
   "outputs": [],
   "source": [
    "statedir = nbname+'-state'\n",
    "candsfile, noisefile, fileroot = interactive.initializenb()"
   ]
  },
  {
   "cell_type": "markdown",
   "metadata": {
    "urth": {
     "dashboard": {
      "hidden": true
     }
    }
   },
   "source": [
    "### Prepare data and noise plot"
   ]
  },
  {
   "cell_type": "code",
   "execution_count": null,
   "metadata": {
    "collapsed": false,
    "scrolled": false,
    "urth": {
     "dashboard": {
      "hidden": true
     }
    }
   },
   "outputs": [],
   "source": [
    "loc, prop, d = interactive.read_candidates(candsfile, returnstate=True)\n",
    "data = interactive.readdata(d=d, cands=(loc, prop))"
   ]
  },
  {
   "cell_type": "markdown",
   "metadata": {},
   "source": [
    "### Calculate classifier score from latest training set"
   ]
  },
  {
   "cell_type": "code",
   "execution_count": null,
   "metadata": {
    "collapsed": false,
    "scrolled": false
   },
   "outputs": [],
   "source": [
    "try:\n",
    "    agdir = os.environ['agdir']\n",
    "except KeyError:\n",
    "    home = os.environ['HOME']\n",
    "    agdir = os.path.join(home, 'code', 'alnotebook')\n",
    "\n",
    "data['score'] = interactive.addclassifications(agdir, prop)"
   ]
  },
  {
   "cell_type": "markdown",
   "metadata": {
    "urth": {
     "dashboard": {
      "hidden": true
     }
    }
   },
   "source": [
    "### Remove bad times and cands, then calculate indices"
   ]
  },
  {
   "cell_type": "code",
   "execution_count": null,
   "metadata": {
    "collapsed": false,
    "scrolled": false,
    "urth": {
     "dashboard": {
      "layout": {
       "col": 4,
       "height": 6,
       "row": 0,
       "width": 7
      }
     }
    }
   },
   "outputs": [],
   "source": [
    "plinds = {'cir': [], 'cro': [], 'edg': []}  # initialize plot symbols\n",
    "nbpipeline.setFloat('threshold', default=15, min=5, max=20, description='Threshold to find bad times',\n",
    "                   statedir=statedir)\n",
    "nbpipeline.setText('ignorestr', default='', description='Times to ignore (comma-delimited)', statedir=statedir)"
   ]
  },
  {
   "cell_type": "code",
   "execution_count": null,
   "metadata": {
    "collapsed": false
   },
   "outputs": [],
   "source": [
    "interactive.filterdata(data=data, plinds=plinds, d=d, threshold=nbpipeline.read('threshold'),\n",
    "                       ignorestr=nbpipeline.read('ignorestr'), thresh0=6., thresh1=7.)"
   ]
  },
  {
   "cell_type": "markdown",
   "metadata": {},
   "source": [
    "### Generate candidate and noise plots"
   ]
  },
  {
   "cell_type": "code",
   "execution_count": null,
   "metadata": {
    "collapsed": false
   },
   "outputs": [],
   "source": [
    "nbpipeline.setDropdown('scaling', default='snrs_3', options=['snrs_3', 'snrs_5', 'score_5', 'score_7'],\n",
    "                        description='Symbol size scaling (\"source_powerlaw\")',\n",
    "                        statedir=statedir)\n",
    "nbpipeline.setDropdown('plottype', default='all', options=['all', 'dmt', 'norm', 'loc', 'stat'],\n",
    "                       description='Type of plot to make',\n",
    "                       statedir=statedir)"
   ]
  },
  {
   "cell_type": "code",
   "execution_count": null,
   "metadata": {
    "collapsed": false
   },
   "outputs": [],
   "source": [
    "interactive.displayplot(data, plinds, nbpipeline.read('plottype'), nbpipeline.read('scaling'), fileroot, \n",
    "                        url_path='http://www.aoc.nrao.edu/~claw/plots')"
   ]
  },
  {
   "cell_type": "code",
   "execution_count": null,
   "metadata": {
    "collapsed": false,
    "scrolled": false
   },
   "outputs": [],
   "source": [
    "noiseplot = interactive.plotnoise(noisefile, candsfile, plot_width=900, plot_height=450)"
   ]
  },
  {
   "cell_type": "markdown",
   "metadata": {},
   "source": [
    "### Comments"
   ]
  },
  {
   "cell_type": "code",
   "execution_count": null,
   "metadata": {
    "collapsed": true
   },
   "outputs": [],
   "source": [
    "nbpipeline.setText('comments', statedir=statedir)"
   ]
  },
  {
   "cell_type": "code",
   "execution_count": null,
   "metadata": {
    "collapsed": false
   },
   "outputs": [],
   "source": [
    "nbpipeline.list(statedir=statedir)"
   ]
  },
  {
   "cell_type": "markdown",
   "metadata": {
    "collapsed": true,
    "urth": {
     "dashboard": {
      "hidden": true
     }
    }
   },
   "source": [
    "### Optional refinement analysis\n",
    "#### Requires download data from archive into working directory"
   ]
  },
  {
   "cell_type": "code",
   "execution_count": null,
   "metadata": {
    "collapsed": true
   },
   "outputs": [],
   "source": []
  }
 ],
 "metadata": {
  "kernelspec": {
   "display_name": "Python 2",
   "language": "python",
   "name": "python2"
  },
  "language_info": {
   "codemirror_mode": {
    "name": "ipython",
    "version": 2
   },
   "file_extension": ".py",
   "mimetype": "text/x-python",
   "name": "python",
   "nbconvert_exporter": "python",
   "pygments_lexer": "ipython2",
   "version": "2.7.11"
  },
  "urth": {
   "dashboard": {
    "cellMargin": 10,
    "defaultCellHeight": 20,
    "layoutStrategy": "packed",
    "maxColumns": 12
   }
  },
  "widgets": {
   "state": {
    "00b288cec1254305bb9ba578ccc4fa68": {
     "views": []
    },
    "00e4cb3f5c4b42339c72efc27763bd24": {
     "views": []
    },
    "010e0aed09124f2d846bd4d98992eed9": {
     "views": []
    },
    "0176dea0c8c642c0be4054460dc7a077": {
     "views": []
    },
    "019225e3802e42e3ac00de3d9c0336eb": {
     "views": []
    },
    "01ba5b30c9d54646b461981f8fd1e71a": {
     "views": []
    },
    "01f97cc641fa4b86ad83e16cbcfdcae5": {
     "views": []
    },
    "0208b02ffa3b4c51ae44fece1d9a74c1": {
     "views": []
    },
    "02363a3584b14dd5a8bf54b6d95ca030": {
     "views": []
    },
    "02591b912bde4d8a9090180aed29b7a4": {
     "views": [
      {
       "cell_index": 9
      }
     ]
    },
    "02901db711f946a19f2529e52fd0f97d": {
     "views": []
    },
    "03195d416ad64c6e980bfe5a7e361bb5": {
     "views": []
    },
    "031bc25ae71e4211b374d1ca24499b81": {
     "views": []
    },
    "03ab9c32501d496a9f76344d0a7b8a42": {
     "views": []
    },
    "043cca9d084e49f0af1ce1d1d2dd4663": {
     "views": []
    },
    "05e78b1b17dc4aa7b942d987adbabeaf": {
     "views": []
    },
    "0632aa29fd8341d381cbb9ec5a6fb5a8": {
     "views": []
    },
    "06c274454cc54926976dbb58b6fd5cd5": {
     "views": []
    },
    "06edf637019f407a9abf6733dcccafdd": {
     "views": []
    },
    "070dbb278f604f089a425c87496e8a37": {
     "views": []
    },
    "07bd14821533453499be5fd80553da76": {
     "views": []
    },
    "07c1f88a544742d4ada24a1e18547602": {
     "views": []
    },
    "086c1296af05408eb84895444a5b2644": {
     "views": []
    },
    "095bb585144a429794de489381ca26cd": {
     "views": []
    },
    "098aa52f40f04df09085c6ca905850ea": {
     "views": []
    },
    "0a01c279094c43cea6cec0d890e48709": {
     "views": []
    },
    "0a2d0989ac944800b3fc715fe6000233": {
     "views": []
    },
    "0ae76367bbba4f02be12c988713409ad": {
     "views": []
    },
    "0b0c476e125c453d8ec1b7d56e282f1e": {
     "views": []
    },
    "0b259f6668c849c18bfc3e9d971ac5a1": {
     "views": []
    },
    "0bbbc5f0d9414b5385596c1b935b6e33": {
     "views": []
    },
    "0cb164fd68a54cecb6334a667c66454c": {
     "views": []
    },
    "0d7cbff581e84c22a4e9d7600c3e59b2": {
     "views": []
    },
    "0d82e7413da34653aa34c86e4db9d3fc": {
     "views": []
    },
    "0eaafd41abda4d9c92838c7e85f3a39e": {
     "views": []
    },
    "0ec56cdd1a7141da989eea23b3ed98b2": {
     "views": []
    },
    "0f0f86de1c5c432b80e5c0939b28b03a": {
     "views": []
    },
    "0f847534997e4b64a79e1e36fa6b7b02": {
     "views": []
    },
    "0fd0ebebe9a84967a574a15386ab1e9c": {
     "views": []
    },
    "10031002067542659d7a038502c5aaed": {
     "views": []
    },
    "1007d84efc5b4112850f70e90abbb22b": {
     "views": []
    },
    "115192722d594acb8025a88a334166e8": {
     "views": []
    },
    "12d2a075346544f48fc093115774e333": {
     "views": []
    },
    "1305807f0dd748fab9c09c9826899667": {
     "views": []
    },
    "13aeaaea98694d4d9ccc32e267cae613": {
     "views": []
    },
    "14431800456640eabf82337c2417b4ea": {
     "views": []
    },
    "145abb7e0a204e85a137f8aa2a075ce3": {
     "views": []
    },
    "15564dcd758f433b9a8223130edba21b": {
     "views": []
    },
    "155e92eb3a3a41649eae13bd62f89f5d": {
     "views": []
    },
    "15af2074cc6d487cb4134ca3d650df89": {
     "views": []
    },
    "168ac2c01f2b475d9b4332a9d3f3c55c": {
     "views": []
    },
    "17246163a4d449d7aee0d7b946fa9c01": {
     "views": []
    },
    "17311244bd294209ba4403063b5e22d0": {
     "views": []
    },
    "187eaeb6cb7a44f5b684d9db2e8fef62": {
     "views": []
    },
    "18a9f27b580f4118903aacacdf68315d": {
     "views": []
    },
    "18c96c39e09442c4943f421a93b3a016": {
     "views": []
    },
    "1979566123984936ac127d2b64348bbc": {
     "views": []
    },
    "1997e6dd0081461384596648a69ed6cc": {
     "views": []
    },
    "199e5099888149c498a4bf9626c2bb4f": {
     "views": []
    },
    "19a35c8032d64a31b19cfe431df6b23c": {
     "views": []
    },
    "19ef38ef980b4a1ea448bf469f74364a": {
     "views": []
    },
    "1a4a74f0646349f2b5cb93318a352e4e": {
     "views": [
      {
       "cell_index": 9
      }
     ]
    },
    "1a83970568a04fdb826deb3737a05fba": {
     "views": []
    },
    "1adc2c9c9c9145b8af03f82aca76e204": {
     "views": []
    },
    "1ae99e4bf7a64349aec916ac06b6f450": {
     "views": []
    },
    "1b775b0f6a024c5ca2ef4642522f12c3": {
     "views": []
    },
    "1d1246a5281c489dab97352ea3f5ed24": {
     "views": []
    },
    "1d41a6fe588949a18a63f18f56b8cf3e": {
     "views": [
      {
       "cell_index": 9
      }
     ]
    },
    "1d6e5781d039455fadd7f99c441e8ebc": {
     "views": []
    },
    "1d8f7fd2fe6c40eb883f0be1c584e09e": {
     "views": [
      {
       "cell_index": 9
      }
     ]
    },
    "1e06347e7dd442a3863bbd15d9efa7d6": {
     "views": []
    },
    "1e50dae843d64050984f20879873548e": {
     "views": []
    },
    "1fa61fb8047a4b9aa2ab44a88fe661c9": {
     "views": []
    },
    "1fd827cc48e74c33a69a11afeecb0419": {
     "views": []
    },
    "1ff69bd53f0f4403a7270f425eaa90da": {
     "views": []
    },
    "20276a2023614f9d912daf2196133384": {
     "views": []
    },
    "20958adc62ca4c3785d1f5dc7be2856b": {
     "views": []
    },
    "20cfc4596e7d4b3c9ca3b53f5b42b221": {
     "views": []
    },
    "20dcca612edd46d690a08b4035584806": {
     "views": []
    },
    "214bf9ada0c64d1fa8f452e24112bede": {
     "views": []
    },
    "21523b8df1734db48a46057525db61bd": {
     "views": [
      {
       "cell_index": 9
      }
     ]
    },
    "21afb93129484ab380307b78933a143c": {
     "views": []
    },
    "21c0cea981d948fabacefd11e43a957d": {
     "views": []
    },
    "22cb5c16d1e94938a4a55d93d4c5c2ef": {
     "views": []
    },
    "232e81793aa647e68d464be86c666241": {
     "views": []
    },
    "23c7237865c5444bb4d9f2185744b442": {
     "views": []
    },
    "256caaf4259a46718e5f5ae7b404bfe1": {
     "views": [
      {
       "cell_index": 12
      }
     ]
    },
    "25ea68c912bd43c982a19af271a09bd6": {
     "views": []
    },
    "25ecbf66f4d142e1b683397a315de567": {
     "views": []
    },
    "25f66e06d6334dc280060381b58d1410": {
     "views": []
    },
    "2614506c35c74406a29221a37fff0e55": {
     "views": []
    },
    "26547e9df9624784a6213d8f2fa6ba1a": {
     "views": []
    },
    "2760bc5a80c34caab27de7b7891d41e9": {
     "views": []
    },
    "2773cde356b04e84a94f76289ba94069": {
     "views": []
    },
    "2784bd0f1fb94cbc8c536d71100f7e02": {
     "views": []
    },
    "27a8682780834bb88544d046fe7900cb": {
     "views": []
    },
    "27cab45f07ba45e1bb6f02fd0ce9f85a": {
     "views": []
    },
    "289554e263a54685a5c78d848e037d68": {
     "views": []
    },
    "28b49dbfc57c4106b1b7dde48f3b53cc": {
     "views": []
    },
    "28e03850b641420bb33402330c9faa28": {
     "views": []
    },
    "28f1b93fb55c4e1b9328dbe0fb282956": {
     "views": [
      {
       "cell_index": 9
      }
     ]
    },
    "298ab60868784b5b8d69443af149ea76": {
     "views": [
      {
       "cell_index": 11
      }
     ]
    },
    "29dee16b733142cf89240ed5f6e7e595": {
     "views": []
    },
    "2abbd8aa04c749ecb1064387f017aa7f": {
     "views": []
    },
    "2b387952dcb34187bd79662887bbbdb4": {
     "views": []
    },
    "2b47545b4da2473ab8ae3c3668402013": {
     "views": []
    },
    "2bf206d9d1e84c58b39c0a90af65eb47": {
     "views": []
    },
    "2bf7db0d863c4e91a6d66870b27290fa": {
     "views": []
    },
    "2c21c3a490dc49c39f9ac122e583ea31": {
     "views": []
    },
    "2c9c409a7ac44de8bc43ade9a1ed7d70": {
     "views": []
    },
    "2ca93e206a12444cb2713568f69cb39b": {
     "views": []
    },
    "2d3919291a624bef862325a72e9df705": {
     "views": []
    },
    "2d767c3c0f924641af3f065cd3200f02": {
     "views": [
      {
       "cell_index": 11
      }
     ]
    },
    "2da19beb2a3943e9aa8e18ec447fa87b": {
     "views": []
    },
    "2db8d75806b74d5bb8d667445c0c335e": {
     "views": []
    },
    "2e3c3ac0db404e17b6f098f358247af2": {
     "views": []
    },
    "2e754edfb4e342ef9b7f04f6a3ea19a4": {
     "views": []
    },
    "2f169400cb474735a498030a68e10e40": {
     "views": []
    },
    "2f196bfeab25425699e8a3c62fae5920": {
     "views": []
    },
    "2f42ee1a1c4544f69523ab0f855cd7f9": {
     "views": [
      {
       "cell_index": 9
      }
     ]
    },
    "2fcc79a140ed4ec8901eb6a0f4032cc7": {
     "views": []
    },
    "2fdf855f3955418c93224922f80259a3": {
     "views": []
    },
    "30e0fc2792a24c7f8db259505f14c0e5": {
     "views": []
    },
    "3111a52825ad419ab9d625e80f3d6a83": {
     "views": []
    },
    "3207a108f6364ec28685d27d9a275189": {
     "views": []
    },
    "320c5d77921d4529abe6414afa7cd8fe": {
     "views": []
    },
    "32c8d8b58fcf4c5ebe53cdad1090ff13": {
     "views": []
    },
    "32e8fa4d9c784db2945a9d6335dfaefa": {
     "views": []
    },
    "334eeb2e26044e2a9f07ba28a1b332e3": {
     "views": []
    },
    "348a9e3a8b0e4a389f40e862e3f79016": {
     "views": []
    },
    "3495098e561f4df5b05579b4f15613a5": {
     "views": []
    },
    "34ac7d7c0546430fadafa4d82ccec67c": {
     "views": []
    },
    "350075592d5840e2863b2a87658ce0ac": {
     "views": []
    },
    "35270a5e8f9445b19008c74f3ce1f4fc": {
     "views": []
    },
    "355bbc726f0e4a58b9423cabdb52bbda": {
     "views": []
    },
    "35c78420ee0342109c9d5bedbfcfa03a": {
     "views": []
    },
    "3602767a1de942e4b5543cc39f2ca7f7": {
     "views": []
    },
    "3681b4a48d8c424a8628d6ba20802e2d": {
     "views": []
    },
    "375eb711b8374a0bb6cfb0a9c0576214": {
     "views": []
    },
    "3796eec620874e04a2a41546023a905a": {
     "views": []
    },
    "37a14ffb9a9c42b99d2f784baa38cf49": {
     "views": []
    },
    "37c6644061ab4fa78081aeafa91f4d22": {
     "views": []
    },
    "37eafcf000ec4c56a01852ccd414d62a": {
     "views": []
    },
    "37ef92b553704a76a3a4aacff37e114d": {
     "views": []
    },
    "3807b5e624b943fb85054d3a87734703": {
     "views": []
    },
    "38db2083a512423fa41bb6648f3caf80": {
     "views": []
    },
    "39395fa860254d239ad7b1f9ac6b373c": {
     "views": []
    },
    "39bc024b57a9450bb07a3ada7876a74e": {
     "views": []
    },
    "39e66406b420464f94df883b0db41373": {
     "views": []
    },
    "3a60f7feae784d63a7805defe46e822a": {
     "views": []
    },
    "3a91e493ab384c22b9dd18e15b69dd73": {
     "views": [
      {
       "cell_index": 11
      }
     ]
    },
    "3ac9f4fc38554330891629133dac5f02": {
     "views": []
    },
    "3be5fca3aa9c45f3aa02fa89df484a30": {
     "views": [
      {
       "cell_index": 9
      }
     ]
    },
    "3c034b3a94524c18a625dc6d8951bb75": {
     "views": []
    },
    "3c187570c3ca43709304bfb5ce809a61": {
     "views": []
    },
    "3cb557bd24de45bd97e565e171a310ae": {
     "views": []
    },
    "3d4bd979ef714d6fa17bc071aa5d28db": {
     "views": []
    },
    "3d4be4e5f95240f4806a17a59b170263": {
     "views": []
    },
    "3dedcbb50651440f9e5b021303f23baf": {
     "views": []
    },
    "3e37cd24f88d463aa7bed0738336e00f": {
     "views": []
    },
    "3e3b23bd34824d548a49eb353c8ee656": {
     "views": []
    },
    "3e5a95f85bc4476d9ea58c5313fefcaa": {
     "views": []
    },
    "3e80b37955404c0d9efceb912fbf4f9d": {
     "views": []
    },
    "3f0006fc902a4c768ea97f94a8cf42bc": {
     "views": []
    },
    "3f3797048d454c41b524e4e28cfa029d": {
     "views": []
    },
    "3f47e5669e2542969888893e891a2dba": {
     "views": []
    },
    "3f541c1a70e54a46a1ce7cdf96a21ff8": {
     "views": []
    },
    "401e76afed864a28bdc1524c2425b3d0": {
     "views": []
    },
    "402d171569ea4ed7a47bb6a9a9ddb695": {
     "views": []
    },
    "4060318c4a42432595d0d67384773604": {
     "views": []
    },
    "40b9614e747247e8bd871d667162089c": {
     "views": []
    },
    "412b899a3a8447b6ab9bec36b450a2e7": {
     "views": []
    },
    "412e8fc2f57444e8aa8e424ce8ae24d9": {
     "views": []
    },
    "4186852f33f64bc5896cb97dc0c5e193": {
     "views": []
    },
    "41a04f265abd400e9b53dd1158c48e3f": {
     "views": []
    },
    "4213c1fea821427ca9de9bb576d8e130": {
     "views": []
    },
    "42b0c5df773e472bad626cf1e9847df7": {
     "views": []
    },
    "4368c424efb44d00a4a282585d91b21b": {
     "views": [
      {
       "cell_index": 11
      }
     ]
    },
    "438b8767cb4743048367a02c398ef0bc": {
     "views": []
    },
    "43fadd60638d437088edcab1b151d8b3": {
     "views": []
    },
    "44a0787ee82d47eba421897636376e91": {
     "views": []
    },
    "450c4423ba634461a7646410b0ecabee": {
     "views": []
    },
    "457aa4964415458b910295073e629e0e": {
     "views": []
    },
    "463c79d60ac44e14a3b1d53f96d0c7ae": {
     "views": []
    },
    "46542dde01eb4bba876754d2fd541236": {
     "views": []
    },
    "4675fb245120422280b3b9f5f3aed8da": {
     "views": []
    },
    "46c47f1f45d64bf3b56542cb2c1eb09a": {
     "views": []
    },
    "47202b79b9074fe7a420c8a2cbc2a8f3": {
     "views": []
    },
    "47d7bd36ffbb4240b5d2272bdb0c0ae7": {
     "views": []
    },
    "48440a9907f54c459a24a508d48d9849": {
     "views": []
    },
    "48ebf04289a24d6ca3349013cfc56867": {
     "views": []
    },
    "48ef0b155e5b472ca30c7af4906c9a60": {
     "views": []
    },
    "492e5e8ef44b494dada4f5a1fe4543bd": {
     "views": []
    },
    "49521986e9dc40648a941f4e8dcc3308": {
     "views": []
    },
    "49ad8d96458b489387c4ce715e38e61b": {
     "views": []
    },
    "49da992abfd04e4bbd42fc520bd6bacb": {
     "views": []
    },
    "49fa5f4649f64e67a37fe9766fcf7624": {
     "views": []
    },
    "4a03c8d9532d4f579fe20dc66a0b7920": {
     "views": []
    },
    "4a63c62111c447e588f4b04d73e53ee0": {
     "views": []
    },
    "4abf19b565974facb54290be3c81ac5b": {
     "views": []
    },
    "4b3d352dca0446c094d1c1898e14426f": {
     "views": []
    },
    "4b463e45a73a4a6b8656bfeedfa15716": {
     "views": []
    },
    "4b86e54c4996488b91c6a396fd5227f7": {
     "views": []
    },
    "4b94a66ba05147a2bdbf62beb16d1de2": {
     "views": []
    },
    "4d7ffac3d9c24cd98ef8c4f424cbfd60": {
     "views": []
    },
    "4dc95a6f9dd04461b22d70bb3948d893": {
     "views": []
    },
    "4dec3833231b4c0ebce0048be57e200c": {
     "views": [
      {
       "cell_index": 11
      }
     ]
    },
    "4e3f7f9a88044c5aaad93a21fe421522": {
     "views": []
    },
    "4f93a05082f347ddab1dd2a5914b35bb": {
     "views": [
      {
       "cell_index": 12
      }
     ]
    },
    "50190929820d41719e0ebf0a322ddcdc": {
     "views": []
    },
    "5039b07c7b54415f9dd3ee19da996e4c": {
     "views": []
    },
    "5083e8fa5ffd49a8a50705ed2d96cc68": {
     "views": []
    },
    "515c043b6d2a44749de09e0f11482f0a": {
     "views": []
    },
    "51cdd5276601408eb5308b6c250b42db": {
     "views": []
    },
    "52138a5014b64a18b222ac0e24926866": {
     "views": []
    },
    "52b2721e140d444fa4bdce66bdc3aa07": {
     "views": []
    },
    "531033b39242432d94a2a1cb5eec92ec": {
     "views": []
    },
    "53f8125966cf40f0abd0fac7bc05fa15": {
     "views": []
    },
    "5426cc3d46fc46fcbbc27c102e355e26": {
     "views": []
    },
    "54bc5dcb79ba4d578de20c3f4afe43b7": {
     "views": []
    },
    "553d2d18c740492ba16805de88843d6e": {
     "views": []
    },
    "554067fd61ae410e8812d7ec794d2a70": {
     "views": []
    },
    "558682f0799747cf8a767825d7725d6a": {
     "views": []
    },
    "55d9b15831404b55892d1a2a9ec3884f": {
     "views": [
      {
       "cell_index": 11
      }
     ]
    },
    "56658d04daf34e9c84c2f989630fcb67": {
     "views": []
    },
    "567ddcd9fd054e2b91117ff591bc0ac9": {
     "views": []
    },
    "56af72c448f84dcaa70d9d832e8a05c6": {
     "views": []
    },
    "56e67067cc5a4a5eb0cb378cdb004820": {
     "views": []
    },
    "5725d21857c94cbca09c971cd4a5a05f": {
     "views": []
    },
    "579090ef6bb542fcb43a5c07cf43d7b8": {
     "views": []
    },
    "58044dcf04f847649e4bc9f1810c6c05": {
     "views": []
    },
    "58e5774e4f4f4410826d6758ad73e8d8": {
     "views": []
    },
    "590cca09bc8a4accbd4887741a81ca7a": {
     "views": [
      {
       "cell_index": 11
      }
     ]
    },
    "5992c25826c24f548a40acd7783c00cc": {
     "views": []
    },
    "5997a52926dc453d93b9b9d829a5d7f5": {
     "views": []
    },
    "59a03397696d42cd8351e6aca9a4341e": {
     "views": []
    },
    "59f460c66809480ab71dcdda16622979": {
     "views": []
    },
    "5a185f79979d41e6bd871db87ad93dbe": {
     "views": []
    },
    "5ac958d3c9a44e0c8e3c318ce5fc0d7c": {
     "views": []
    },
    "5b0f088e59ab47468a267e2050b27b84": {
     "views": []
    },
    "5b224bae4f004c43ba6e3bfe414054b0": {
     "views": []
    },
    "5b70f449a08b45808956cdbd768b6b6e": {
     "views": [
      {
       "cell_index": 9
      }
     ]
    },
    "5bd478ce999446c08e92dc4132b9ee65": {
     "views": []
    },
    "5be24e42816b4e1bb276cb00877548ee": {
     "views": []
    },
    "5be5c2d97a164df881b4d5146ede3ee2": {
     "views": []
    },
    "5c4033a62d0346e8ba95d466d6525f32": {
     "views": []
    },
    "5c48f6cf89a940cb96c5116518f5438b": {
     "views": []
    },
    "5c4e0c365cd340d6847ffce374a9fd18": {
     "views": []
    },
    "5d914b8409cf4133bf3432829b1d799b": {
     "views": []
    },
    "5df2e2789fc64e789199ca8a10335193": {
     "views": []
    },
    "5e44a6a98a5c456997eb27c0e1f1468d": {
     "views": [
      {
       "cell_index": 11
      }
     ]
    },
    "5e45142164b94323883e64a6f11a5bde": {
     "views": []
    },
    "5f42ac7062a84bf0be98bdf6a7fb81ca": {
     "views": []
    },
    "5fa3d312f1a04c3aac192f90cc057069": {
     "views": [
      {
       "cell_index": 9
      }
     ]
    },
    "6024c0b7493b44969552121427e7071f": {
     "views": []
    },
    "602853a646dc497e9c5d8ab60d1d03ff": {
     "views": []
    },
    "603d25160e924e37ab0d5dc226b71a7b": {
     "views": []
    },
    "603ef238177c47c0b3349c459ce63688": {
     "views": []
    },
    "60579882bcc24573a1e0c748d5840204": {
     "views": []
    },
    "607f2ba20b2e4e2089a8da92887bda69": {
     "views": []
    },
    "6092265261e04000ba9be7291b376d5b": {
     "views": []
    },
    "60eaed00da5042068603472279d7e6d8": {
     "views": []
    },
    "60f30d54b2fc4e6aaac83afb3a4cb035": {
     "views": []
    },
    "611691ad283d459fa8e883dec1901777": {
     "views": [
      {
       "cell_index": 9
      }
     ]
    },
    "61851c35107b4c6fa8fdbbe43033286e": {
     "views": []
    },
    "61c45cda176c48d1ab31136d706cef1d": {
     "views": []
    },
    "621f3005c1df4938b9a71cdec05c525a": {
     "views": []
    },
    "63289b5deb9e4b61bb729fcec813821b": {
     "views": [
      {
       "cell_index": 9
      }
     ]
    },
    "636534f2423a4ff1b51eec2864d9846b": {
     "views": []
    },
    "63f318f09eb246aa8b4c92ff5583e4be": {
     "views": []
    },
    "646edaa43c69414593b214c282289789": {
     "views": [
      {
       "cell_index": 9
      }
     ]
    },
    "64e08e0297264047a6ed9d84f04d95c3": {
     "views": []
    },
    "6508b44dae8345ecb4e350223543405a": {
     "views": []
    },
    "6524011e8dde4374837005dbe0cbf4de": {
     "views": []
    },
    "65a254bb7889474b9e45b1a090207387": {
     "views": []
    },
    "65aec012240f4d0d8ba5743ba6575667": {
     "views": []
    },
    "65de05d1ec7c4b608efc6dbdfa4bd492": {
     "views": []
    },
    "66273a33be1f485ab76cb793eada5119": {
     "views": []
    },
    "666cc65b3a4d465b9e8b1ef4938c28a3": {
     "views": []
    },
    "66daa7950b664ef68e8cefb9299b3e27": {
     "views": []
    },
    "672e146d5cf84c15a0cd7b98a6db112f": {
     "views": []
    },
    "675bf9c69c034799839d25fb1094d549": {
     "views": []
    },
    "676e146943e94fe0a13c1e0b5ab21b53": {
     "views": []
    },
    "67a6d528511d450dacee755da4ece37a": {
     "views": []
    },
    "68db88a85ed246b68f83675f03aacddd": {
     "views": [
      {
       "cell_index": 9
      }
     ]
    },
    "68e03f92ea0f437797ee57b1de464e11": {
     "views": []
    },
    "690bb32b1b2a42979abc3cefe60c7627": {
     "views": []
    },
    "6aa7c250843d4c789d770179d145025f": {
     "views": []
    },
    "6af7024e8b634dc79756ea9e398fe9f7": {
     "views": []
    },
    "6b22f36d725344599e029f1f20267fcd": {
     "views": []
    },
    "6b3d13461bc6433e85745e0fa14360a9": {
     "views": []
    },
    "6b49debecfb24539b996b4c0816622ac": {
     "views": []
    },
    "6b70607a3847406786a0e51c87db58fe": {
     "views": []
    },
    "6ba4146b4fbd4aa580b10c1303d3419e": {
     "views": []
    },
    "6be3c026eacd42bd89c6fd24a26ea5f3": {
     "views": []
    },
    "6c8ae3d5f5a649ceba16f6a757fb9480": {
     "views": [
      {
       "cell_index": 9
      }
     ]
    },
    "6c9e3c00deea418fa14533e5322d84e1": {
     "views": []
    },
    "6cb3540fe08c48eaba30576cbe3bbbd9": {
     "views": []
    },
    "6da7c10a53504b3d83c92f438299fbfd": {
     "views": []
    },
    "6e1adf0a2c4443c9b8e758543b9a6430": {
     "views": []
    },
    "6e684280032a439591c086b57b36b4e2": {
     "views": []
    },
    "6ed4dbf159b54ba7b30b9031305317c8": {
     "views": []
    },
    "6eeae5173a444572b401285bfd373806": {
     "views": []
    },
    "70014203beaf4357b0c0acc8b2bd33c1": {
     "views": []
    },
    "7006c422451544728d723080ac69fceb": {
     "views": []
    },
    "7068fe08809445419f0965bf6b4765d8": {
     "views": []
    },
    "70a763347fb54347a70068749744a5a1": {
     "views": []
    },
    "70bb54ba74934da383273d487cbbff3c": {
     "views": []
    },
    "7163fb27fa4e46698b2bc7bacf9766b9": {
     "views": [
      {
       "cell_index": 9
      }
     ]
    },
    "716556bb59264a2eb5f3deaaa7a5f459": {
     "views": []
    },
    "718ab3e90fb246b5a96958a89ba98e12": {
     "views": []
    },
    "721ec7f48c9646daaf11f6df8d940d97": {
     "views": []
    },
    "7279b81fde3d4e1cb8757b85d8a70b70": {
     "views": [
      {
       "cell_index": 9
      }
     ]
    },
    "7285ef747fae4e759afb2758e42f428e": {
     "views": []
    },
    "72958f11d42b41abb76242eb13edf3d2": {
     "views": []
    },
    "7321ed2920574a88b4d1ee86e5e0f13c": {
     "views": []
    },
    "74605053e7eb441781ca8427f4b283cd": {
     "views": []
    },
    "74820dcd809245629064d3ea4dfa751f": {
     "views": []
    },
    "74e95320132a4e1483d27750e714f2ee": {
     "views": []
    },
    "75457e74a49e49c2bcc6493a5df08e3f": {
     "views": []
    },
    "7547f8926e18467999a08bd6b12ca58c": {
     "views": []
    },
    "75684271cb274d0db227ba3d82aee0d0": {
     "views": []
    },
    "76778f4d9a9e4d1e98764895e3c58133": {
     "views": [
      {
       "cell_index": 9
      }
     ]
    },
    "76adfab2cc28466ba7359355588ec348": {
     "views": []
    },
    "76f7f0cf27374e13b27a01f1db8ea82a": {
     "views": []
    },
    "76f8b40418c34742b3be6aea9839199e": {
     "views": []
    },
    "78260260eb174af58df88cf025a51bc0": {
     "views": []
    },
    "78fe9b4b131d499abd5ff13cb203a9c8": {
     "views": []
    },
    "794af7e633c14d1e83e0554f3691415e": {
     "views": []
    },
    "79f11d6d2945496bb49e372c4ca5e431": {
     "views": []
    },
    "7a07d51138914fd1bdfb311e933acaed": {
     "views": []
    },
    "7ae1e83bbef046a89b184e0172fa7d24": {
     "views": []
    },
    "7b0232f2aee44690b4b5f53b36265933": {
     "views": []
    },
    "7bcce7ef3bfb4ab6a9eec5c70911f760": {
     "views": []
    },
    "7c7db24f39734dcca3707346ac661816": {
     "views": []
    },
    "7c86665438544dfbb8fb8736f1132a2b": {
     "views": []
    },
    "7d02c1eea4ea49bea116b010c95e9486": {
     "views": []
    },
    "7d39e81e6fed4ed8a9c3f1dc8ef29ac3": {
     "views": []
    },
    "7d75377a7be8449b84ab78339a2e0004": {
     "views": []
    },
    "7dba904724c04602bcc1152a6e28f2e8": {
     "views": []
    },
    "7dd3d22e57f949be86a4faab6b7e9074": {
     "views": []
    },
    "7defe328bbcf4c968b1d68c60f4b858a": {
     "views": []
    },
    "7e166fc6230e4e509f49a0445a7455f6": {
     "views": []
    },
    "7e1a94ccded04919af5a203deedbddaf": {
     "views": []
    },
    "7e7004e216eb4bd1ad09f813fc9ce1f4": {
     "views": []
    },
    "7eb55a02145c4bbe954302c53b6477ff": {
     "views": [
      {
       "cell_index": 9
      }
     ]
    },
    "7ed5daa1db864aafad333799b24870b0": {
     "views": []
    },
    "7f92537aa7aa4a5eae0fffbfef823034": {
     "views": []
    },
    "7fb18f49c6f84c3e9ec3c8e1e3489a9e": {
     "views": []
    },
    "7fd1fa667363480888392bfc2a06b786": {
     "views": []
    },
    "7fdd49ed59d14bb5ac4e27001d9e1917": {
     "views": [
      {
       "cell_index": 9
      }
     ]
    },
    "8077eb9615394b428c0751c196188489": {
     "views": [
      {
       "cell_index": 9
      }
     ]
    },
    "80fe3f47215944e1acb110d9ee51f51d": {
     "views": []
    },
    "8118bf8bf1f24b39a15dc13931cb3c64": {
     "views": []
    },
    "81dbcebdf2c442bfadd7255dd2aae658": {
     "views": []
    },
    "821c46e10fef44039523980433d927a7": {
     "views": []
    },
    "8284a282245e427289a1d74c432a6126": {
     "views": []
    },
    "82cef8efce284a2b9f9898b9f5f723ed": {
     "views": []
    },
    "837bf24f9e824d60bd508fb60f95627a": {
     "views": []
    },
    "8383397b5d664655be0a9fc8edcdf17e": {
     "views": []
    },
    "840ca956d45842c99d7c0db299a22995": {
     "views": []
    },
    "847e0ec2986546a9a0f012f60b853d4f": {
     "views": []
    },
    "8482e08b82ef4dac8c4e080c49fbdf54": {
     "views": []
    },
    "855d42f579d9474b99dda9eb870ffeae": {
     "views": []
    },
    "85ae3886fa8241dea8b0f45a0c2c53f3": {
     "views": []
    },
    "85cbe9817dbd4ab295336f2dadaae538": {
     "views": []
    },
    "8618bc15223348859be61a884fad9f1a": {
     "views": []
    },
    "8693ae190d3f4aefb3fe4234b3e7d68b": {
     "views": []
    },
    "86b817858ab64faa8abaa35629a220fc": {
     "views": []
    },
    "8718ddb3cce34669953e0bb279edfc00": {
     "views": []
    },
    "872d1fe81be946f2af0c6b8646e3c53a": {
     "views": []
    },
    "87e32b524f894013a586d0702857d870": {
     "views": []
    },
    "894b73d8b7af4c3abbe3c87fee0d8f26": {
     "views": []
    },
    "89ab4f4e9ca24f789a8e2afbfcb07ed6": {
     "views": []
    },
    "8a23bd2b125248e7bb7818891b437bf8": {
     "views": []
    },
    "8a3496a9a2cb4d39bca01ba5ba1119f4": {
     "views": []
    },
    "8a74d706233349b0ad27fa9f254f0920": {
     "views": [
      {
       "cell_index": 11
      }
     ]
    },
    "8ab59c00b419477eb343a457723a3a67": {
     "views": []
    },
    "8c4a1447b82e4ce2ba341c08d3ce824a": {
     "views": []
    },
    "8c7f253d15384f9b8c5d52379d108c92": {
     "views": []
    },
    "8c8d8b9d5d024d409542bf10367044be": {
     "views": [
      {
       "cell_index": 12
      }
     ]
    },
    "8d4cc45dfcc94b23bd0236920a62274e": {
     "views": []
    },
    "8d508e68cc6c49649672c010dbcc6d54": {
     "views": []
    },
    "8d57c602921d407d801463c749c581a6": {
     "views": []
    },
    "8e3bd1051ddc429c9f77a5e2e933fd3f": {
     "views": []
    },
    "8e82177952044e23be496e065c53fd7d": {
     "views": []
    },
    "8ebb98fa3cc84b9da2ad3ba89eb556cf": {
     "views": []
    },
    "8f07359b67fc4cf1b3b0b7c027387e4f": {
     "views": []
    },
    "8fc770deaec8449391b2691a64bf40cb": {
     "views": []
    },
    "9048ef8d6c8948c4ac28d1ac14d93438": {
     "views": []
    },
    "91591bcd97f849cca9d3a583898681ac": {
     "views": []
    },
    "9162b1843d57464784ff30edbf0218fd": {
     "views": []
    },
    "91c8178073da43eca4b938c565c8f190": {
     "views": []
    },
    "91fdd9765abe4e1191ecb0ec4f782292": {
     "views": []
    },
    "9260af52a38e45638a9b4852350fcadb": {
     "views": []
    },
    "929fc0f49cfe4c58b4b28c802a9658c3": {
     "views": []
    },
    "9307b1f6254a4202a75ea21626a9d735": {
     "views": []
    },
    "939d548be3e24d4a8c9d4acb701dcf11": {
     "views": []
    },
    "93caa925863a4784986306fb20f6472f": {
     "views": []
    },
    "93f06ccc0e2d47aaa0083e043eab5c3a": {
     "views": []
    },
    "93fa1e19ca7c4cd0b5baa0d406fd4cfa": {
     "views": []
    },
    "943db7637e4f43a2b58007d4d09cd5d0": {
     "views": []
    },
    "944970b4e6a04347a91ae89a625ec206": {
     "views": []
    },
    "9466aaaa30bc4f11bf978cd957d82f44": {
     "views": []
    },
    "94fc6a84cb834de38b0644c5285d66d2": {
     "views": [
      {
       "cell_index": 11
      }
     ]
    },
    "95c60eb5e9a74d6c9ce372b1eaab8a22": {
     "views": []
    },
    "95e5205d063540719f7bbc585cd57e58": {
     "views": []
    },
    "96075d209fb141a8bcd54cdcffe2d7e0": {
     "views": []
    },
    "96174725accc4ca383a9cceeb62ccc1a": {
     "views": []
    },
    "9650092f49df4fa7b8fbb29905d3dcb3": {
     "views": []
    },
    "96d606d75d5f4d48ae10e0503fbd6de5": {
     "views": []
    },
    "96dc8d38fa8d440eaf225beebe23aada": {
     "views": []
    },
    "971e1257df534efa94f9987e0e9e367c": {
     "views": []
    },
    "972bf98bab164bf78ca050f59edacac8": {
     "views": []
    },
    "973381e974a24ebd9a97dbbdf1207b54": {
     "views": []
    },
    "97440a313a6d4c2694817bef047da2cb": {
     "views": []
    },
    "9773bf68dcbd40a6a0e771e8af649572": {
     "views": []
    },
    "978884b357d24427b3eb077f914b7cad": {
     "views": []
    },
    "98b75c6e7cc948588f1868623bc0713f": {
     "views": []
    },
    "98dad10b9cc54158ae266bcec5df2a76": {
     "views": []
    },
    "9907de07a58140d2961b0f118a7c8ce4": {
     "views": []
    },
    "998e59c7cee4468d99161ad7dda3bceb": {
     "views": []
    },
    "9a1b32ce369e481da2b27c319014790f": {
     "views": []
    },
    "9a5ff8c03d2a42ca9dc6116301ff7178": {
     "views": []
    },
    "9a6712a7cd834faaa0ba532546347d3e": {
     "views": []
    },
    "9a6f852952454034ac435b8e4bda96d5": {
     "views": []
    },
    "9acfe7bd6cf94d758dcec85a770b3ab9": {
     "views": []
    },
    "9ad6f18f74ba4c339af67fcd06532888": {
     "views": []
    },
    "9b1d7de4bd7d469883d76d4f0a37ddce": {
     "views": []
    },
    "9b6e9c2bb9bd4e71a785662d4fc68897": {
     "views": []
    },
    "9beb0fba3d98442897b7cf068faeb0a7": {
     "views": [
      {
       "cell_index": 9
      }
     ]
    },
    "9c5b778db9894f8da87b2cd3fcc97726": {
     "views": []
    },
    "9cb9cc7a77944010b8a086db61f4c15a": {
     "views": []
    },
    "9cbd6a15b4414ca2bce4df292b4ad1d5": {
     "views": [
      {
       "cell_index": 9
      }
     ]
    },
    "9d3d8cecf7074378a98e7e1ca3b23e3b": {
     "views": []
    },
    "9d89a1f6776f4ecc94ec85835d1df8d3": {
     "views": [
      {
       "cell_index": 16
      }
     ]
    },
    "9e00232f6e8246e880366c24ec02f532": {
     "views": []
    },
    "9e33a3c3b9fd4a3f9703978fbb18ee10": {
     "views": []
    },
    "9e349dea918d4bd4bd1818b9edc63720": {
     "views": []
    },
    "9e622d88c1264723bc3392e50d0931a7": {
     "views": [
      {
       "cell_index": 12
      }
     ]
    },
    "9e7390ba420045f7aa07de920627d470": {
     "views": []
    },
    "9e7523ce74d14f6aad46d998e5596173": {
     "views": []
    },
    "9ecbb0c9d7e84674b83437e21f0d0374": {
     "views": []
    },
    "9f1aa61910b74b88bedf2df68684caec": {
     "views": []
    },
    "a071ea4bee9e425e9435bf7610b3bce8": {
     "views": []
    },
    "a0f25c36f822496785809646e4bdd3fe": {
     "views": []
    },
    "a146a521cb5048a5ae14c2f00cd8a185": {
     "views": []
    },
    "a164234a09f044b88a17f19dd38e8531": {
     "views": []
    },
    "a1e5dcb91ef04878a6f00ff9583b322a": {
     "views": [
      {
       "cell_index": 11
      }
     ]
    },
    "a229bc93a8b74b7ea2e6300ef886ac2f": {
     "views": []
    },
    "a22f573f067b4fb59f95b9b37db412d1": {
     "views": []
    },
    "a2feecef318946a9a3d17831b4c68398": {
     "views": []
    },
    "a34b303fe8424ff78f2861bc2af299a1": {
     "views": []
    },
    "a3527b4d56764ece9709d8366cf3b7c7": {
     "views": []
    },
    "a3b785ea25df4068bc85d8371152e4d6": {
     "views": []
    },
    "a3cf0f1a721f48e38fa508ed6d47be8a": {
     "views": []
    },
    "a449631a84994abd8a6a08776d94c177": {
     "views": []
    },
    "a45617d4a11948a48eb3809ff169ea5c": {
     "views": []
    },
    "a57d26d18bbe4328a290ad1a38dfb319": {
     "views": []
    },
    "a59ed1faa48a4c5da486246ee619184d": {
     "views": []
    },
    "a5d98f2134004c999b39bb43a4422480": {
     "views": []
    },
    "a5dab2c24ea049529b667522c35ace70": {
     "views": [
      {
       "cell_index": 12
      }
     ]
    },
    "a610043e9b194c4aa776a88a1a5cdce0": {
     "views": []
    },
    "a6936acca4c74085b961c82c01b7f821": {
     "views": [
      {
       "cell_index": 9
      }
     ]
    },
    "a7eed35a84fb472b8ef4775ba841665d": {
     "views": []
    },
    "a8257f1685a1464ca21569f80b410b3d": {
     "views": []
    },
    "a86bea5b6c7346bfb891dc0f8b1eadd6": {
     "views": []
    },
    "a8af20ce3a5741819e0325b3289382db": {
     "views": []
    },
    "a8b271e7665841cab9c842cff5b87b5d": {
     "views": []
    },
    "a8b3f6b9ed9f4c918e81643f8141fb10": {
     "views": []
    },
    "a9d55c6272224204809f73c5957d1df0": {
     "views": [
      {
       "cell_index": 11
      }
     ]
    },
    "aa60b8f7589a44258d29a179119a26a6": {
     "views": []
    },
    "acb7882887854a0290c1b4cc2f6d5917": {
     "views": []
    },
    "ad24930f5fbd468a81858cac28be282b": {
     "views": []
    },
    "ae45c4dddb4a46968dcdc0a06c2ac629": {
     "views": []
    },
    "ae6d6856c17a4116a529e7b7c6f3b236": {
     "views": []
    },
    "ae7c351abb0f4ca99fd90630f16ea9c2": {
     "views": []
    },
    "ae8e112ef613428c87f84b22a9d7b872": {
     "views": []
    },
    "aeaab5ee2da34219bd28b21a16b40dca": {
     "views": []
    },
    "af4f3e3664744bc39f6ddf5dc9e1ca07": {
     "views": []
    },
    "af93f8cc2fde4972841abd3768136414": {
     "views": []
    },
    "afbeb7f8f5ba48f08d7aafcfa2d79c6f": {
     "views": []
    },
    "afe4c938337b462588ee170b46becaf5": {
     "views": []
    },
    "b083464b2ee54acd8309794a7da38c9c": {
     "views": []
    },
    "b0869f149012410f9dccd234a3960d68": {
     "views": []
    },
    "b0ea838bcbf548e8bf755417bba53963": {
     "views": []
    },
    "b1b6b0bf353744aaa8974bbdd8c27758": {
     "views": []
    },
    "b28d17a980764c81952f507f39304000": {
     "views": []
    },
    "b2f6b02986ba48c88ec22a3b147c3223": {
     "views": []
    },
    "b37319a178af4f47b7386a67d8de966e": {
     "views": []
    },
    "b4807a7288d049f3827390dcd0d22c54": {
     "views": []
    },
    "b4a49598ef4347bcba5b6ad116401de8": {
     "views": []
    },
    "b4a9d9ef02a94b4992007c6cd36a86f5": {
     "views": []
    },
    "b4b51e57416540b79523cf66d652f21d": {
     "views": []
    },
    "b523c5fb19114c0093cc300ff1325e55": {
     "views": [
      {
       "cell_index": 11
      }
     ]
    },
    "b57d477570eb4be5ad01f50ee5d4b44f": {
     "views": []
    },
    "b5ee7e058d4a4129948b91d63c4ffbea": {
     "views": []
    },
    "b6198608e94846b3b8d9511c32c12302": {
     "views": []
    },
    "b664c2bde2f14188b0a645b56bc3a2c7": {
     "views": []
    },
    "b686a666cadc42e69b7d83900173b1c8": {
     "views": []
    },
    "b695a50ac88b40d0bcae846660633d7a": {
     "views": []
    },
    "b6a5f4875c924df6a4086584690a013f": {
     "views": []
    },
    "b6c0e8774c2b4274bc8a4d7cd72d5007": {
     "views": []
    },
    "b73ccffdadd049e18aad0ab3801ff247": {
     "views": [
      {
       "cell_index": 9
      }
     ]
    },
    "b76dd7962c7f420d8b85bb4a7f641769": {
     "views": []
    },
    "b807847a1a1642408137248a87d8e4d9": {
     "views": []
    },
    "b94a25c3d5654af5bab64f27b931a6ef": {
     "views": []
    },
    "ba09d9f4ef0c451eba841cbd5473a586": {
     "views": []
    },
    "ba4b314871ce4f7c9bfe98742876f936": {
     "views": []
    },
    "ba7a19ecf9be4edb8381e35a73de517e": {
     "views": []
    },
    "baa914c624ad4e10beadb1422547213b": {
     "views": []
    },
    "bb51f9bf7d8c481caa6cf8627a994bb9": {
     "views": []
    },
    "bbbcea32aa9d4331ad21c81139577a20": {
     "views": []
    },
    "bbd23eed9d2345eaa08f717643ddb9e1": {
     "views": []
    },
    "bbd4de5d35a448f2928d23c098f824e5": {
     "views": []
    },
    "bbd52c0c1da24584bb2fa25db707b0b9": {
     "views": []
    },
    "bc565e452c604c0eb6b1c287d50de2fe": {
     "views": []
    },
    "bce6ef680d164d0fbd3981437b82285d": {
     "views": []
    },
    "bd6bdfaccee94121a14401f91d82dff3": {
     "views": []
    },
    "bd93d71fe22a4ef7ab35e18be049a8ef": {
     "views": []
    },
    "be12fbddce634ba7bbf9e7d5c54f749a": {
     "views": []
    },
    "be2fc8984ed140078f5259e3865a8348": {
     "views": [
      {
       "cell_index": 9
      }
     ]
    },
    "bed6a8174db64b7bb0812ab9d0ccdcab": {
     "views": []
    },
    "bf485a90df664df9aab8e96ae7b4fd58": {
     "views": []
    },
    "bf51433db62e449f9ab19cb7e4d4d4a3": {
     "views": []
    },
    "c055532c9b88466b85e2d5510454c32e": {
     "views": []
    },
    "c0748d3751d1422884a3e2261e69c0b1": {
     "views": []
    },
    "c08d9aeec8aa456fb0a8a2475396418b": {
     "views": [
      {
       "cell_index": 11
      }
     ]
    },
    "c2c82afacdc04420be6735f187416ff1": {
     "views": []
    },
    "c2df950062014f2ca6fb23915f182189": {
     "views": []
    },
    "c3e38b7ab7004d8596926d91b0c9e161": {
     "views": []
    },
    "c3e5128a2b33416994698d2ecabff908": {
     "views": [
      {
       "cell_index": 9
      }
     ]
    },
    "c41330089819478884c8a649c34c9760": {
     "views": []
    },
    "c45bca6fa7c64ac78118e0ebc2aa3240": {
     "views": []
    },
    "c4840e2d42484d6d8c1a32606cc06122": {
     "views": []
    },
    "c4e46c8dd8ca4794a22a4a2feed51e33": {
     "views": []
    },
    "c4fc8599680141f29abab749e8b745c9": {
     "views": []
    },
    "c539f48fa88d4e2d8ac7cb2f75c7e729": {
     "views": []
    },
    "c58b61aaa7774119b9e57299b009f353": {
     "views": [
      {
       "cell_index": 9
      }
     ]
    },
    "c594a3f9618b4a16adfa991ac9f39f90": {
     "views": []
    },
    "c5ff923743c84cb1b9a9031c8482af8c": {
     "views": []
    },
    "c606b3e977334b33b8f59f0173da166c": {
     "views": []
    },
    "c60ab3a34de34796bf384acfe2b604b2": {
     "views": []
    },
    "c62fd09d4137471084c0d8ea4c0a2e35": {
     "views": []
    },
    "c66c58700acb433586416e148a9b0d7d": {
     "views": []
    },
    "c6880eba7ab244a88c3ddcc0a18ed467": {
     "views": []
    },
    "c7361254393c447ba3cc6fc4fbd8967a": {
     "views": []
    },
    "c7a4497645f84ef8a8340cbb5ea98505": {
     "views": []
    },
    "c7b1d5c2dfb3492e93435d83fbf15227": {
     "views": []
    },
    "c8578d5d959a4449b82041a984618319": {
     "views": []
    },
    "c8a641d0c03c4761ac8dff4aab86bb72": {
     "views": []
    },
    "c9aa755e4ff34d20802371a60b506172": {
     "views": []
    },
    "c9e11a695412469eafe863fa978393a7": {
     "views": []
    },
    "c9f3fc9944b54d02a67710ac45c91133": {
     "views": []
    },
    "ca63b81d489542609124b55b53049451": {
     "views": []
    },
    "cb3a2c71f6b54346b7e8a0d85bdafce0": {
     "views": []
    },
    "cb5480558d02415e8dad816f78a80600": {
     "views": []
    },
    "cb7d60b44df8437e9a1fabba62e71a89": {
     "views": []
    },
    "cbaea2a8ef704e8db0f3d3adbdcb4467": {
     "views": [
      {
       "cell_index": 9
      }
     ]
    },
    "cc87f8fec69c4a0982e029800893984d": {
     "views": [
      {
       "cell_index": 9
      }
     ]
    },
    "cce9a014c4c641baa145478c46291391": {
     "views": []
    },
    "ccec20d7cd564ec1917ea027f8aba831": {
     "views": []
    },
    "cd097fad333748beb8c45b37251b9ac7": {
     "views": []
    },
    "cd958fc08bb343e8bd38c81126a023a6": {
     "views": []
    },
    "cdcb6167404245c4ba768a5b96c566c2": {
     "views": [
      {
       "cell_index": 9
      }
     ]
    },
    "ce0737b16ec84f47a13ddc9b9ce00d75": {
     "views": []
    },
    "ce36d264a50e4f258e21c1e4cda43b7d": {
     "views": []
    },
    "ce3ec4216d9d4bf0a0851be3343a05dd": {
     "views": []
    },
    "ced591b1b34a46b4a052a32666a91a8c": {
     "views": []
    },
    "ceeba1874e5b48358a2d3a43e9e2f72a": {
     "views": []
    },
    "cf0efc0854d24d238fee31490f247317": {
     "views": []
    },
    "cf0f0a20bca2494b9773cbe243d5b2fe": {
     "views": []
    },
    "cf6891b5d2f64ad8b51b2c5007c7f5dd": {
     "views": []
    },
    "cf6a6907062a440298d8575084ba0760": {
     "views": []
    },
    "cfa4f3f668b242f58f6604ce2827dd3a": {
     "views": [
      {
       "cell_index": 11
      }
     ]
    },
    "d02edeaf73d842739c8623f69868c53a": {
     "views": []
    },
    "d083219d344b465e916648b8aad1d4ca": {
     "views": []
    },
    "d0a62ee5f0634db496804bf3e33cdcfe": {
     "views": []
    },
    "d133ce85161c444196b7d52c08d1baa7": {
     "views": []
    },
    "d1663363164245d0a3ce1cce990a6d2b": {
     "views": []
    },
    "d1cbc54bc12243a1b73da7aaf92436b3": {
     "views": []
    },
    "d217a2dd2b854f77abd31d46c98c574c": {
     "views": [
      {
       "cell_index": 9
      }
     ]
    },
    "d23030d96d2a46ccba8e7779f3cdf481": {
     "views": []
    },
    "d3b4ec3584724adc87d300b9310266f2": {
     "views": []
    },
    "d3d749c4891d41baabc14d6317211195": {
     "views": []
    },
    "d4561673d41d4a6fad83792d0b60cff9": {
     "views": []
    },
    "d4578c440b574e8db71660833d94c3dd": {
     "views": []
    },
    "d4ec28875afd4f55837b7dfbf67a3a6c": {
     "views": []
    },
    "d4fb494a18ff4476b0e4aa3a394673a0": {
     "views": []
    },
    "d61b5038670248e0a3f786999be51291": {
     "views": []
    },
    "d61dbdb4053245a7af083882481a8d87": {
     "views": []
    },
    "d62ae1468e6b44fd9e019f389bd59a09": {
     "views": []
    },
    "d64eb4495cbf4593b52e57d77f29ffdc": {
     "views": []
    },
    "d7f44718d387469e8ab4fcc4cdff20b6": {
     "views": []
    },
    "d804c765ac9d4461bf4109e25d70912a": {
     "views": []
    },
    "d83e39e7a9834debbb0d939c8a615242": {
     "views": []
    },
    "da026a900d024929bcd2d5b8b3c9121d": {
     "views": []
    },
    "da40a29c3a94444bbf6e6f4922c355ba": {
     "views": []
    },
    "dab87159d11649b7a61ad3b083c14890": {
     "views": []
    },
    "daf86fe15c7e4158832d2af23d42fee6": {
     "views": []
    },
    "db744ab9d62e495b8bc1809ca6c385a8": {
     "views": []
    },
    "dcb0046498074236af11a3dda0e81ca2": {
     "views": []
    },
    "dd57544dc3a144b487df059e54c58da5": {
     "views": []
    },
    "dd968f3d2e7d4126b65f9cacf377d388": {
     "views": []
    },
    "de04036f071448708a7677a89c51b25d": {
     "views": []
    },
    "ded85af62dd44208b92db2da7a82d3f7": {
     "views": []
    },
    "df4deba404774c809585c196eeedbda6": {
     "views": []
    },
    "e0d92033a0ac4a479fcfd97c777f8eca": {
     "views": []
    },
    "e1c68ae638fa43de9e63e918c0d69e33": {
     "views": []
    },
    "e1e8afa414204ed6891ee6df8e97a60f": {
     "views": []
    },
    "e2700f3957c6463ba6530102ab5c39e6": {
     "views": []
    },
    "e290e058c96f4ac1930b9910141eba8d": {
     "views": []
    },
    "e2cd91a63d7147d4b8667cb32259eb12": {
     "views": []
    },
    "e2fcb154316a4f708434960efc07d5fc": {
     "views": []
    },
    "e3706fcf23494dde8bd80defab46f5ef": {
     "views": []
    },
    "e4b0d5ad94724964a7e3be30c1c0de30": {
     "views": []
    },
    "e4c4646992604690a4913d638ea52b56": {
     "views": []
    },
    "e4da3e00e1594c738830e972b922ec43": {
     "views": []
    },
    "e51c32bf96dd4972967477da6439b52d": {
     "views": []
    },
    "e535fa01c5004a01a6e98d63b3e90130": {
     "views": []
    },
    "e5502d9511f341cc8a479c0646f9fd79": {
     "views": []
    },
    "e56a7c79f2854aeba09efe936bdfbac2": {
     "views": []
    },
    "e5ac923b3ae040fbb1f6f817a49df8e3": {
     "views": []
    },
    "e61c000001f5406cbbf2b11359672d9b": {
     "views": []
    },
    "e63414895ea64eeb8de87aa386698dfc": {
     "views": []
    },
    "e64be17b58534f54a8dcba39ff04e671": {
     "views": []
    },
    "e6bd9df922924218bbff05e8dbefb643": {
     "views": [
      {
       "cell_index": 12
      }
     ]
    },
    "e7a442626a6740c7b33eeb53402713f0": {
     "views": [
      {
       "cell_index": 9
      }
     ]
    },
    "e8025de2d710439fbbbc2c58fb2d5d41": {
     "views": []
    },
    "e8087129d01d4e628accf381f2898f14": {
     "views": []
    },
    "e83d3a5ccf7c4a539fa86156c8fa3d91": {
     "views": []
    },
    "e84d57d9c1484fb9b60a03cc42dfcfa9": {
     "views": []
    },
    "e95234b3e9664f2f895f2020c3679415": {
     "views": []
    },
    "e953467dcaa14ef7a72b80be9b5704ca": {
     "views": []
    },
    "ea134c1f3c4645608d7c5244a654d057": {
     "views": []
    },
    "ea65e000b973442d83147c2f2c6880b2": {
     "views": []
    },
    "eb09717b67a64eb2ad781dc8545abc38": {
     "views": []
    },
    "eb4114e813ce49029b0a44a85a8f046d": {
     "views": []
    },
    "eb4914cdc5124e7bb5984fab67ff367a": {
     "views": []
    },
    "ebb847f9e42b476fbc1aa1cb45eef3c1": {
     "views": []
    },
    "ec102bbf621745eeb9d8af9a45ccf1a8": {
     "views": []
    },
    "ec24b83b09bb457db65efbc4cc171f26": {
     "views": []
    },
    "ec4dbba0feb94396864d20744026188b": {
     "views": []
    },
    "ec8f6580f7bd49fd93fd79510d76a826": {
     "views": []
    },
    "edac28f5b75844e9bdeeae5d939e6824": {
     "views": []
    },
    "edb8956dac164c43ad2550ff31fb41d0": {
     "views": []
    },
    "edd2ffd1dece4a93b0eaf2b5cade7360": {
     "views": []
    },
    "ee2a5a7f49584fffbb61ba299533ec0f": {
     "views": []
    },
    "ef4b31205ded467b8ff5daf81529393c": {
     "views": []
    },
    "eff2c9c25cd54e20aec8e64c513467ff": {
     "views": []
    },
    "eff5ee1234684ca291dcb658d4d6ed1c": {
     "views": []
    },
    "f08026bd1d434eb8b2caf8d7c6c15e1f": {
     "views": []
    },
    "f0fc9bc7db2b4b64858b5217fcb7db34": {
     "views": []
    },
    "f1012f8710214fa186941320fd003721": {
     "views": []
    },
    "f3aa72248bf2474c9b34669d217d5dc8": {
     "views": [
      {
       "cell_index": 9
      }
     ]
    },
    "f3f1e73af00a4ac6b3357d2bb4832a10": {
     "views": []
    },
    "f5260abaf4b34e01b78b3714db277a33": {
     "views": []
    },
    "f6554abaebb844e8b37d37aa30dacc5b": {
     "views": []
    },
    "f7174734a6f94d73bf90611e181d3a82": {
     "views": []
    },
    "f7c3de0b2054446898b0e0d264880d37": {
     "views": []
    },
    "f7e106171c1146318f4d27e11377e608": {
     "views": []
    },
    "f7f11f37bc15439ea834e4f907331206": {
     "views": []
    },
    "f802a8372a1d40318b13f7344a98220e": {
     "views": []
    },
    "f80bb12288354e5c93968263fb186d09": {
     "views": [
      {
       "cell_index": 9
      }
     ]
    },
    "f8f6eebbb55b4122b84c4a8c80215db3": {
     "views": []
    },
    "f9b4846e9fb440d398b1c2031e5724e8": {
     "views": []
    },
    "f9d46e6c568c4eb3880b56b021a0df4c": {
     "views": []
    },
    "fa58c39f98ad464c91ebd90137ec5a1a": {
     "views": []
    },
    "fa623abfa9d6405aa2c9e0d6594f1f5c": {
     "views": []
    },
    "fa95b68ce0f64aab82eb97cd348b0d6f": {
     "views": []
    },
    "fafa9e580858409a86c3ad22bf408a8e": {
     "views": []
    },
    "fc913298712b47339b313ddbc41d580d": {
     "views": []
    },
    "fe0fa6c2cbe94f958f06f94a26affdaa": {
     "views": []
    },
    "fe3bb5431a7740bdbb4ced1bf0dbffee": {
     "views": []
    },
    "fe46bc24a6fb41249f8f48416f39eb5b": {
     "views": [
      {
       "cell_index": 9
      }
     ]
    },
    "fe9ea3a0aa94428faa4522756d520ad4": {
     "views": []
    },
    "ff4209d9f911489cba003e8fc67f5185": {
     "views": []
    },
    "ffec0598fadc4b4288d0519eaf480ed3": {
     "views": []
    }
   },
   "version": "1.1.1"
  }
 },
 "nbformat": 4,
 "nbformat_minor": 0
}
