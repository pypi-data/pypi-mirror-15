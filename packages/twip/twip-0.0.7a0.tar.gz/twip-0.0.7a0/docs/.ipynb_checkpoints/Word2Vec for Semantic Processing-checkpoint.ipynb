{
 "cells": [
  {
   "cell_type": "code",
   "execution_count": null,
   "metadata": {
    "collapsed": true
   },
   "outputs": [],
   "source": [
    "!pip install gensim\n",
    "from gensim.models import Word2Vec"
   ]
  },
  {
   "cell_type": "markdown",
   "metadata": {},
   "source": [
    "# Loading a Model\n",
    "\n",
    "Google trained the Word2Vec skipgram model on a ton of Google News articles  \n",
    "Model is 3G uncompressed so this will take a couple minutes, go get a coffee...  "
   ]
  },
  {
   "cell_type": "code",
   "execution_count": 1,
   "metadata": {
    "collapsed": false
   },
   "outputs": [],
   "source": [
    "wv = Word2Vec.load_word2vec_format('/home/hobson/Downloads/GoogleNews-vectors-negative300.bin.gz', binary=True)"
   ]
  },
  {
   "cell_type": "code",
   "execution_count": 34,
   "metadata": {
    "collapsed": false
   },
   "outputs": [
    {
     "data": {
      "text/plain": [
       "[(u'queen', 0.711819589138031),\n",
       " (u'monarch', 0.6189677119255066),\n",
       " (u'princess', 0.5902431011199951),\n",
       " (u'crown_prince', 0.5499463081359863)]"
      ]
     },
     "execution_count": 34,
     "metadata": {},
     "output_type": "execute_result"
    }
   ],
   "source": [
    "wv.most_similar(positive=['king', 'woman'], negative=['man'])[:4]"
   ]
  },
  {
   "cell_type": "code",
   "execution_count": 35,
   "metadata": {
    "collapsed": false
   },
   "outputs": [
    {
     "data": {
      "text/plain": [
       "[(u'princess', 0.7041179537773132),\n",
       " (u'duchess', 0.6229751110076904),\n",
       " (u'monarch', 0.6019776463508606),\n",
       " (u'Queen_Consort', 0.5901831984519958)]"
      ]
     },
     "execution_count": 35,
     "metadata": {},
     "output_type": "execute_result"
    }
   ],
   "source": [
    "wv.most_similar(positive=['prince', 'woman'], negative=['man'])[:4]"
   ]
  },
  {
   "cell_type": "code",
   "execution_count": 38,
   "metadata": {
    "collapsed": false
   },
   "outputs": [
    {
     "data": {
      "text/plain": [
       "[(u'Royalty', 0.5377441644668579),\n",
       " (u'lords', 0.5285096168518066),\n",
       " (u'royalties', 0.49976375699043274),\n",
       " (u'queen', 0.49964314699172974),\n",
       " (u'princess', 0.49909472465515137),\n",
       " (u'Queen_Consort', 0.4874693751335144),\n",
       " (u'vampires_lurking', 0.4812909960746765),\n",
       " (u'handmaid', 0.48073622584342957),\n",
       " (u'noblemen', 0.4779472053050995),\n",
       " (u'very_pampered_McElhatton', 0.47529909014701843)]"
      ]
     },
     "execution_count": 38,
     "metadata": {},
     "output_type": "execute_result"
    }
   ],
   "source": [
    "wv.most_similar(positive=['lord', 'royalty', 'woman'], negative=['man'])"
   ]
  },
  {
   "cell_type": "code",
   "execution_count": 39,
   "metadata": {
    "collapsed": false
   },
   "outputs": [
    {
     "data": {
      "text/plain": [
       "[(u'manor_house', 0.566051185131073),\n",
       " (u'bedchamber', 0.5568591952323914),\n",
       " (u'lords', 0.555293083190918),\n",
       " (u'castle', 0.5414100885391235),\n",
       " (u'Viscountess', 0.5305901169776917),\n",
       " (u'baroness', 0.52792888879776),\n",
       " (u'aristo', 0.5237292647361755),\n",
       " (u'chatelaine', 0.5204670429229736),\n",
       " (u'gentlewoman', 0.5187667608261108),\n",
       " (u'manors', 0.5181090831756592)]"
      ]
     },
     "execution_count": 39,
     "metadata": {},
     "output_type": "execute_result"
    }
   ],
   "source": [
    "wv.most_similar(positive=['lord', 'manor', 'woman'], negative=['man'])"
   ]
  },
  {
   "cell_type": "code",
   "execution_count": 33,
   "metadata": {
    "collapsed": false
   },
   "outputs": [
    {
     "data": {
      "text/plain": [
       "[(u'king', 0.6958589553833008),\n",
       " (u'kings', 0.5950948596000671),\n",
       " (u'queens', 0.5838503241539001),\n",
       " (u'monarch', 0.5398427844047546)]"
      ]
     },
     "execution_count": 33,
     "metadata": {},
     "output_type": "execute_result"
    }
   ],
   "source": [
    "wv.most_similar(positive=['queen', 'man'], negative=['woman'])[:4]"
   ]
  },
  {
   "cell_type": "code",
   "execution_count": null,
   "metadata": {
    "collapsed": true
   },
   "outputs": [],
   "source": []
  },
  {
   "cell_type": "markdown",
   "metadata": {},
   "source": [
    "## Role Subleties\n",
    "\n",
    "Searching for a \"Financial Controller\" resume/person is tricky  \n",
    "You don't want to confuse that with an \"Accounting Manager\"  \n",
    "And definitely not \"Account Manager\"\n",
    "But Jesse's example indicates we're already doing OK with separating these into distinct topics.\n",
    "Nonetheless, let's see what GoogleNews Word2Vec thinks of these titles and try to incorporate experience into the mix.\n"
   ]
  },
  {
   "cell_type": "markdown",
   "metadata": {},
   "source": [
    "# API\n",
    "\n",
    "Not much documentation, so let's play!  \n",
    "Word2Vec can only handle lists of words  \n",
    "And words have to be in its vocabulary  "
   ]
  },
  {
   "cell_type": "code",
   "execution_count": 2,
   "metadata": {
    "collapsed": false
   },
   "outputs": [
    {
     "ename": "KeyError",
     "evalue": "\"word 'a' not in vocabulary\"",
     "output_type": "error",
     "traceback": [
      "\u001b[1;31m---------------------------------------------------------------------------\u001b[0m",
      "\u001b[1;31mKeyError\u001b[0m                                  Traceback (most recent call last)",
      "\u001b[1;32m<ipython-input-2-92413457c060>\u001b[0m in \u001b[0;36m<module>\u001b[1;34m()\u001b[0m\n\u001b[1;32m----> 1\u001b[1;33m \u001b[0mwv\u001b[0m\u001b[1;33m.\u001b[0m\u001b[0mmost_similar\u001b[0m\u001b[1;33m(\u001b[0m\u001b[0mpositive\u001b[0m\u001b[1;33m=\u001b[0m\u001b[1;33m[\u001b[0m\u001b[1;34m'accounting'\u001b[0m\u001b[1;33m,\u001b[0m \u001b[1;34m'manager'\u001b[0m\u001b[1;33m]\u001b[0m\u001b[1;33m,\u001b[0m \u001b[0mnegative\u001b[0m\u001b[1;33m=\u001b[0m\u001b[1;34m'assistant'\u001b[0m\u001b[1;33m)\u001b[0m\u001b[1;33m\u001b[0m\u001b[0m\n\u001b[0m",
      "\u001b[1;32m/home/hobson/.virtualenvs/tp/local/lib/python2.7/site-packages/gensim/models/word2vec.pyc\u001b[0m in \u001b[0;36mmost_similar\u001b[1;34m(self, positive, negative, topn, restrict_vocab)\u001b[0m\n\u001b[0;32m   1172\u001b[0m                 \u001b[0mall_words\u001b[0m\u001b[1;33m.\u001b[0m\u001b[0madd\u001b[0m\u001b[1;33m(\u001b[0m\u001b[0mself\u001b[0m\u001b[1;33m.\u001b[0m\u001b[0mvocab\u001b[0m\u001b[1;33m[\u001b[0m\u001b[0mword\u001b[0m\u001b[1;33m]\u001b[0m\u001b[1;33m.\u001b[0m\u001b[0mindex\u001b[0m\u001b[1;33m)\u001b[0m\u001b[1;33m\u001b[0m\u001b[0m\n\u001b[0;32m   1173\u001b[0m             \u001b[1;32melse\u001b[0m\u001b[1;33m:\u001b[0m\u001b[1;33m\u001b[0m\u001b[0m\n\u001b[1;32m-> 1174\u001b[1;33m                 \u001b[1;32mraise\u001b[0m \u001b[0mKeyError\u001b[0m\u001b[1;33m(\u001b[0m\u001b[1;34m\"word '%s' not in vocabulary\"\u001b[0m \u001b[1;33m%\u001b[0m \u001b[0mword\u001b[0m\u001b[1;33m)\u001b[0m\u001b[1;33m\u001b[0m\u001b[0m\n\u001b[0m\u001b[0;32m   1175\u001b[0m         \u001b[1;32mif\u001b[0m \u001b[1;32mnot\u001b[0m \u001b[0mmean\u001b[0m\u001b[1;33m:\u001b[0m\u001b[1;33m\u001b[0m\u001b[0m\n\u001b[0;32m   1176\u001b[0m             \u001b[1;32mraise\u001b[0m \u001b[0mValueError\u001b[0m\u001b[1;33m(\u001b[0m\u001b[1;34m\"cannot compute similarity with no input\"\u001b[0m\u001b[1;33m)\u001b[0m\u001b[1;33m\u001b[0m\u001b[0m\n",
      "\u001b[1;31mKeyError\u001b[0m: \"word 'a' not in vocabulary\""
     ]
    }
   ],
   "source": [
    "wv.most_similar(positive='accounting', negative='assistant')\n"
   ]
  },
  {
   "cell_type": "code",
   "execution_count": 5,
   "metadata": {
    "collapsed": false
   },
   "outputs": [
    {
     "data": {
      "text/plain": [
       "[(u'management', 0.45789608359336853),\n",
       " (u'bookkeeping', 0.4465567171573639),\n",
       " (u'Accounting', 0.42400312423706055),\n",
       " (u'financial', 0.4076482951641083),\n",
       " (u'reaudit', 0.4070892632007599),\n",
       " (u'auditor_PricewaterhouseCoopers', 0.40177658200263977),\n",
       " (u'auditing', 0.40061938762664795),\n",
       " (u'accouting', 0.3843485713005066),\n",
       " (u'auditors', 0.3802516460418701),\n",
       " (u'telemanagement', 0.3789411783218384)]"
      ]
     },
     "execution_count": 5,
     "metadata": {},
     "output_type": "execute_result"
    }
   ],
   "source": [
    "wv.most_similar(positive=['accounting', 'manager'], negative=['assistant'])"
   ]
  },
  {
   "cell_type": "markdown",
   "metadata": {},
   "source": [
    "# Experience\n",
    "\n",
    "Experience/seniority is hard to gage with conventional LSI"
   ]
  },
  {
   "cell_type": "code",
   "execution_count": 4,
   "metadata": {
    "collapsed": false
   },
   "outputs": [
    {
     "data": {
      "text/plain": [
       "[(u'Seasoned', 0.48187750577926636),\n",
       " (u'battle_hardened', 0.46579524874687195),\n",
       " (u'Veteran', 0.4184524118900299),\n",
       " (u'grizzled', 0.417761892080307),\n",
       " (u'Experienced', 0.4102126955986023),\n",
       " (u'Adaptec_Xiotech', 0.3866291046142578),\n",
       " (u'diplomat_Youssouf_Bamba', 0.35902515053749084),\n",
       " (u'talented', 0.3475584089756012),\n",
       " (u'wily', 0.34552958607673645),\n",
       " (u'complements_Altairnano_leading', 0.34324511885643005)]"
      ]
     },
     "execution_count": 4,
     "metadata": {},
     "output_type": "execute_result"
    }
   ],
   "source": [
    "wv.most_similar(positive=['experienced', 'senior', 'seasoned', 'veteran'], negative=['junior', 'intern', 'assistant'])"
   ]
  },
  {
   "cell_type": "code",
   "execution_count": 6,
   "metadata": {
    "collapsed": false
   },
   "outputs": [
    {
     "data": {
      "text/plain": [
       "<gensim.models.word2vec.Word2Vec at 0x7f71800bb450>"
      ]
     },
     "execution_count": 6,
     "metadata": {},
     "output_type": "execute_result"
    }
   ],
   "source": [
    "wv"
   ]
  },
  {
   "cell_type": "markdown",
   "metadata": {},
   "source": [
    "# Quantified Self"
   ]
  },
  {
   "cell_type": "code",
   "execution_count": null,
   "metadata": {
    "collapsed": true
   },
   "outputs": [],
   "source": [
    ">>> list(w for w in wv.vocab if w.lower().startswith('quantified_'))\n",
    "[u'quantified_emission',\n",
    " u'Quantified_Publisher',\n",
    " u'Quantified_Marketing_Group',\n",
    " u'Quantified_Analysis',\n",
    " u'Quantified_Publisher_program',\n",
    " u'Quantified_Self']\n",
    ">>> wv.most_similar(positive=['Quantified_Self', 'journal', 'diary'])\n",
    "[(u'diaries', 0.679690957069397),\n",
    " (u'journals', 0.6234577894210815),\n",
    " (u'journal_Genome_Biology', 0.5596049427986145),\n",
    " (u'Preventing_Chronic_Disease', 0.5553246140480042),\n",
    " (u'journal_Rheumatology', 0.5511202216148376),\n",
    " (u'diary_entries', 0.5450901389122009),\n",
    " (u'Personall_warns', 0.5413833856582642),\n",
    " (u'journal_PNAS', 0.5409928560256958),\n",
    " (u'journal_Menopause', 0.5374890565872192),\n",
    " (u'journal_PLOS', 0.5371968150138855)]\n",
    ">>> wv.most_similar(positive=['journal', 'diary', 'python', 'semantic', 'NLP'])\n",
    "[(u'journal_PNAS', 0.5335176587104797),\n",
    " (u'journals', 0.5311996340751648),\n",
    " (u'Personall_warns', 0.5287125110626221),\n",
    " (u'diaries', 0.5208494663238525),\n",
    " (u'Connotea', 0.5163055062294006),\n",
    " (u'PloS_Biology', 0.5094947218894958),\n",
    " (u'Wikipedia_encyclopedia', 0.5085359811782837),\n",
    " (u'journal_Neuropsychology', 0.5040772557258606),\n",
    " (u'journal_Behavioural_Ecology', 0.5029593110084534),\n",
    " (u'ontology', 0.5026495456695557)]\n",
    ">>> wv.most_similar(positive=['python', 'semantic_processing', 'meaning', 'NLP'])\n",
    ">>> wv.most_similar(positive=['python', 'semantic', 'processing', 'meaning', 'NLP'])\n",
    "[(u'inferencing', 0.6100273132324219),\n",
    " (u'regex', 0.5578750371932983),\n",
    " (u'semantics', 0.5554606914520264),\n",
    " (u'semantic_indexing', 0.5523117184638977),\n",
    " (u'PCRE', 0.5505284667015076),\n",
    " (u'semantically', 0.543846845626831),\n",
    " (u'XML_namespaces', 0.5346047282218933),\n",
    " (u'Extensible_Application_Markup_Language', 0.5326448082923889),\n",
    " (u'phonemic', 0.5311585068702698),\n",
    " (u'Boolean_operators', 0.5305431485176086)]\n",
    ">>> wv.most_similar(positive=['Python', 'python', 'semantic', 'processing', 'meaning', 'NLP'])\n",
    "[(u'inferencing', 0.6243683099746704),\n",
    " (u'PCRE', 0.6188617944717407),\n",
    " (u'regex', 0.6080276370048523),\n",
    " (u'parser', 0.5828561186790466),\n",
    " (u'XML_namespaces', 0.5820693373680115),\n",
    " (u'XML_parser', 0.5805317759513855),\n",
    " (u'XML_syntax', 0.5791804790496826),\n",
    " (u'TSQL', 0.5776033997535706),\n",
    " (u'DataWindow', 0.5756461024284363),\n",
    " (u'NET_CLR', 0.5726565718650818)]\n",
    ">>> wv.most_similar(positive=['Python', 'python', 'semantic', 'processing', 'meaning', 'NLP', 'pip', 'install'])\n",
    "[(u'NET_CLR', 0.6145628094673157),\n",
    " (u'PCRE', 0.6098397374153137),\n",
    " (u'swf_file', 0.6015275120735168),\n",
    " (u'TITLE_Debian_update', 0.5981236696243286),\n",
    " (u'inferencing', 0.5910664200782776),\n",
    " (u'XML_parser', 0.5868363380432129),\n",
    " (u'PHP_scripting', 0.5843981504440308),\n",
    " (u'HTML_CSS_JavaScript', 0.583228588104248),\n",
    " (u'remoting', 0.5813583731651306),\n",
    " (u'regex', 0.5790796279907227)]\n",
    ">>> wv.most_similar(positive=['Python', 'python', 'semantic', 'processing', 'meaning', 'NLP', 'pip', 'install', 'grammar'], negative=['regex', 'regular_expression'])\n",
    ">>> wv.most_similar(positive=['Python', 'python', 'semantic', 'processing', 'meaning', 'NLP', 'pip', 'install', 'grammar'], negative=['regex', 'regular', 'expression'])\n",
    "[(u'TSQL', 0.46374911069869995),\n",
    " (u'XML_XSLT', 0.46319350600242615),\n",
    " (u'HTML_CSS_JavaScript', 0.46195775270462036),\n",
    " (u'NET_CLR', 0.4589165151119232),\n",
    " (u'VisualBasic', 0.4558500051498413),\n",
    " (u'NET_framework', 0.454326868057251),\n",
    " (u'Perl_Python_Ruby', 0.4509257972240448),\n",
    " (u'inferencing', 0.44831690192222595),\n",
    " (u'mod_rewrite', 0.4465762674808502),\n",
    " (u'swf_file', 0.4453127682209015)]\n",
    ">>> wv.most_similar(positive=['Python', 'python', 'semantic', 'processing', 'meaning', 'NLP', 'pip', 'install', 'grammar'], negative=['regex', 'regular', 'expression', 'Microsoft])\n",
    ">>> wv.most_similar(positive=['open_source', 'Python', 'python', 'semantic', 'processing', 'meaning', 'NLP', 'pip', 'install', 'grammar'], negative=['regex', 'regular', 'expression', 'Microsoft'])\n",
    ">>> wv.most_similar(positive=['Open_Source', 'Python', 'python', 'semantic', 'processing', 'meaning', 'NLP', 'pip', 'install', 'grammar'], negative=['regex', 'regular', 'expression', 'Microsoft'])\n",
    "[(u'XML_XSLT', 0.4880766272544861),\n",
    " (u'HTML_CSS_JavaScript', 0.4751140773296356),\n",
    " (u'Java_JSP', 0.46583420038223267),\n",
    " (u'inferencing', 0.4654781222343445),\n",
    " (u'Perl_Python', 0.4650688171386719),\n",
    " (u'Perl_Python_Ruby', 0.4642208516597748),\n",
    " (u'TSQL', 0.458888977766037),\n",
    " (u'Actionscript', 0.45879411697387695),\n",
    " (u'mod_rewrite', 0.4582417905330658),\n",
    " (u'NET_framework', 0.4580802023410797)]\n",
    ">>> wv.most_similar(positive=['Cyc', 'OpenCog', 'Open_Source', 'Python', 'python', 'semantic', 'processing', 'meaning', 'NLP', 'pip', 'install', 'grammar'], negative=['regex', 'regular', 'expression', 'Microsoft'])\n",
    ">>> wv.most_similar(positive=['Cyc', 'Cog', 'Open_Source', 'Python', 'python', 'semantic', 'processing', 'meaning', 'NLP', 'pip', 'install', 'grammar'], negative=['regex', 'regular', 'expression', 'Microsoft'])\n",
    "[(u'XML_XSLT', 0.5321134924888611),\n",
    " (u'Java_JSP', 0.5281328558921814),\n",
    " (u'inferencing', 0.5163978338241577),\n",
    " (u'HTML_CSS_JavaScript', 0.512594997882843),\n",
    " (u'Actionscript', 0.5115547180175781),\n",
    " (u'Object_Oriented', 0.5094218850135803),\n",
    " (u'Query_Language', 0.508894145488739),\n",
    " (u'mod_rewrite', 0.5063719749450684),\n",
    " (u'MochiKit', 0.5052181482315063),\n",
    " (u'NET_CLR', 0.5049869418144226)]\n",
    ">>> wv.most_similar(positive=['Cyc', 'Cog', 'Open_Source', 'Python', 'python', 'semantic', 'processing', 'meaning', 'NLP', 'pip', 'install', 'grammar'], negative=['regex', 'regular', 'expression', 'Microsoft', 'TSQL'])\n",
    "[(u'inferencing', 0.4273879826068878),\n",
    " (u'Assembler', 0.4221707284450531),\n",
    " (u'Literal_translation', 0.42108485102653503),\n",
    " (u'XML_XSLT', 0.420962393283844),\n",
    " (u'Java_JSP', 0.4199409484863281),\n",
    " (u'HTML_CSS_JavaScript', 0.4166453182697296),\n",
    " (u'Schrodinger', 0.416521817445755),\n",
    " (u'Actionscript', 0.4158591628074646),\n",
    " (u'Semantic', 0.4158053696155548),\n",
    " (u'Perl_Python', 0.41291189193725586)]\n",
    ">>> wv.most_similar(positive=['Cyc', 'Cog', 'Open_Source', 'Python', 'python', 'semantic', 'Semantic', 'Natural_Language_Processing', 'processing', 'meaning', 'NLP', 'pip', 'install', 'grammar'], negative=['regex', 'regular', 'expression', 'Microsoft', 'TSQL'])\n",
    ">>> wv.most_similar(positive=['Cyc', 'Cog', 'Open_Source', 'Python', 'python', 'semantic', 'Semantic', 'natural_language', 'processing', 'meaning', 'NLP', 'pip', 'install', 'grammar'], negative=['regex', 'regular', 'expression', 'Microsoft', 'TSQL'])\n",
    ">>> wv.most_similar(positive=['Cyc', 'Cog', 'Open_Source', 'Python', 'python', 'semantic', 'Semantic', 'language', 'ai', 'chatbot', 'chatterbot', 'processing', 'meaning', 'NLP', 'pip', 'install', 'grammar'], negative=['regex', 'regular', 'expression', 'Microsoft', 'TSQL'])\n",
    ">>> wv.most_similar(positive=['Cyc', 'Cog', 'Open_Source', 'Python', 'python', 'semantic', 'Semantic', 'language', 'ai', 'chatbot', 'chat', 'processing', 'meaning', 'NLP', 'pip', 'install', 'grammar'], negative=['regex', 'regular', 'expression', 'Microsoft', 'TSQL'])\n",
    "[(u'Bing_Translator', 0.5751106142997742),\n",
    " (u'Python_programming', 0.5679047703742981),\n",
    " (u'inferencing', 0.5638830065727234),\n",
    " (u'processing_NLP', 0.5546227693557739),\n",
    " (u'XML_XSLT', 0.5532411336898804),\n",
    " (u'chatbots', 0.5529900193214417),\n",
    " (u'WordNet', 0.5514096617698669),\n",
    " (u'HTML_CSS_JavaScript', 0.5490512847900391),\n",
    " (u'HTML_CSS_Javascript', 0.5486903190612793),\n",
    " (u'mathematical_notation', 0.5454741716384888)]\n",
    ">>> wv.most_similar(positive=['Cyc', 'Cog', 'Open_Source', 'Python', 'python', 'semantic', 'Semantic', 'language', 'ai', 'chatbot', 'chat', 'processing', 'meaning', 'NLP', 'pip', 'install', 'grammar'], negative=['regex', 'regular', 'expression', 'Microsoft', 'TSQL', 'Bing'])\n",
    "[(u'inferencing', 0.5493630170822144),\n",
    " (u'processing_NLP', 0.5458688735961914),\n",
    " (u'XML_XSLT', 0.5446382761001587),\n",
    " (u'Python_programming', 0.542436957359314),\n",
    " (u'phonemic', 0.5351700186729431),\n",
    " (u'Bing_Translator', 0.533650279045105),\n",
    " (u'Ontologies', 0.5321763157844543),\n",
    " (u'Java_JSP', 0.5291105508804321),\n",
    " (u'Object_Oriented', 0.5287489295005798),\n",
    " (u'mathematical_notation', 0.5272959470748901)]\n",
    ">>> wv.most_similar(positive=['Cyc', 'Cog', 'Open_Source', 'Python', 'python', 'semantic', 'Semantic', 'language', 'ai', 'chatbot', 'chat', 'processing', 'meaning', 'NLP', 'pip', 'install', 'grammar'], negative=['regex', 'regular', 'expression', 'Microsoft', 'TSQL', 'Bing', 'translate'])\n",
    "[(u'inferencing', 0.5338713526725769),\n",
    " (u'XML_XSLT', 0.5273652076721191),\n",
    " (u'Ontologies', 0.5210939049720764),\n",
    " (u'processing_NLP', 0.5178764462471008),\n",
    " (u'Python_programming', 0.5158846378326416),\n",
    " (u'chatbots', 0.5153536200523376),\n",
    " (u'Java_JSP', 0.5145242214202881),\n",
    " (u'Bing_Translator', 0.5135848522186279),\n",
    " (u'Object_Oriented', 0.5110706090927124),\n",
    " (u'mathematical_notation', 0.5103068351745605)]\n",
    ">>> wv.most_similar(positive=['Cyc', 'Cog', 'Open_Source', 'Python', 'python', 'semantic', 'Semantic', 'language', 'ai', 'chatbot', 'chat', 'processing', 'meaning', 'NLP', 'pip', 'install', 'grammar'], negative=['statistical'])\n",
    "[(u'Python_programming', 0.6736586093902588),\n",
    " (u'PHP_scripting', 0.6660847663879395),\n",
    " (u'Bing_Translator', 0.6640334725379944),\n",
    " (u'regex', 0.6583566069602966),\n",
    " (u'NET_CLR', 0.6578915119171143),\n",
    " (u'semantic_markup', 0.657026469707489),\n",
    " (u'HTML_CSS_Javascript', 0.6541556715965271),\n",
    " (u'XML_syntax', 0.6483075618743896),\n",
    " (u'TITLE_Debian_update', 0.6467106938362122),\n",
    " (u'XML_XSLT', 0.6464080810546875)]\n",
    ">>> wv.most_similar(positive=['Cyc', 'Cog', 'Open_Source', 'Python', 'python', 'semantic', 'Semantic', 'language', 'ai', 'chatbot', 'chat', 'processing', 'meaning', 'NLP', 'pip', 'install', 'statistical'], negative=['grammar'])\n",
    "[(u'NET_CLR', 0.6777916550636292),\n",
    " (u'Bing_Translator', 0.6773670315742493),\n",
    " (u'PHP_scripting', 0.6669802665710449),\n",
    " (u'TITLE_Debian_update', 0.6665417551994324),\n",
    " (u'inferencing', 0.6656586527824402),\n",
    " (u'HTML_CSS_Javascript', 0.6646273136138916),\n",
    " (u'regex', 0.6629053354263306),\n",
    " (u'Python_programming', 0.6611731648445129),\n",
    " (u'NET_Remoting', 0.6532155871391296),\n",
    " (u'ASPX', 0.6508787870407104)]\n",
    ">>> wv.most_similar(positive=['Cyc', 'Cog', 'Open_Source', 'Python', 'python', 'semantic', 'Semantic', 'language', 'ai', 'chatbot', 'chat', 'processing', 'meaning', 'NLP', 'statistical'], negative=['grammar'])\n",
    "[(u'Bing_Translator', 0.6794119477272034),\n",
    " (u'inferencing', 0.6737903356552124),\n",
    " (u'regex', 0.669569194316864),\n",
    " (u'Python_programming', 0.6642642617225647),\n",
    " (u'HTML_CSS_Javascript', 0.6585268378257751),\n",
    " (u'XML_syntax', 0.6508367657661438),\n",
    " (u'semantic_indexing', 0.6507266759872437),\n",
    " (u'NET_CLR', 0.6478333473205566),\n",
    " (u'XML_eXtensible_Markup_Language', 0.6444374322891235),\n",
    " (u'Declarative', 0.6437892317771912)]\n",
    ">>> wv.most_similar(positive=['Cyc', 'Cog', 'Open_Source', 'Python', 'python', 'semantic', 'Semantic', 'language', 'ai', 'chatbot', 'chat', 'processing', 'meaning', 'NLP', 'NLTK', 'statistical'], negative=['grammar'])\n",
    ">>> wv.most_similar(positive=['Cyc', 'Cog', 'Open_Source', 'Python', 'python', 'semantic', 'Semantic', 'language', 'ai', 'chatbot', 'chat', 'processing', 'meaning', 'NLP', 'nltk', 'statistical'], negative=['grammar'])\n",
    ">>> wv.most_similar(positive=['Cyc', 'Cog', 'Open_Source', 'Python', 'python', 'semantic', 'Semantic', 'language', 'ai', 'chatbot', 'chat', 'processing', 'meaning', 'statistical'], negative=['grammar'])\n",
    "[(u'Bing_Translator', 0.6709335446357727),\n",
    " (u'regex', 0.6649294495582581),\n",
    " (u'inferencing', 0.6554071307182312),\n",
    " (u'Python_programming', 0.6519725322723389),\n",
    " (u'NET_CLR', 0.6503692269325256),\n",
    " (u'HTML_CSS_Javascript', 0.6472666263580322),\n",
    " (u'ASPX', 0.6460676789283752),\n",
    " (u'semantic_indexing', 0.6457715630531311),\n",
    " (u'PHP_scripting', 0.6413751244544983),\n",
    " (u'XML_syntax', 0.6399379968643188)]\n",
    ">>> wv.most_similar(positive=['Cyc', 'Cog', 'Open_Source', 'Python', 'python', 'semantic', 'Semantic', 'language', 'ai', 'chatbot', 'chat', 'processing', 'meaning', 'statistical', 'semantic_indexing'], negative=['grammar'])\n",
    "[(u'Bing_Translator', 0.686427116394043),\n",
    " (u'regex', 0.6840069890022278),\n",
    " (u'inferencing', 0.6776837110519409),\n",
    " (u'NET_CLR', 0.6666378378868103),\n",
    " (u'ASPX', 0.6647640466690063),\n",
    " (u'TITLE_Debian_update', 0.6628689765930176),\n",
    " (u'PHP_scripting', 0.6614559888839722),\n",
    " (u'Python_programming', 0.6613916158676147),\n",
    " (u'HTML_CSS_Javascript', 0.6609216332435608),\n",
    " (u'XML_eXtensible_Markup_Language', 0.6534264087677002)]"
   ]
  },
  {
   "cell_type": "markdown",
   "metadata": {},
   "source": [
    "# \"Work\" Examples\n",
    "\n",
    "Many more job-description and resume experimentation..."
   ]
  },
  {
   "cell_type": "code",
   "execution_count": null,
   "metadata": {
    "collapsed": true
   },
   "outputs": [],
   "source": [
    ">>> wv.most_similar(positive=['I'm writing you to tell you about a controls engineering position'.split()])\n",
    ">>> wv.most_similar(positive='I'm writing you to tell you about a controls engineering position'.split())\n",
    ">>> wv.most_similar(positive=\"I'm writing you to share an exciting controls engineering position\".split())\n",
    ">>> wv.most_similar(positive=[word for word in \"I'm writing you to share an exciting controls engineering position\".split() if word in wv.vocab])\n",
    "[(u'GREG_POTTER_Yes', 0.6036309599876404),\n",
    " (u'Tell_Squawk_Box', 0.5839766263961792),\n",
    " (u'Johnnie_Baston_die', 0.5787606835365295),\n",
    " (u'KIM_CLIJSTERS_Yeah', 0.5732205510139465),\n",
    " (u'visit_http://www.InvestorXchange.com/', 0.5702168941497803),\n",
    " (u'Woody_Allen_steamiest_WHAT', 0.5695632100105286),\n",
    " (u'A.It_s', 0.5645262598991394),\n",
    " (u'RYAN_BRISCOE_Yeah', 0.5644373893737793),\n",
    " (u'SYVJ', 0.5608713626861572),\n",
    " (u'RICHARD_SEDDON_Yes', 0.5565832853317261)]\n",
    ">>> wv.most_similar(positive=[word for word in \"I woke up this morning in a cold sweat\".split() if word in wv.vocab])\n",
    "[(u'just', 0.6093465089797974),\n",
    " (u'MCCORMACK_Good', 0.579656720161438),\n",
    " (u'MCCLELLAN_Good', 0.5783976912498474),\n",
    " (u'PAUL_GOYDOS', 0.5609423518180847),\n",
    " (u'VENUS_WILLIAMS_Yeah', 0.5485024452209473),\n",
    " (u'ANDY_RODDICK_Yeah', 0.5476027131080627),\n",
    " (u'Iknew', 0.5457181334495544),\n",
    " (u'NOVAK_DJOKOVIC_Yeah', 0.5450401306152344),\n",
    " (u'here', 0.5425702333450317),\n",
    " (u\"Haven'ta_clue\", 0.541614294052124)]\n",
    ">>> [word for word in \"I woke up this morning in a cold sweat\".split() if word in wv.vocab]\n",
    "['I', 'woke', 'up', 'this', 'morning', 'in', 'cold', 'sweat']\n",
    ">>> wv.most_similar(positive=['president', 'US']lit() if word in wv.vocab])\n",
    ">>> wv.most_similar(positive=[w for w in \"president Coca Cola\".split() if w in wv.vocab])\n",
    "[(u'Coca_Leaf', 0.5549520254135132),\n",
    " (u'Coca_Colla', 0.5522264838218689),\n",
    " (u'Antonorsi', 0.5152975916862488),\n",
    " (u'carbonated_drink', 0.4983137845993042),\n",
    " (u'cola', 0.49795979261398315),\n",
    " (u'SINALTRAINAL', 0.49342653155326843),\n",
    " (u'C._Goizueta', 0.49063336849212646),\n",
    " (u'Cerveceria', 0.48994216322898865),\n",
    " (u'coca_leaf_extract', 0.4865929186344147),\n",
    " (u'Inca_Kola', 0.47930026054382324)]\n",
    ">>> wv.most_similar(positive=[w for w in \"drug trafficer escape prison\".split() if w in wv.vocab])\n",
    "[(u'jail', 0.6418126821517944),\n",
    " (u'behind_bars', 0.6045365929603577),\n",
    " (u'Drug_trafficker', 0.583200216293335),\n",
    " (u'Chedadi_remains', 0.5773680210113525),\n",
    " (u'Inmate_pleads_guilty', 0.5726466774940491),\n",
    " (u'prision', 0.5664810538291931),\n",
    " (u'drugs', 0.5636002421379089),\n",
    " (u'Sentences_ranged', 0.5627965927124023),\n",
    " (u'penitentiary', 0.5623087286949158),\n",
    " (u'imprisoned', 0.5598907470703125)]\n",
    ">>> wv.most_similar(positive=[w for w in \"Mexico drug trafficker escape prison tunnel\".split() if w in wv.vocab])\n",
    "[(u'Drug_trafficker', 0.6166941523551941),\n",
    " (u'Mexico_extradites', 0.6048697829246521),\n",
    " (u'Venezuela_deports', 0.6035656929016113),\n",
    " (u'Tijuana_Arellano_Felix', 0.5865813493728638),\n",
    " (u'Colombia_extradites', 0.5794777274131775),\n",
    " (u'Barrio_Aztecas', 0.5761374235153198),\n",
    " (u'drug_traffickers', 0.575905978679657),\n",
    " (u'Osiel_C\\xe1rdenas', 0.5697848200798035),\n",
    " (u'immigrant_smuggler', 0.5657991766929626),\n",
    " (u'Inmate_pleads_guilty', 0.5607489347457886)]\n",
    ">>> wv.most_similar(positive=[w for w in \"Mexico drug_lord escape prison tunnel interview\".split() if w in wv.vocab])\n",
    "[(u'Venezuela_deports', 0.5613783597946167),\n",
    " (u'Lori_Berenson_freed', 0.5612064003944397),\n",
    " (u'Osiel_C\\xe1rdenas', 0.5577565431594849),\n",
    " (u'Mexico_extradites', 0.5497421026229858),\n",
    " (u'Jaime_Zea', 0.5388226509094238),\n",
    " (u'Tijuana_Arellano_Felix', 0.5388115048408508),\n",
    " (u'Drug_trafficker', 0.5375896096229553),\n",
    " (u'Colombia_extradites', 0.5353588461875916),\n",
    " (u'TIJUANA_Mexico_Mexican', 0.5338384509086609),\n",
    " (u'Garcia_Abrego', 0.5334235429763794)]\n",
    ">>> wv.most_similar(positive=[w for w in \"president Coca_Cola\".split() if w in wv.vocab])\n",
    "[(u'Clyde_Tuggle', 0.6030148863792419),\n",
    " (u'President', 0.5937890410423279),\n",
    " (u'Dominique_Reiniche', 0.5779064297676086),\n",
    " (u'Coca_cola', 0.575302004814148),\n",
    " (u'COO_Muhtar_Kent', 0.5741168856620789),\n",
    " (u'Irial_Finan', 0.5450145602226257),\n",
    " (u'Pepsi_Cola', 0.5417739152908325),\n",
    " (u'PepsiCola', 0.5405049920082092),\n",
    " (u'Dave_Burwick', 0.5402818322181702),\n",
    " (u'Coretha_Rushing', 0.5392255783081055)]\n",
    ">>> wv.most_similar(positive=[w for w in \"president Coca-Cola\".split() if w in wv.vocab])\n",
    "[(u'President', 0.8006275296211243),\n",
    " (u'chairman', 0.6708743572235107),\n",
    " (u'vice_president', 0.6700223684310913),\n",
    " (u'chief_executive', 0.6691274642944336),\n",
    " (u'CEO', 0.6590127348899841),\n",
    " (u'pesident', 0.6265208721160889),\n",
    " (u'Vice_President', 0.6216663718223572),\n",
    " (u'executive', 0.6182476878166199),\n",
    " (u'prez', 0.5761911273002625),\n",
    " (u'Presdient', 0.5718377232551575)]\n",
    ">>> wv.most_similar(positive=[w for w in \"president\".split() if w in wv.vocab])\n",
    "[(u'President', 0.8006275296211243),\n",
    " (u'chairman', 0.6708743572235107),\n",
    " (u'vice_president', 0.6700223684310913),\n",
    " (u'chief_executive', 0.6691274642944336),\n",
    " (u'CEO', 0.6590127348899841),\n",
    " (u'pesident', 0.6265208721160889),\n",
    " (u'Vice_President', 0.6216663718223572),\n",
    " (u'executive', 0.6182476878166199),\n",
    " (u'prez', 0.5761911273002625),\n",
    " (u'Presdient', 0.5718377232551575)]\n",
    ">>> wv.most_similar(positive=[w for w in \"United_States president\".split() if w in wv.vocab])\n",
    "[(u'President', 0.6767116189002991),\n",
    " (u'Untied_States', 0.5938775539398193),\n",
    " (u'Unites_States', 0.5932615995407104),\n",
    " (u'United_Sates', 0.5808603763580322),\n",
    " (u'America', 0.5688065886497498),\n",
    " (u'U.S.', 0.5165718793869019),\n",
    " (u'IG_TEC_;)_COUNTRY', 0.512824296951294),\n",
    " (u'IG_CGS_;)_COUNTRY', 0.5101122856140137),\n",
    " (u'IG_HCR_;)_COUNTRY', 0.505120575428009),\n",
    " (u'country', 0.4947447180747986)]\n",
    ">>> wv.most_similar(positive=[w for w in \"United_States president name\".split() if w in wv.vocab])\n",
    "[(u'President', 0.5657653212547302),\n",
    " (u'Unites_States', 0.5023374557495117),\n",
    " (u'America', 0.49729788303375244),\n",
    " (u'IG_TEC_;)_COUNTRY', 0.4781119227409363),\n",
    " (u'IG_HCR_;)_COUNTRY', 0.47755685448646545),\n",
    " (u'IG_CGS_;)_COUNTRY', 0.46990346908569336),\n",
    " (u'Untied_States', 0.46847596764564514),\n",
    " (u'IG_FSV_;)_COUNTRY', 0.4617965817451477),\n",
    " (u'United_Sates', 0.4611641466617584),\n",
    " (u'Khorasan_refers', 0.45695751905441284)]\n",
    ">>> wv.most_similar(positive=[w for w in \"United_States Mr President\".split() if w in wv.vocab])\n",
    "[(u'president', 0.6027348041534424),\n",
    " (u'Mr.', 0.6019484400749207),\n",
    " (u'Vice_President', 0.5279899835586548),\n",
    " (u'Preisdent', 0.5090745687484741),\n",
    " (u'Makes_Unannounced_Visit', 0.507727861404419),\n",
    " (u'GeorgeW', 0.506709098815918),\n",
    " (u'Untied_States', 0.5001851320266724),\n",
    " (u'Ms', 0.49569395184516907),\n",
    " (u'Presdient', 0.4940381646156311),\n",
    " (u'United_Sates', 0.49189335107803345)]\n",
    ">>> wv.most_similar(positive=[w for w in \"United_States President Airforce_One\".split() if w in wv.vocab])\n",
    "[(u'Unites_States', 0.6264106631278992),\n",
    " (u'president', 0.6166568994522095),\n",
    " (u'United_Sates', 0.6097018718719482),\n",
    " (u'Untied_States', 0.6066310405731201),\n",
    " (u'U.S.', 0.5760493874549866),\n",
    " (u'America', 0.5657300353050232),\n",
    " (u'President_Elect', 0.5279697179794312),\n",
    " (u'WASHINGTON_President', 0.5252520442008972),\n",
    " (u'Vice_President', 0.5239802598953247),\n",
    " (u'theUnited_States', 0.5232753157615662)]\n",
    ">>> wv.most_similar(positive=[w for w in \"United_States President Air_Force_One\".split() if w in wv.vocab])\n",
    "[(u'Unites_States', 0.6264106631278992),\n",
    " (u'president', 0.6166568994522095),\n",
    " (u'United_Sates', 0.6097018718719482),\n",
    " (u'Untied_States', 0.6066310405731201),\n",
    " (u'U.S.', 0.5760493874549866),\n",
    " (u'America', 0.5657300353050232),\n",
    " (u'President_Elect', 0.5279697179794312),\n",
    " (u'WASHINGTON_President', 0.5252520442008972),\n",
    " (u'Vice_President', 0.5239802598953247),\n",
    " (u'theUnited_States', 0.5232753157615662)]\n",
    ">>> wv.most_similar(positive=[w for w in \"United_States President Air_Force Force_One\".split() if w in wv.vocab])\n",
    "[(u'U.S.', 0.5741495490074158),\n",
    " (u'Unites_States', 0.5739392042160034),\n",
    " (u'United_Sates', 0.5488123893737793),\n",
    " (u'Untied_States', 0.5344074368476868),\n",
    " (u'Pacific_Command_USPACOM', 0.5333659052848816),\n",
    " (u'IG_TEC_;)_COUNTRY', 0.5331814289093018),\n",
    " (u'Gen._Alexander_Haig', 0.5285132527351379),\n",
    " (u'WASHINGTON_President', 0.5266919732093811),\n",
    " (u'Makes_Unannounced_Visit', 0.5260608196258545),\n",
    " (u'Maj._Gens', 0.5253123641014099)]\n",
    ">>> wv.most_similar(positive=[w for w in \"United_States President Air_Force Force_One plane\".split() if w in wv.vocab])\n",
    "[(u'airplane', 0.580955982208252),\n",
    " (u'Maj._Gens', 0.5632957816123962),\n",
    " (u'aircraft', 0.5517706871032715),\n",
    " (u'planes', 0.544722855091095),\n",
    " (u'aborts_landing', 0.5405071973800659),\n",
    " (u'Capt._Uriah_Orland', 0.5343335270881653),\n",
    " (u'airplanes', 0.5327281355857849),\n",
    " (u'C_###E_Hercules', 0.5308793783187866),\n",
    " (u'airliner', 0.530057430267334),\n",
    " (u'Freeds_owned', 0.5297945141792297)]\n",
    ">>> wv.most_similar(positive=[w for w in \"United_States President Air_Force Force_One plane helicopter\".split() if w in wv.vocab])\n",
    "[(u'aircraft', 0.6520922183990479),\n",
    " (u'airplane', 0.6488361954689026),\n",
    " (u'planes', 0.6190832257270813),\n",
    " (u'helicopters', 0.6113043427467346),\n",
    " (u'copter', 0.5978176593780518),\n",
    " (u'Army_Blackhawk_helicopter', 0.594909131526947),\n",
    " (u'blackhawk_helicopter', 0.590416669845581),\n",
    " (u'Pave_Hawk_helicopter', 0.5885614156723022),\n",
    " (u'aborts_landing', 0.5858801603317261),\n",
    " (u'Capt._Uriah_Orland', 0.5844364166259766)]\n",
    ">>> # web search for [\"Captain Uriah_Orland\"](http://www.nydailynews.com/news/national/military-cargo-plane-training-run-aboard-crashes-air-force-base-anchorage-article-1.463585)\n",
    ">>> wv.most_similar(positive=[w for w in \"financial controller\".split() if w in wv.vocab])\n",
    "[(u'MaryAnne_Pahapill', 0.5687735080718994),\n",
    " (u'James_MacGuidwin', 0.5649289488792419),\n",
    " (u'Danny_Werfel', 0.5626009106636047),\n",
    " (u'Steven_Landmann', 0.5469035506248474),\n",
    " (u'fiction_Jane_Tranter', 0.545223593711853),\n",
    " (u'gubernatorial_candidate_Steve_Westly', 0.5368103384971619),\n",
    " (u'Jorge_Arrieta', 0.5267764925956726),\n",
    " (u'Garin_Casaleggio_spokesman', 0.520050048828125),\n",
    " (u'Controller', 0.5142963528633118),\n",
    " (u'Michael_Gollogly_Nortel', 0.5002437829971313)]\n",
    ">>> wv.most_similar(positive=[w for w in \"finance controller\".split() if w in wv.vocab])\n",
    "[(u'gubernatorial_candidate_Steve_Westly', 0.5799588561058044),\n",
    " (u'James_MacGuidwin', 0.5471214652061462),\n",
    " (u'Controller', 0.5421628952026367),\n",
    " (u'MaryAnne_Pahapill', 0.536124050617218),\n",
    " (u'fiction_Jane_Tranter', 0.5329840779304504),\n",
    " (u'Danny_Werfel', 0.5263868570327759),\n",
    " (u'Steven_Landmann', 0.5227377414703369),\n",
    " (u'Michael_Gollogly_Nortel', 0.5208112597465515),\n",
    " (u'Garin_Casaleggio_spokesman', 0.5158421397209167),\n",
    " (u'treasurer', 0.5155867338180542)]\n",
    ">>> wv.most_similar(positive=[w for w in \"Controller\".split() if w in wv.vocab])\n",
    "[(u'controller', 0.6379563212394714),\n",
    " (u'Zeemote_JS1_Bluetooth', 0.5763181447982788),\n",
    " (u'Russ_Monteith', 0.562531054019928),\n",
    " (u'Controllers', 0.5558527708053589),\n",
    " (u'Trimble_SCS###_Site', 0.5315676927566528),\n",
    " (u'Tony_Pokora', 0.5297350287437439),\n",
    " (u'Solo_Performer_Show', 0.5269874334335327),\n",
    " (u'gubernatorial_candidate_Steve_Westly', 0.5217077136039734),\n",
    " (u'Manager', 0.5075604915618896),\n",
    " (u'BBC_Drama_Commissioning', 0.4899172782897949)]\n",
    ">>> wv.most_similar(positive=[w for w in \"Financial Controller\".split() if w in wv.vocab])\n",
    "[(u'Finanical', 0.5862181186676025),\n",
    " (u'Finacial', 0.5438824892044067),\n",
    " (u'Trimble_SCS###_Site', 0.532056450843811),\n",
    " (u'Solo_Performer_Show', 0.5083569884300232),\n",
    " (u'Fincl', 0.4992845952510834),\n",
    " (u'CONTACT_WSFS', 0.4988648295402527),\n",
    " (u'Zeemote_JS1_Bluetooth', 0.4988573491573334),\n",
    " (u'Finance', 0.49257785081863403),\n",
    " (u'Tables_Attached', 0.4901852607727051),\n",
    " (u'NexTone_Multiprotocol_Session', 0.4895697832107544)]\n",
    ">>> wv.most_similar(positive=[w for w in \"Financial_Controller\".split() if w in wv.vocab])\n",
    ">>> (w for w in wv.vocab).next()\n",
    "u'Allanah_Munson'\n",
    ">>> (w for w in wv.vocab if w.endswith('_Controller')).next()\n",
    "u'Incident_Controller'\n",
    ">>> (w for w in wv.vocab if w.endswith('_Controller') and w.startswith('Fin')).next()\n",
    ">>> (w for w in wv.vocab if w.endswith('_controller') and 'fin' in w)).next()\n",
    ">>> (w for w in wv.vocab if w.endswith('_controller') and 'fin' in w).next()\n",
    ">>> list(w for w in wv.vocab if w.endswith('_Controller'))\n",
    "[u'Incident_Controller',\n",
    " u'Wireless_Controller',\n",
    " u'Drug_Controller',\n",
    " u'Wii_Remote_Controller',\n",
    " u'Border_Controller',\n",
    " u'RAID_Controller',\n",
    " u'Adaptive_Computing_Controller',\n",
    " u'Session_Controller',\n",
    " u'Bob_Shennan_Controller',\n",
    " u'Traffic_Controller',\n",
    " u'Playstation_Move_Controller',\n",
    " u'mCloud_Controller',\n",
    " u'Zeemote_JS1_Controller',\n",
    " u'Cognos_Controller',\n",
    " u'VACMAN_Controller',\n",
    " u'FirePass_Controller',\n",
    " u'Auditor_Controller',\n",
    " u'Drum_Controller',\n",
    " u'Hosting_Controller',\n",
    " u'Gigabit_Ethernet_Controller',\n",
    " u'Application_Delivery_Controller',\n",
    " u'Examination_Controller',\n",
    " u'Fat_Controller',\n",
    " u'iDrive_Controller',\n",
    " u'Programmable_Logic_Controller',\n",
    " u'Drugs_Controller',\n",
    " u'LANShield_Controller',\n",
    " u'Volume_Controller',\n",
    " u'Host_Controller',\n",
    " u'Interrupt_Controller',\n",
    " u'Corporate_Controller',\n",
    " u'SATA_RAID_Controller',\n",
    " u'Motion_Controller',\n",
    " u'Efficiency_Controller',\n",
    " u'Temperature_Controller',\n",
    " u'BlueSecure_Controller',\n",
    " u'WAN_Optimization_Controller',\n",
    " u'Navigation_Controller',\n",
    " u'HKSaddler_Fat_Controller',\n",
    " u'VASCO_VACMAN_Controller',\n",
    " u'Lifecycle_Controller',\n",
    " u'Wireless_LAN_Controller',\n",
    " u'Programmable_Automation_Controller',\n",
    " u'MIDI_Controller',\n",
    " u'Chainsaw_Controller',\n",
    " u'NES_Controller',\n",
    " u'Mobility_Controller',\n",
    " u'Domain_Controller',\n",
    " u'Divisional_Controller',\n",
    " u'Memory_Controller',\n",
    " u'Logitech_Keyboard_Controller',\n",
    " u'Remote_Controller',\n",
    " u'Carb_Controller',\n",
    " u'Guitar_Controller',\n",
    " u'PWM_Controller',\n",
    " u'Sonos_Controller',\n",
    " u'Infranet_Controller',\n",
    " u'JS1_Controller']\n",
    ">>> list(w for w in wv.vocab if w.endswith('_controller'))\n",
    "[u'wandlike_remote_controller',\n",
    " u'Playstation_Move_controller',\n",
    " u'DDR2_memory_controller',\n",
    " u'CBBC_controller',\n",
    " u'joystick_controller',\n",
    " u'PS3_Sixaxis_controller',\n",
    " u'SIXAXIS_controller',\n",
    " u'SATA_controller',\n",
    " u'programmable_logic_controller',\n",
    " u'##GbE_controller',\n",
    " u'SandForce_controller',\n",
    " u'midi_controller',\n",
    " u'capacitive_touch_controller',\n",
    " u'SCSI_controller',\n",
    " u'drum_kit_controller',\n",
    " u'Indilinx_controller',\n",
    " u'Solarstorm_##GbE_controller',\n",
    " u'BBC1_controller',\n",
    " u'servo_controller',\n",
    " u'Gamecube_controller',\n",
    " u'Roly_Keating_controller',\n",
    " u'wand_controller',\n",
    " u'PID_controller',\n",
    " u'TRACON_controller',\n",
    " u'Teterboro_controller',\n",
    " u'DualShock_controller',\n",
    " u'SAS_RAID_controller',\n",
    " u'SixAxis_controller',\n",
    " u'Sonos_controller',\n",
    " u'SNES_controller',\n",
    " u'Sixaxis_controller',\n",
    " u'gamepad_controller',\n",
    " u'stepper_motor_controller',\n",
    " u'NES_controller',\n",
    " u'PlayStation_Move_controller',\n",
    " u'nunchuck_controller',\n",
    " u'nunchuk_controller',\n",
    " u'Zeemote_JS1_controller',\n",
    " u'MIDI_controller',\n",
    " u'DMA_controller',\n",
    " u'BBC3_controller',\n",
    " u'SDRAM_controller',\n",
    " u'dc_dc_controller',\n",
    " u'Wii_Remote_controller',\n",
    " u'FlexRay_controller',\n",
    " u'Indilinx_Barefoot_controller',\n",
    " u'hardware_RAID_controller',\n",
    " u'iDrive_controller',\n",
    " u'sensing_controller',\n",
    " u'BBC4_controller',\n",
    " u'synchronous_buck_controller',\n",
    " u'Wiimote_controller',\n",
    " u'GPIB_controller',\n",
    " u'NAND_controller',\n",
    " u'MotionPlus_controller',\n",
    " u'USB_MIDI_controller',\n",
    " u'turntable_controller',\n",
    " u'COMAND_controller',\n",
    " u'Dual_Shock_controller',\n",
    " u'mode_PWM_controller',\n",
    " u'GbE_controller',\n",
    " u'Serial_ATA_RAID_controller',\n",
    " u'PWM_controller',\n",
    " u'JMicron_controller',\n",
    " u'Wii_MotionPlus_controller',\n",
    " u'Nunchuck_controller',\n",
    " u'RAID_controller',\n",
    " u'Peter_Fincham_controller',\n",
    " u'DDR3_memory_controller',\n",
    " u'Nunchuk_controller',\n",
    " u'LDO_controller',\n",
    " u'SSD_controller',\n",
    " u'SATA_RAID_controller',\n",
    " u'GameCube_controller',\n",
    " u'Dualshock_controller']\n",
    ">>> list(w for w in wv.vocab if w.endswith('_self'))\n",
    "[u'U_SWIRL_self',\n",
    " u'tall_gangly_self',\n",
    " u'immolates_self',\n",
    " u'Cheryl_Kilodavis_self',\n",
    " u'Supremely_self',\n",
    " u'juche_self',\n",
    " u'Insulting_self',\n",
    " u'Enclose_self',\n",
    " u'TCG_Opal_self',\n",
    " u'recuses_self',\n",
    " u'Elk_Cloner_self',\n",
    " u'NCR_FastLane_self',\n",
    " u'Phil_Rockstroh_self']\n"
   ]
  },
  {
   "cell_type": "markdown",
   "metadata": {},
   "source": [
    "# Combine Summarization with Word2Vec\n",
    "\n",
    "Let's use state-of-the art Latent Dirichlet Allocation to preview a bunch of text files"
   ]
  },
  {
   "cell_type": "code",
   "execution_count": 54,
   "metadata": {
    "collapsed": true
   },
   "outputs": [],
   "source": [
    "from pug.nlp import util\n",
    "from gensim.summarization import summarize\n",
    "import os.path"
   ]
  },
  {
   "cell_type": "code",
   "execution_count": 55,
   "metadata": {
    "collapsed": false
   },
   "outputs": [
    {
     "name": "stdout",
     "output_type": "stream",
     "text": [
      "0\n"
     ]
    },
    {
     "ename": "IndexError",
     "evalue": "list index out of range",
     "output_type": "error",
     "traceback": [
      "\u001b[1;31m---------------------------------------------------------------------------\u001b[0m",
      "\u001b[1;31mIndexError\u001b[0m                                Traceback (most recent call last)",
      "\u001b[1;32m<ipython-input-55-c3bf444be29e>\u001b[0m in \u001b[0;36m<module>\u001b[1;34m()\u001b[0m\n\u001b[0;32m      1\u001b[0m \u001b[0mtree\u001b[0m \u001b[1;33m=\u001b[0m \u001b[0mutil\u001b[0m\u001b[1;33m.\u001b[0m\u001b[0mfind_files\u001b[0m\u001b[1;33m(\u001b[0m\u001b[1;34m'/tmp/'\u001b[0m\u001b[1;33m,\u001b[0m \u001b[0mext\u001b[0m\u001b[1;33m=\u001b[0m\u001b[1;34m'.txt'\u001b[0m\u001b[1;33m)\u001b[0m\u001b[1;33m\u001b[0m\u001b[0m\n\u001b[0;32m      2\u001b[0m \u001b[1;32mprint\u001b[0m\u001b[1;33m(\u001b[0m\u001b[0mlen\u001b[0m\u001b[1;33m(\u001b[0m\u001b[0mtree\u001b[0m\u001b[1;33m)\u001b[0m\u001b[1;33m)\u001b[0m\u001b[1;33m\u001b[0m\u001b[0m\n\u001b[1;32m----> 3\u001b[1;33m \u001b[0mtree\u001b[0m\u001b[1;33m[\u001b[0m\u001b[1;36m0\u001b[0m\u001b[1;33m]\u001b[0m\u001b[1;33m\u001b[0m\u001b[0m\n\u001b[0m",
      "\u001b[1;31mIndexError\u001b[0m: list index out of range"
     ]
    }
   ],
   "source": [
    "tree = util.find_files('/tmp/', ext='.txt')\n",
    "len(tree)"
   ]
  },
  {
   "cell_type": "markdown",
   "metadata": {},
   "source": [
    "# `summarize`\n",
    "\n",
    "<img src=\"summarization_tutorial_plot.png\">"
   ]
  },
  {
   "cell_type": "code",
   "execution_count": 56,
   "metadata": {
    "collapsed": false
   },
   "outputs": [],
   "source": [
    "for meta in tree:\n",
    "    if meta['name'].lower().startswith('stuff'):\n",
    "        continue\n",
    "    print('')\n",
    "    print('-'*80)\n",
    "    print('### ' + os.path.splitext(meta['name'])[0])\n",
    "    text = os.path.splitext(meta['name'])[0] + '. \\n' + open(meta['path']).read()\n",
    "    try:\n",
    "        summary = summarize(text, word_count=50)\n",
    "    except ValueError:\n",
    "        print('TOO SHORT to SUMMARIZE')\n",
    "        summary = text[:200]\n",
    "    try:\n",
    "        print(' '.join(pair[0] for pair in wv.most_similar(positive=[w for w in summary.split() if w in wv.vocab])[1:5] if '%' not in pair[0])) \n",
    "    except ValueError:\n",
    "        print('MISMATCHED VOCAB')\n",
    "    print(summary)\n",
    "    "
   ]
  }
 ],
 "metadata": {
  "kernelspec": {
   "display_name": "Python 2",
   "language": "python",
   "name": "python2"
  },
  "language_info": {
   "codemirror_mode": {
    "name": "ipython",
    "version": 2
   },
   "file_extension": ".py",
   "mimetype": "text/x-python",
   "name": "python",
   "nbconvert_exporter": "python",
   "pygments_lexer": "ipython2",
   "version": "2.7.10"
  }
 },
 "nbformat": 4,
 "nbformat_minor": 0
}
