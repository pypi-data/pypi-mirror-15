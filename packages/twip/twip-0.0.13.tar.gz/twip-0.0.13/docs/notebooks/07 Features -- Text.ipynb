{
 "cells": [
  {
   "cell_type": "code",
   "execution_count": 2,
   "metadata": {
    "collapsed": false
   },
   "outputs": [],
   "source": [
    "from __future__ import division, print_function, absolute_import\n",
    "from past.builtins import basestring\n",
    "\n",
    "import os\n",
    "\n",
    "import pandas as pd\n",
    "\n",
    "from twip.constant import DATA_PATH\n",
    "import string\n"
   ]
  },
  {
   "cell_type": "code",
   "execution_count": 3,
   "metadata": {
    "collapsed": false
   },
   "outputs": [
    {
     "data": {
      "text/html": [
       "<style>.container { width:100% !important; }</style>"
      ],
      "text/plain": [
       "<IPython.core.display.HTML object>"
      ]
     },
     "metadata": {},
     "output_type": "display_data"
    }
   ],
   "source": [
    "import matplotlib\n",
    "from IPython.display import display, HTML \n",
    "%matplotlib inline\n",
    "np = pd.np\n",
    "display(HTML(\"<style>.container { width:100% !important; }</style>\"))\n",
    "pd.set_option('display.max_rows', 6)\n",
    "pd.set_option('display.max_columns', 500)\n",
    "pd.set_option('display.width', 500)"
   ]
  },
  {
   "cell_type": "code",
   "execution_count": 4,
   "metadata": {
    "collapsed": false
   },
   "outputs": [],
   "source": [
    "df = pd.read_csv(os.path.join(DATA_PATH, 'cleaned_tweets.csv.gz'), low_memory=False)"
   ]
  },
  {
   "cell_type": "code",
   "execution_count": 5,
   "metadata": {
    "collapsed": false
   },
   "outputs": [
    {
     "data": {
      "text/plain": [
       "0"
      ]
     },
     "execution_count": 5,
     "metadata": {},
     "output_type": "execute_result"
    }
   ],
   "source": [
    "df = df.drop_duplicates('id', keep='last')[['id', 'id_str', 'text']]\n",
    "df.id == df.id_str\n",
    "(df.id != df.id_str).sum()"
   ]
  },
  {
   "cell_type": "code",
   "execution_count": 6,
   "metadata": {
    "collapsed": true
   },
   "outputs": [],
   "source": [
    "df = df[['id', 'text']]"
   ]
  },
  {
   "cell_type": "code",
   "execution_count": 7,
   "metadata": {
    "collapsed": false
   },
   "outputs": [
    {
     "data": {
      "text/plain": [
       "87        #python never stop learning what you enjoy doi...\n",
       "88        Watching Boa vs. Python — https://t.co/Pivpk02s2A\n",
       "90        Monty Python - The silly walk https://t.co/C0J...\n",
       "                                ...                        \n",
       "193375    RT @RealPython: List of Python API Wrappers &g...\n",
       "193376    Watching Boa vs. Python — https://t.co/5THbrirfQO\n",
       "193377    Чертова дюжина вакансий в IT и Digital /  / 1....\n",
       "Name: text, dtype: object"
      ]
     },
     "execution_count": 7,
     "metadata": {},
     "output_type": "execute_result"
    }
   ],
   "source": [
    "df.text"
   ]
  },
  {
   "cell_type": "code",
   "execution_count": 8,
   "metadata": {
    "collapsed": false
   },
   "outputs": [
    {
     "data": {
      "text/html": [
       "<div>\n",
       "<table border=\"1\" class=\"dataframe\">\n",
       "  <thead>\n",
       "    <tr style=\"text-align: right;\">\n",
       "      <th></th>\n",
       "      <th>id</th>\n",
       "      <th>text</th>\n",
       "      <th>tokens</th>\n",
       "    </tr>\n",
       "  </thead>\n",
       "  <tbody>\n",
       "    <tr>\n",
       "      <th>87</th>\n",
       "      <td>724276510626979840</td>\n",
       "      <td>#python never stop learning what you enjoy doi...</td>\n",
       "      <td>[#python, never, stop, learning, what, you, en...</td>\n",
       "    </tr>\n",
       "    <tr>\n",
       "      <th>88</th>\n",
       "      <td>724276498249572352</td>\n",
       "      <td>Watching Boa vs. Python — https://t.co/Pivpk02s2A</td>\n",
       "      <td>[Watching, Boa, vs., Python, —, https://t.co/P...</td>\n",
       "    </tr>\n",
       "    <tr>\n",
       "      <th>90</th>\n",
       "      <td>724276388325412866</td>\n",
       "      <td>Monty Python - The silly walk https://t.co/C0J...</td>\n",
       "      <td>[Monty, Python, -, The, silly, walk, https://t...</td>\n",
       "    </tr>\n",
       "    <tr>\n",
       "      <th>...</th>\n",
       "      <td>...</td>\n",
       "      <td>...</td>\n",
       "      <td>...</td>\n",
       "    </tr>\n",
       "    <tr>\n",
       "      <th>193375</th>\n",
       "      <td>724275609858392066</td>\n",
       "      <td>RT @RealPython: List of Python API Wrappers &amp;g...</td>\n",
       "      <td>[RT, @RealPython:, List, of, Python, API, Wrap...</td>\n",
       "    </tr>\n",
       "    <tr>\n",
       "      <th>193376</th>\n",
       "      <td>724275578879111169</td>\n",
       "      <td>Watching Boa vs. Python — https://t.co/5THbrirfQO</td>\n",
       "      <td>[Watching, Boa, vs., Python, —, https://t.co/5...</td>\n",
       "    </tr>\n",
       "    <tr>\n",
       "      <th>193377</th>\n",
       "      <td>724275568871673857</td>\n",
       "      <td>Чертова дюжина вакансий в IT и Digital /  / 1....</td>\n",
       "      <td>[Чертова, дюжина, вакансий, в, IT, и, Digital,...</td>\n",
       "    </tr>\n",
       "  </tbody>\n",
       "</table>\n",
       "<p>183070 rows × 3 columns</p>\n",
       "</div>"
      ],
      "text/plain": [
       "                        id                                               text                                             tokens\n",
       "87      724276510626979840  #python never stop learning what you enjoy doi...  [#python, never, stop, learning, what, you, en...\n",
       "88      724276498249572352  Watching Boa vs. Python — https://t.co/Pivpk02s2A  [Watching, Boa, vs., Python, —, https://t.co/P...\n",
       "90      724276388325412866  Monty Python - The silly walk https://t.co/C0J...  [Monty, Python, -, The, silly, walk, https://t...\n",
       "...                    ...                                                ...                                                ...\n",
       "193375  724275609858392066  RT @RealPython: List of Python API Wrappers &g...  [RT, @RealPython:, List, of, Python, API, Wrap...\n",
       "193376  724275578879111169  Watching Boa vs. Python — https://t.co/5THbrirfQO  [Watching, Boa, vs., Python, —, https://t.co/5...\n",
       "193377  724275568871673857  Чертова дюжина вакансий в IT и Digital /  / 1....  [Чертова, дюжина, вакансий, в, IT, и, Digital,...\n",
       "\n",
       "[183070 rows x 3 columns]"
      ]
     },
     "execution_count": 8,
     "metadata": {},
     "output_type": "execute_result"
    }
   ],
   "source": [
    "df['tokens'] = df.text.str.split()\n",
    "df"
   ]
  },
  {
   "cell_type": "code",
   "execution_count": 9,
   "metadata": {
    "collapsed": false
   },
   "outputs": [
    {
     "data": {
      "text/html": [
       "<div>\n",
       "<table border=\"1\" class=\"dataframe\">\n",
       "  <thead>\n",
       "    <tr style=\"text-align: right;\">\n",
       "      <th></th>\n",
       "      <th>id</th>\n",
       "      <th>text</th>\n",
       "      <th>tokens</th>\n",
       "    </tr>\n",
       "  </thead>\n",
       "  <tbody>\n",
       "    <tr>\n",
       "      <th>87</th>\n",
       "      <td>724276510626979840</td>\n",
       "      <td>#python never stop learning what you enjoy doi...</td>\n",
       "      <td>[#python, never, stop, learning, what, you, en...</td>\n",
       "    </tr>\n",
       "    <tr>\n",
       "      <th>88</th>\n",
       "      <td>724276498249572352</td>\n",
       "      <td>Watching Boa vs. Python — https://t.co/Pivpk02s2A</td>\n",
       "      <td>[Watching, Boa, vs., Python, —]</td>\n",
       "    </tr>\n",
       "    <tr>\n",
       "      <th>90</th>\n",
       "      <td>724276388325412866</td>\n",
       "      <td>Monty Python - The silly walk https://t.co/C0J...</td>\n",
       "      <td>[Monty, Python, -, The, silly, walk, via, @You...</td>\n",
       "    </tr>\n",
       "    <tr>\n",
       "      <th>...</th>\n",
       "      <td>...</td>\n",
       "      <td>...</td>\n",
       "      <td>...</td>\n",
       "    </tr>\n",
       "    <tr>\n",
       "      <th>193375</th>\n",
       "      <td>724275609858392066</td>\n",
       "      <td>RT @RealPython: List of Python API Wrappers &amp;g...</td>\n",
       "      <td>[RT, @RealPython:, List, of, Python, API, Wrap...</td>\n",
       "    </tr>\n",
       "    <tr>\n",
       "      <th>193376</th>\n",
       "      <td>724275578879111169</td>\n",
       "      <td>Watching Boa vs. Python — https://t.co/5THbrirfQO</td>\n",
       "      <td>[Watching, Boa, vs., Python, —]</td>\n",
       "    </tr>\n",
       "    <tr>\n",
       "      <th>193377</th>\n",
       "      <td>724275568871673857</td>\n",
       "      <td>Чертова дюжина вакансий в IT и Digital /  / 1....</td>\n",
       "      <td>[Чертова, дюжина, вакансий, в, IT, и, Digital,...</td>\n",
       "    </tr>\n",
       "  </tbody>\n",
       "</table>\n",
       "<p>183070 rows × 3 columns</p>\n",
       "</div>"
      ],
      "text/plain": [
       "                        id                                               text                                             tokens\n",
       "87      724276510626979840  #python never stop learning what you enjoy doi...  [#python, never, stop, learning, what, you, en...\n",
       "88      724276498249572352  Watching Boa vs. Python — https://t.co/Pivpk02s2A                    [Watching, Boa, vs., Python, —]\n",
       "90      724276388325412866  Monty Python - The silly walk https://t.co/C0J...  [Monty, Python, -, The, silly, walk, via, @You...\n",
       "...                    ...                                                ...                                                ...\n",
       "193375  724275609858392066  RT @RealPython: List of Python API Wrappers &g...  [RT, @RealPython:, List, of, Python, API, Wrap...\n",
       "193376  724275578879111169  Watching Boa vs. Python — https://t.co/5THbrirfQO                    [Watching, Boa, vs., Python, —]\n",
       "193377  724275568871673857  Чертова дюжина вакансий в IT и Digital /  / 1....  [Чертова, дюжина, вакансий, в, IT, и, Digital,...\n",
       "\n",
       "[183070 rows x 3 columns]"
      ]
     },
     "execution_count": 9,
     "metadata": {},
     "output_type": "execute_result"
    }
   ],
   "source": [
    "from pug.nlp.regex import url\n",
    "df['tokens'] = df.text.str.replace(url, '').str.split()\n",
    "df"
   ]
  },
  {
   "cell_type": "code",
   "execution_count": 10,
   "metadata": {
    "collapsed": false
   },
   "outputs": [
    {
     "data": {
      "text/plain": [
       "87         python never stop learning what you enjoy doing \n",
       "88                                  Watching Boa vs Python \n",
       "90                  Monty Python The silly walk via YouTube\n",
       "                                ...                        \n",
       "193375    RT RealPython List of Python API Wrappers gt g...\n",
       "193376                              Watching Boa vs Python \n",
       "193377        IT Digital 1 Go 150 000 2 Senior Python Djan \n",
       "Name: txt, dtype: object"
      ]
     },
     "execution_count": 10,
     "metadata": {},
     "output_type": "execute_result"
    }
   ],
   "source": [
    "df['txt'] = df.text.str.replace(url, ' ').str.replace(r'\\W+', ' ').str.replace(r'\\s+', ' ')\n",
    "df.txt"
   ]
  },
  {
   "cell_type": "code",
   "execution_count": 18,
   "metadata": {
    "collapsed": false
   },
   "outputs": [
    {
     "data": {
      "text/html": [
       "<div>\n",
       "<table border=\"1\" class=\"dataframe\">\n",
       "  <thead>\n",
       "    <tr style=\"text-align: right;\">\n",
       "      <th></th>\n",
       "      <th>id</th>\n",
       "      <th>text</th>\n",
       "      <th>tokens</th>\n",
       "      <th>txt</th>\n",
       "    </tr>\n",
       "  </thead>\n",
       "  <tbody>\n",
       "    <tr>\n",
       "      <th>87</th>\n",
       "      <td>724276510626979840</td>\n",
       "      <td>#python never stop learning what you enjoy doi...</td>\n",
       "      <td>[python, never, stop, learning, what, you, enj...</td>\n",
       "      <td>python never stop learning what you enjoy doing</td>\n",
       "    </tr>\n",
       "    <tr>\n",
       "      <th>88</th>\n",
       "      <td>724276498249572352</td>\n",
       "      <td>Watching Boa vs. Python — https://t.co/Pivpk02s2A</td>\n",
       "      <td>[Watching, Boa, vs, Python]</td>\n",
       "      <td>Watching Boa vs Python</td>\n",
       "    </tr>\n",
       "    <tr>\n",
       "      <th>90</th>\n",
       "      <td>724276388325412866</td>\n",
       "      <td>Monty Python - The silly walk https://t.co/C0J...</td>\n",
       "      <td>[Monty, Python, The, silly, walk, via, YouTube]</td>\n",
       "      <td>Monty Python The silly walk via YouTube</td>\n",
       "    </tr>\n",
       "    <tr>\n",
       "      <th>...</th>\n",
       "      <td>...</td>\n",
       "      <td>...</td>\n",
       "      <td>...</td>\n",
       "      <td>...</td>\n",
       "    </tr>\n",
       "    <tr>\n",
       "      <th>193375</th>\n",
       "      <td>724275609858392066</td>\n",
       "      <td>RT @RealPython: List of Python API Wrappers &amp;g...</td>\n",
       "      <td>[RT, RealPython, List, of, Python, API, Wrappe...</td>\n",
       "      <td>RT RealPython List of Python API Wrappers gt g...</td>\n",
       "    </tr>\n",
       "    <tr>\n",
       "      <th>193376</th>\n",
       "      <td>724275578879111169</td>\n",
       "      <td>Watching Boa vs. Python — https://t.co/5THbrirfQO</td>\n",
       "      <td>[Watching, Boa, vs, Python]</td>\n",
       "      <td>Watching Boa vs Python</td>\n",
       "    </tr>\n",
       "    <tr>\n",
       "      <th>193377</th>\n",
       "      <td>724275568871673857</td>\n",
       "      <td>Чертова дюжина вакансий в IT и Digital /  / 1....</td>\n",
       "      <td>[IT, Digital, Go, Senior, Python, Djan]</td>\n",
       "      <td>IT Digital Go Senior Python Djan</td>\n",
       "    </tr>\n",
       "  </tbody>\n",
       "</table>\n",
       "<p>183070 rows × 4 columns</p>\n",
       "</div>"
      ],
      "text/plain": [
       "                        id                                               text                                             tokens                                                txt\n",
       "87      724276510626979840  #python never stop learning what you enjoy doi...  [python, never, stop, learning, what, you, enj...   python never stop learning what you enjoy doing \n",
       "88      724276498249572352  Watching Boa vs. Python — https://t.co/Pivpk02s2A                        [Watching, Boa, vs, Python]                            Watching Boa vs Python \n",
       "90      724276388325412866  Monty Python - The silly walk https://t.co/C0J...    [Monty, Python, The, silly, walk, via, YouTube]            Monty Python The silly walk via YouTube\n",
       "...                    ...                                                ...                                                ...                                                ...\n",
       "193375  724275609858392066  RT @RealPython: List of Python API Wrappers &g...  [RT, RealPython, List, of, Python, API, Wrappe...  RT RealPython List of Python API Wrappers gt g...\n",
       "193376  724275578879111169  Watching Boa vs. Python — https://t.co/5THbrirfQO                        [Watching, Boa, vs, Python]                            Watching Boa vs Python \n",
       "193377  724275568871673857  Чертова дюжина вакансий в IT и Digital /  / 1....            [IT, Digital, Go, Senior, Python, Djan]                  IT Digital Go Senior Python Djan \n",
       "\n",
       "[183070 rows x 4 columns]"
      ]
     },
     "execution_count": 18,
     "metadata": {},
     "output_type": "execute_result"
    }
   ],
   "source": [
    "df['txt'] = df.txt.str.replace(r'\\d+', ' ').str.replace(r'\\s+', ' ')\n",
    "df['tokens'] = df.txt.str.split()\n",
    "df"
   ]
  },
  {
   "cell_type": "markdown",
   "metadata": {},
   "source": [
    "Notice that we trounced the hashtag #Python  \n",
    "That's not good.  \n",
    "Can you fix it?  \n",
    "Anything else we might be messing up?  \n",
    "*what other punctuation marks have special meaning in Tweets*  "
   ]
  },
  {
   "cell_type": "code",
   "execution_count": null,
   "metadata": {
    "collapsed": true
   },
   "outputs": [],
   "source": [
    "# improve on the \"stopword\" filters here\n",
    "#\n",
    "# :-) (ask me about a smilie lexicon)\n",
    "# not-so-simple words? (ask me about a regex for compound words)\n",
    "# python variables names with underscores? (regex)"
   ]
  },
  {
   "cell_type": "code",
   "execution_count": 21,
   "metadata": {
    "collapsed": false
   },
   "outputs": [
    {
     "ename": "ValueError",
     "evalue": "encoding + compression not yet supported in Python 2",
     "output_type": "error",
     "traceback": [
      "\u001b[1;31m---------------------------------------------------------------------------\u001b[0m",
      "\u001b[1;31mValueError\u001b[0m                                Traceback (most recent call last)",
      "\u001b[1;32m<ipython-input-21-857ec875a071>\u001b[0m in \u001b[0;36m<module>\u001b[1;34m()\u001b[0m\n\u001b[0;32m      1\u001b[0m \u001b[0mf\u001b[0m \u001b[1;33m=\u001b[0m \u001b[0mos\u001b[0m\u001b[1;33m.\u001b[0m\u001b[0mpath\u001b[0m\u001b[1;33m.\u001b[0m\u001b[0mjoin\u001b[0m\u001b[1;33m(\u001b[0m\u001b[0mDATA_PATH\u001b[0m\u001b[1;33m,\u001b[0m \u001b[1;34m'text.csv.gz'\u001b[0m\u001b[1;33m)\u001b[0m\u001b[1;33m\u001b[0m\u001b[0m\n\u001b[1;32m----> 2\u001b[1;33m \u001b[0mdf\u001b[0m\u001b[1;33m.\u001b[0m\u001b[0mto_csv\u001b[0m\u001b[1;33m(\u001b[0m\u001b[0mf\u001b[0m\u001b[1;33m,\u001b[0m \u001b[0mencoding\u001b[0m\u001b[1;33m=\u001b[0m\u001b[1;34m'utf8'\u001b[0m\u001b[1;33m,\u001b[0m \u001b[0mcompression\u001b[0m\u001b[1;33m=\u001b[0m\u001b[1;34m'gzip'\u001b[0m\u001b[1;33m,\u001b[0m \u001b[0mquoting\u001b[0m\u001b[1;33m=\u001b[0m\u001b[0mpd\u001b[0m\u001b[1;33m.\u001b[0m\u001b[0mio\u001b[0m\u001b[1;33m.\u001b[0m\u001b[0mcommon\u001b[0m\u001b[1;33m.\u001b[0m\u001b[0mcsv\u001b[0m\u001b[1;33m.\u001b[0m\u001b[0mQUOTE_NONNUMERIC\u001b[0m\u001b[1;33m)\u001b[0m\u001b[1;33m\u001b[0m\u001b[0m\n\u001b[0m",
      "\u001b[1;32m/home/hobs/.virtualenvs/twip/local/lib/python2.7/site-packages/pandas/core/frame.pyc\u001b[0m in \u001b[0;36mto_csv\u001b[1;34m(self, path_or_buf, sep, na_rep, float_format, columns, header, index, index_label, mode, encoding, compression, quoting, quotechar, line_terminator, chunksize, tupleize_cols, date_format, doublequote, escapechar, decimal, **kwds)\u001b[0m\n\u001b[0;32m   1342\u001b[0m                                      \u001b[0mdoublequote\u001b[0m\u001b[1;33m=\u001b[0m\u001b[0mdoublequote\u001b[0m\u001b[1;33m,\u001b[0m\u001b[1;33m\u001b[0m\u001b[0m\n\u001b[0;32m   1343\u001b[0m                                      escapechar=escapechar, decimal=decimal)\n\u001b[1;32m-> 1344\u001b[1;33m         \u001b[0mformatter\u001b[0m\u001b[1;33m.\u001b[0m\u001b[0msave\u001b[0m\u001b[1;33m(\u001b[0m\u001b[1;33m)\u001b[0m\u001b[1;33m\u001b[0m\u001b[0m\n\u001b[0m\u001b[0;32m   1345\u001b[0m \u001b[1;33m\u001b[0m\u001b[0m\n\u001b[0;32m   1346\u001b[0m         \u001b[1;32mif\u001b[0m \u001b[0mpath_or_buf\u001b[0m \u001b[1;32mis\u001b[0m \u001b[0mNone\u001b[0m\u001b[1;33m:\u001b[0m\u001b[1;33m\u001b[0m\u001b[0m\n",
      "\u001b[1;32m/home/hobs/.virtualenvs/twip/local/lib/python2.7/site-packages/pandas/formats/format.pyc\u001b[0m in \u001b[0;36msave\u001b[1;34m(self)\u001b[0m\n\u001b[0;32m   1524\u001b[0m             f = _get_handle(self.path_or_buf, self.mode,\n\u001b[0;32m   1525\u001b[0m                             \u001b[0mencoding\u001b[0m\u001b[1;33m=\u001b[0m\u001b[0mself\u001b[0m\u001b[1;33m.\u001b[0m\u001b[0mencoding\u001b[0m\u001b[1;33m,\u001b[0m\u001b[1;33m\u001b[0m\u001b[0m\n\u001b[1;32m-> 1526\u001b[1;33m                             compression=self.compression)\n\u001b[0m\u001b[0;32m   1527\u001b[0m             \u001b[0mclose\u001b[0m \u001b[1;33m=\u001b[0m \u001b[0mTrue\u001b[0m\u001b[1;33m\u001b[0m\u001b[0m\n\u001b[0;32m   1528\u001b[0m \u001b[1;33m\u001b[0m\u001b[0m\n",
      "\u001b[1;32m/home/hobs/.virtualenvs/twip/local/lib/python2.7/site-packages/pandas/io/common.pyc\u001b[0m in \u001b[0;36m_get_handle\u001b[1;34m(path, mode, encoding, compression)\u001b[0m\n\u001b[0;32m    384\u001b[0m         \u001b[1;32mif\u001b[0m \u001b[0mencoding\u001b[0m \u001b[1;32mis\u001b[0m \u001b[1;32mnot\u001b[0m \u001b[0mNone\u001b[0m \u001b[1;32mand\u001b[0m \u001b[1;32mnot\u001b[0m \u001b[0mcompat\u001b[0m\u001b[1;33m.\u001b[0m\u001b[0mPY3\u001b[0m\u001b[1;33m:\u001b[0m\u001b[1;33m\u001b[0m\u001b[0m\n\u001b[0;32m    385\u001b[0m             \u001b[0mmsg\u001b[0m \u001b[1;33m=\u001b[0m \u001b[1;34m'encoding + compression not yet supported in Python 2'\u001b[0m\u001b[1;33m\u001b[0m\u001b[0m\n\u001b[1;32m--> 386\u001b[1;33m             \u001b[1;32mraise\u001b[0m \u001b[0mValueError\u001b[0m\u001b[1;33m(\u001b[0m\u001b[0mmsg\u001b[0m\u001b[1;33m)\u001b[0m\u001b[1;33m\u001b[0m\u001b[0m\n\u001b[0m\u001b[0;32m    387\u001b[0m \u001b[1;33m\u001b[0m\u001b[0m\n\u001b[0;32m    388\u001b[0m         \u001b[1;32mif\u001b[0m \u001b[0mcompression\u001b[0m \u001b[1;33m==\u001b[0m \u001b[1;34m'gzip'\u001b[0m\u001b[1;33m:\u001b[0m\u001b[1;33m\u001b[0m\u001b[0m\n",
      "\u001b[1;31mValueError\u001b[0m: encoding + compression not yet supported in Python 2"
     ]
    }
   ],
   "source": [
    "f = os.path.join(DATA_PATH, 'text.csv.gz')\n",
    "df.to_csv(f, encoding='utf8', compression='gzip', quoting=pd.io.common.csv.QUOTE_NONNUMERIC)"
   ]
  },
  {
   "cell_type": "code",
   "execution_count": 22,
   "metadata": {
    "collapsed": false
   },
   "outputs": [],
   "source": [
    "import gzip\n",
    "with gzip.open(os.path.join(DATA_PATH, 'text.csv.gz'), 'wb') as f:\n",
    "    df.to_csv(f, encoding='utf8', quoting=pd.io.common.csv.QUOTE_NONNUMERIC)"
   ]
  },
  {
   "cell_type": "markdown",
   "metadata": {},
   "source": [
    "Make sure you can read it back in!"
   ]
  },
  {
   "cell_type": "code",
   "execution_count": 17,
   "metadata": {
    "collapsed": false
   },
   "outputs": [
    {
     "data": {
      "text/html": [
       "<div>\n",
       "<table border=\"1\" class=\"dataframe\">\n",
       "  <thead>\n",
       "    <tr style=\"text-align: right;\">\n",
       "      <th></th>\n",
       "      <th>id</th>\n",
       "      <th>text</th>\n",
       "      <th>tokens</th>\n",
       "      <th>txt</th>\n",
       "    </tr>\n",
       "  </thead>\n",
       "  <tbody>\n",
       "    <tr>\n",
       "      <th>87</th>\n",
       "      <td>724276510626979840</td>\n",
       "      <td>#python never stop learning what you enjoy doi...</td>\n",
       "      <td>[#python, never, stop, learning, what, you, en...</td>\n",
       "      <td>python never stop learning what you enjoy doing</td>\n",
       "    </tr>\n",
       "    <tr>\n",
       "      <th>88</th>\n",
       "      <td>724276498249572352</td>\n",
       "      <td>Watching Boa vs. Python — https://t.co/Pivpk02s2A</td>\n",
       "      <td>[Watching, Boa, vs., Python, —]</td>\n",
       "      <td>Watching Boa vs Python</td>\n",
       "    </tr>\n",
       "    <tr>\n",
       "      <th>90</th>\n",
       "      <td>724276388325412866</td>\n",
       "      <td>Monty Python - The silly walk https://t.co/C0J...</td>\n",
       "      <td>[Monty, Python, -, The, silly, walk, via, @You...</td>\n",
       "      <td>Monty Python The silly walk via YouTube</td>\n",
       "    </tr>\n",
       "    <tr>\n",
       "      <th>...</th>\n",
       "      <td>...</td>\n",
       "      <td>...</td>\n",
       "      <td>...</td>\n",
       "      <td>...</td>\n",
       "    </tr>\n",
       "    <tr>\n",
       "      <th>193375</th>\n",
       "      <td>724275609858392066</td>\n",
       "      <td>RT @RealPython: List of Python API Wrappers &amp;g...</td>\n",
       "      <td>[RT, @RealPython:, List, of, Python, API, Wrap...</td>\n",
       "      <td>RT RealPython List of Python API Wrappers gt g...</td>\n",
       "    </tr>\n",
       "    <tr>\n",
       "      <th>193376</th>\n",
       "      <td>724275578879111169</td>\n",
       "      <td>Watching Boa vs. Python — https://t.co/5THbrirfQO</td>\n",
       "      <td>[Watching, Boa, vs., Python, —]</td>\n",
       "      <td>Watching Boa vs Python</td>\n",
       "    </tr>\n",
       "    <tr>\n",
       "      <th>193377</th>\n",
       "      <td>724275568871673857</td>\n",
       "      <td>Чертова дюжина вакансий в IT и Digital /  / 1....</td>\n",
       "      <td>[Чертова, дюжина, вакансий, в, IT, и, Digital,...</td>\n",
       "      <td>IT Digital 1 Go 150 000 2 Senior Python Djan</td>\n",
       "    </tr>\n",
       "  </tbody>\n",
       "</table>\n",
       "<p>183070 rows × 4 columns</p>\n",
       "</div>"
      ],
      "text/plain": [
       "                        id                                               text                                             tokens                                                txt\n",
       "87      724276510626979840  #python never stop learning what you enjoy doi...  [#python, never, stop, learning, what, you, en...   python never stop learning what you enjoy doing \n",
       "88      724276498249572352  Watching Boa vs. Python — https://t.co/Pivpk02s2A                    [Watching, Boa, vs., Python, —]                            Watching Boa vs Python \n",
       "90      724276388325412866  Monty Python - The silly walk https://t.co/C0J...  [Monty, Python, -, The, silly, walk, via, @You...            Monty Python The silly walk via YouTube\n",
       "...                    ...                                                ...                                                ...                                                ...\n",
       "193375  724275609858392066  RT @RealPython: List of Python API Wrappers &g...  [RT, @RealPython:, List, of, Python, API, Wrap...  RT RealPython List of Python API Wrappers gt g...\n",
       "193376  724275578879111169  Watching Boa vs. Python — https://t.co/5THbrirfQO                    [Watching, Boa, vs., Python, —]                            Watching Boa vs Python \n",
       "193377  724275568871673857  Чертова дюжина вакансий в IT и Digital /  / 1....  [Чертова, дюжина, вакансий, в, IT, и, Digital,...      IT Digital 1 Go 150 000 2 Senior Python Djan \n",
       "\n",
       "[183070 rows x 4 columns]"
      ]
     },
     "execution_count": 17,
     "metadata": {},
     "output_type": "execute_result"
    }
   ],
   "source": [
    "df = pd.DataFrame.from_csv(os.path.join(DATA_PATH, 'text.csv.gz'))\n",
    "df"
   ]
  }
 ],
 "metadata": {
  "kernelspec": {
   "display_name": "Python 2",
   "language": "python",
   "name": "python2"
  },
  "language_info": {
   "codemirror_mode": {
    "name": "ipython",
    "version": 2
   },
   "file_extension": ".py",
   "mimetype": "text/x-python",
   "name": "python",
   "nbconvert_exporter": "python",
   "pygments_lexer": "ipython2",
   "version": "2.7.11+"
  }
 },
 "nbformat": 4,
 "nbformat_minor": 0
}
