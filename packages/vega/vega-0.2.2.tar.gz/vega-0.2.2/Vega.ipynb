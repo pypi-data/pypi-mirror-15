{
 "cells": [
  {
   "cell_type": "code",
   "execution_count": 1,
   "metadata": {
    "collapsed": true
   },
   "outputs": [],
   "source": [
    "%load_ext autoreload\n",
    "%autoreload 2"
   ]
  },
  {
   "cell_type": "code",
   "execution_count": 2,
   "metadata": {
    "collapsed": false,
    "scrolled": true
   },
   "outputs": [
    {
     "data": {
      "application/javascript": [
       "\n",
       "require(\"notebook/js/outputarea\").OutputArea.prototype._should_scroll = function(lines) {\n",
       "    return false;\n",
       "}\n"
      ],
      "text/plain": [
       "<IPython.core.display.Javascript object>"
      ]
     },
     "metadata": {},
     "output_type": "display_data"
    },
    {
     "name": "stdout",
     "output_type": "stream",
     "text": [
      "autoscrolling is disabled\n"
     ]
    }
   ],
   "source": [
    "%load_ext vega.disable_autoscroll"
   ]
  },
  {
   "cell_type": "code",
   "execution_count": 3,
   "metadata": {
    "collapsed": true
   },
   "outputs": [],
   "source": [
    "from vega import vega"
   ]
  },
  {
   "cell_type": "code",
   "execution_count": 4,
   "metadata": {
    "collapsed": false
   },
   "outputs": [
    {
     "data": {
      "text/html": [
       "<div class=\"vega-embed\" data-type=\"vega\">{\"padding\": {\"left\": 30, \"top\": 10, \"bottom\": 30, \"right\": 10}, \"marks\": [{\"type\": \"rect\", \"from\": {\"data\": \"table\"}, \"properties\": {\"hover\": {\"fill\": {\"value\": \"red\"}}, \"update\": {\"fill\": {\"value\": \"steelblue\"}}, \"enter\": {\"y\": {\"field\": \"y\", \"scale\": \"y\"}, \"y2\": {\"value\": 0, \"scale\": \"y\"}, \"width\": {\"band\": true, \"scale\": \"x\", \"offset\": -1}, \"x\": {\"field\": \"x\", \"scale\": \"x\"}}}}], \"data\": [{\"name\": \"table\", \"values\": [{\"y\": 28, \"x\": 1}, {\"y\": 55, \"x\": 2}, {\"y\": 43, \"x\": 3}, {\"y\": 91, \"x\": 4}, {\"y\": 81, \"x\": 5}, {\"y\": 53, \"x\": 6}, {\"y\": 19, \"x\": 7}, {\"y\": 87, \"x\": 8}, {\"y\": 52, \"x\": 9}, {\"y\": 48, \"x\": 10}, {\"y\": 24, \"x\": 11}, {\"y\": 49, \"x\": 12}, {\"y\": 87, \"x\": 13}, {\"y\": 66, \"x\": 14}, {\"y\": 17, \"x\": 15}, {\"y\": 27, \"x\": 16}, {\"y\": 68, \"x\": 17}, {\"y\": 16, \"x\": 18}, {\"y\": 49, \"x\": 19}, {\"y\": 15, \"x\": 20}]}], \"scales\": [{\"domain\": {\"field\": \"x\", \"data\": \"table\"}, \"type\": \"ordinal\", \"name\": \"x\", \"range\": \"width\"}, {\"domain\": {\"field\": \"y\", \"data\": \"table\"}, \"type\": \"linear\", \"name\": \"y\", \"nice\": true, \"range\": \"height\"}], \"axes\": [{\"type\": \"x\", \"scale\": \"x\"}, {\"type\": \"y\", \"scale\": \"y\"}], \"height\": 200, \"width\": 400}</div>\n"
      ],
      "text/plain": [
       "<vega.vega.Vega at 0x1115bd240>"
      ]
     },
     "metadata": {},
     "output_type": "display_data"
    }
   ],
   "source": [
    "vega.view({\n",
    "  \"width\": 400,\n",
    "  \"height\": 200,\n",
    "  \"padding\": {\"top\": 10, \"left\": 30, \"bottom\": 30, \"right\": 10},\n",
    "  \"data\": [\n",
    "    {\n",
    "      \"name\": \"table\",\n",
    "      \"values\": [\n",
    "        {\"x\": 1,  \"y\": 28}, {\"x\": 2,  \"y\": 55},\n",
    "        {\"x\": 3,  \"y\": 43}, {\"x\": 4,  \"y\": 91},\n",
    "        {\"x\": 5,  \"y\": 81}, {\"x\": 6,  \"y\": 53},\n",
    "        {\"x\": 7,  \"y\": 19}, {\"x\": 8,  \"y\": 87},\n",
    "        {\"x\": 9,  \"y\": 52}, {\"x\": 10, \"y\": 48},\n",
    "        {\"x\": 11, \"y\": 24}, {\"x\": 12, \"y\": 49},\n",
    "        {\"x\": 13, \"y\": 87}, {\"x\": 14, \"y\": 66},\n",
    "        {\"x\": 15, \"y\": 17}, {\"x\": 16, \"y\": 27},\n",
    "        {\"x\": 17, \"y\": 68}, {\"x\": 18, \"y\": 16},\n",
    "        {\"x\": 19, \"y\": 49}, {\"x\": 20, \"y\": 15}\n",
    "      ]\n",
    "    }\n",
    "  ],\n",
    "  \"scales\": [\n",
    "    {\n",
    "      \"name\": \"x\",\n",
    "      \"type\": \"ordinal\",\n",
    "      \"range\": \"width\",\n",
    "      \"domain\": {\"data\": \"table\", \"field\": \"x\"}\n",
    "    },\n",
    "    {\n",
    "      \"name\": \"y\",\n",
    "      \"type\": \"linear\",\n",
    "      \"range\": \"height\",\n",
    "      \"domain\": {\"data\": \"table\", \"field\": \"y\"},\n",
    "      \"nice\": True\n",
    "    }\n",
    "  ],\n",
    "  \"axes\": [\n",
    "    {\"type\": \"x\", \"scale\": \"x\"},\n",
    "    {\"type\": \"y\", \"scale\": \"y\"}\n",
    "  ],\n",
    "  \"marks\": [\n",
    "    {\n",
    "      \"type\": \"rect\",\n",
    "      \"from\": {\"data\": \"table\"},\n",
    "      \"properties\": {\n",
    "        \"enter\": {\n",
    "          \"x\": {\"scale\": \"x\", \"field\": \"x\"},\n",
    "          \"width\": {\"scale\": \"x\", \"band\": True, \"offset\": -1},\n",
    "          \"y\": {\"scale\": \"y\", \"field\": \"y\"},\n",
    "          \"y2\": {\"scale\": \"y\", \"value\": 0}\n",
    "        },\n",
    "        \"update\": {\n",
    "          \"fill\": {\"value\": \"steelblue\"}\n",
    "        },\n",
    "        \"hover\": {\n",
    "          \"fill\": {\"value\": \"red\"}\n",
    "        }\n",
    "      }\n",
    "    }\n",
    "  ]\n",
    "})"
   ]
  }
 ],
 "metadata": {
  "kernelspec": {
   "display_name": "Python 3",
   "language": "python",
   "name": "python3"
  },
  "language_info": {
   "codemirror_mode": {
    "name": "ipython",
    "version": 3
   },
   "file_extension": ".py",
   "mimetype": "text/x-python",
   "name": "python",
   "nbconvert_exporter": "python",
   "pygments_lexer": "ipython3",
   "version": "3.5.1"
  }
 },
 "nbformat": 4,
 "nbformat_minor": 0
}
