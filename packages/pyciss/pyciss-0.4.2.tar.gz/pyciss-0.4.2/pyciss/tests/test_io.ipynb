{
 "cells": [
  {
   "cell_type": "code",
   "execution_count": 1,
   "metadata": {
    "collapsed": false
   },
   "outputs": [
    {
     "name": "stdout",
     "output_type": "stream",
     "text": [
      "Found 1 obsids.\n",
      "Downloading N1695760475_1.IMG\n",
      "Downloading N1695760475_1.LBL\n"
     ]
    }
   ],
   "source": [
    "# setup\n",
    "from pyciss import io, ringcube\n",
    "from pyciss.opusapi import OPUS\n",
    "import tempfile\n",
    "from pathlib import Path\n",
    "tmpdir = tempfile.TemporaryDirectory()\n",
    "opus = OPUS()\n",
    "img_id = 'N1695760475'\n",
    "opus.query_image_id(img_id)\n",
    "opus.download_results(savedir = tmpdir.name)"
   ]
  },
  {
   "cell_type": "code",
   "execution_count": 2,
   "metadata": {
    "collapsed": false
   },
   "outputs": [],
   "source": [
    "# test_PathManager\n",
    "pathmanager = io.PathManager(img_id, savedir=tmpdir.name)\n",
    "assert pathmanager.raw_image == Path(tmpdir.name) / img_id / (img_id+'_1.IMG')\n",
    "assert pathmanager.cubepath == Path(tmpdir.name) / img_id / (img_id+'_1.cal.dst.map.cub')"
   ]
  }
 ],
 "metadata": {
  "kernelspec": {
   "display_name": "Python [stable]",
   "language": "python",
   "name": "Python [stable]"
  },
  "language_info": {
   "codemirror_mode": {
    "name": "ipython",
    "version": 3
   },
   "file_extension": ".py",
   "mimetype": "text/x-python",
   "name": "python",
   "nbconvert_exporter": "python",
   "pygments_lexer": "ipython3",
   "version": "3.5.1"
  },
  "widgets": {
   "state": {},
   "version": "1.1.1"
  }
 },
 "nbformat": 4,
 "nbformat_minor": 0
}
