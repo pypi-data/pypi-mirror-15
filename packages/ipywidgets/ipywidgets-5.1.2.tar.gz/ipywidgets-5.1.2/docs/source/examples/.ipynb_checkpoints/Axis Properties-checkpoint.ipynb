{
 "cells": [
  {
   "cell_type": "code",
   "execution_count": 1,
   "metadata": {
    "collapsed": false
   },
   "outputs": [],
   "source": [
    "import numpy as np\n",
    "from IPython.display import display\n",
    "from bqplot import *"
   ]
  },
  {
   "cell_type": "code",
   "execution_count": 2,
   "metadata": {
    "collapsed": true
   },
   "outputs": [],
   "source": [
    "np.random.seed(0)\n",
    "size = 100\n",
    "x_data = range(size)\n",
    "y_data = np.cumsum(np.random.randn(size) * 100.0)\n",
    "y_data_2 = np.cumsum(np.random.randn(size))"
   ]
  },
  {
   "cell_type": "markdown",
   "metadata": {},
   "source": [
    "## Miscellaneous Properties"
   ]
  },
  {
   "cell_type": "code",
   "execution_count": 3,
   "metadata": {
    "collapsed": false
   },
   "outputs": [],
   "source": [
    "y_sc = LinearScale()\n",
    "\n",
    "ax_x = Axis(label='Test X', scale=y_sc, grid_lines='solid')\n",
    "ax_y = Axis(label='Test Y', scale=y_sc, orientation='vertical', tick_format='0.2f', grid_lines='solid')\n",
    "\n",
    "line = Lines(x=y_data_2, y=y_data_2,\n",
    "             scales={'x': y_sc, 'y': y_sc}, colors=['hotpink', 'orange'])\n",
    "\n",
    "m_fig = dict(left=100, top=50, bottom=50, right=100)\n",
    "fig = Figure(axes=[ax_x, ax_y], marks=[line], fig_margin=m_fig)\n",
    "display(fig)"
   ]
  },
  {
   "cell_type": "code",
   "execution_count": 4,
   "metadata": {
    "collapsed": true
   },
   "outputs": [],
   "source": [
    "# Displaying Grid Lines for the axis\n",
    "ax_x.grid_lines = 'solid'\n",
    "ax_y.grid_lines = 'dashed'"
   ]
  },
  {
   "cell_type": "code",
   "execution_count": 5,
   "metadata": {
    "collapsed": true
   },
   "outputs": [],
   "source": [
    "# Changing the side of the axis\n",
    "ax_y.side = \"right\"\n",
    "ax_x.side = \"top\""
   ]
  },
  {
   "cell_type": "code",
   "execution_count": 6,
   "metadata": {
    "collapsed": true
   },
   "outputs": [],
   "source": [
    "ax_y.orientation = \"horizontal\"\n",
    "ax_x.orientation = \"vertical\""
   ]
  },
  {
   "cell_type": "code",
   "execution_count": 7,
   "metadata": {
    "collapsed": true
   },
   "outputs": [],
   "source": [
    "## Changing the format of the ticks on the axis\n",
    "fig.axes[0].tick_format = \"0.2f\"\n",
    "fig.axes[1].tick_format = \"0.0f\""
   ]
  },
  {
   "cell_type": "code",
   "execution_count": 8,
   "metadata": {
    "collapsed": true
   },
   "outputs": [],
   "source": [
    "## Changing the color of the axis\n",
    "with ax_x.hold_sync():\n",
    "    ax_x.color = 'orangered'\n",
    "    ax_x.label_color = 'orangered'"
   ]
  },
  {
   "cell_type": "code",
   "execution_count": 9,
   "metadata": {
    "collapsed": true
   },
   "outputs": [],
   "source": [
    "#change the grid colors\n",
    "ax_x.grid_color = 'red'"
   ]
  },
  {
   "cell_type": "markdown",
   "metadata": {},
   "source": [
    "## Label Placement"
   ]
  },
  {
   "cell_type": "code",
   "execution_count": 10,
   "metadata": {
    "collapsed": true
   },
   "outputs": [],
   "source": [
    "x_sc = LinearScale()\n",
    "y_sc = LinearScale()\n",
    "\n",
    "ax_x = Axis(label='Test X', scale=x_sc)\n",
    "ax_y = Axis(label='Test Y', scale=y_sc, orientation='vertical', tick_format='0.3f')\n",
    "\n",
    "line = Lines(x=x_data, y=y_data_2, scales={'x': x_sc, 'y': y_sc}, colors=['hotpink', 'orange'])\n",
    "\n",
    "m_fig = dict(left=100, top=50, bottom=50, right=100)\n",
    "fig = Figure(axes=[ax_x, ax_y], marks=[line], fig_margin=m_fig)\n",
    "display(fig)"
   ]
  },
  {
   "cell_type": "code",
   "execution_count": 11,
   "metadata": {
    "collapsed": true
   },
   "outputs": [],
   "source": [
    "## moving the label along the axis\n",
    "ax_x.label_location = 'end'\n",
    "ax_y.label_location = 'start'"
   ]
  },
  {
   "cell_type": "code",
   "execution_count": 12,
   "metadata": {
    "collapsed": true
   },
   "outputs": [],
   "source": [
    "## moving the label perpendicular to the axis\n",
    "ax_y.label_offset = '6ex'\n",
    "ax_x.label_offset = '-1em'"
   ]
  },
  {
   "cell_type": "markdown",
   "metadata": {},
   "source": [
    "## Ticks properties"
   ]
  },
  {
   "cell_type": "code",
   "execution_count": 13,
   "metadata": {
    "collapsed": true
   },
   "outputs": [],
   "source": [
    "x_sc = LinearScale()\n",
    "y_sc = LinearScale()\n",
    "\n",
    "ax_x = Axis(label='index', scale=x_sc)\n",
    "ax_y = Axis(label='Brownian', scale=y_sc, orientation='vertical', tick_format='0.2f')\n",
    "\n",
    "line = Lines(x=x_data[:20], y=y_data[:20], scales={'x': x_sc, 'y': y_sc}, colors=['hotpink', 'orange'])\n",
    "\n",
    "m_fig = dict(left=50, top=50, bottom=50, right=50)\n",
    "fig = Figure(axes=[ax_x, ax_y], marks=[line], fig_margin=m_fig)\n",
    "display(fig)"
   ]
  },
  {
   "cell_type": "code",
   "execution_count": 14,
   "metadata": {
    "collapsed": true
   },
   "outputs": [],
   "source": [
    "# Setting the number of ticks\n",
    "ax_x.num_ticks = 8"
   ]
  },
  {
   "cell_type": "code",
   "execution_count": 15,
   "metadata": {
    "collapsed": true
   },
   "outputs": [],
   "source": [
    "# Setting the tick values\n",
    "ax_x.tick_values = np.arange(1, 21)"
   ]
  },
  {
   "cell_type": "markdown",
   "metadata": {},
   "source": [
    "# Axis Placement"
   ]
  },
  {
   "cell_type": "code",
   "execution_count": 16,
   "metadata": {
    "collapsed": false
   },
   "outputs": [],
   "source": [
    "sc_x = LinearScale()\n",
    "sc_y = LinearScale(reverse=True)\n",
    "sc_y2 = LinearScale()\n",
    "\n",
    "sc1 = Scatter(x=x_data[:10], y=y_data[:10],\n",
    "              scales={'x': sc_x, 'y': sc_y},\n",
    "              labels=['Test 1'],\n",
    "              default_size=100, display_legend=True)\n",
    "\n",
    "sc2 = Scatter(x=x_data[:10], y=y_data_2[:10],\n",
    "              default_colors=['dodgerblue'],\n",
    "              marker='cross', labels=['Test 2'],\n",
    "              scales={'x': sc_x, 'y': sc_y2}, display_legend=True)"
   ]
  },
  {
   "cell_type": "markdown",
   "metadata": {},
   "source": [
    "## Placement of axis in terms of figure scales"
   ]
  },
  {
   "cell_type": "code",
   "execution_count": 17,
   "metadata": {
    "collapsed": false
   },
   "outputs": [],
   "source": [
    "## Setting offset for axis in terms of figure scales\n",
    "ax_x = Axis(label='Test X', scale=sc_x, \n",
    "            grid_lines='solid', offset=dict(value=0.2), label_location=\"start\")\n",
    "\n",
    "ax_y = Axis(label='Test Y', scale=sc_y, \n",
    "            orientation='vertical', tick_format='0.2f', grid_lines='solid', label_location=\"end\")\n",
    "\n",
    "ax_y2 = Axis(label='Test Y2', scale=sc_y2, orientation='vertical', side='right', \n",
    "             tick_format='0.2f')\n",
    "fig = Figure(axes=[ax_x, ax_y, ax_y2], marks=[sc1, sc2], legend_location='top-right',\n",
    "             padding_x=0.025)\n",
    "display(fig)"
   ]
  },
  {
   "cell_type": "code",
   "execution_count": 18,
   "metadata": {
    "collapsed": true
   },
   "outputs": [],
   "source": [
    "# restoring to default position\n",
    "ax_x.offset = {}"
   ]
  },
  {
   "cell_type": "markdown",
   "metadata": {},
   "source": [
    "## Placement of axis in terms of actual scales and data"
   ]
  },
  {
   "cell_type": "code",
   "execution_count": 19,
   "metadata": {
    "collapsed": false
   },
   "outputs": [],
   "source": [
    "ax_y.offset = dict(value=3.0, scale=sc_x)"
   ]
  },
  {
   "cell_type": "markdown",
   "metadata": {},
   "source": [
    "# Color Axis"
   ]
  },
  {
   "cell_type": "code",
   "execution_count": 30,
   "metadata": {
    "collapsed": false
   },
   "outputs": [],
   "source": [
    "x_sc = LinearScale()\n",
    "y_sc = LinearScale()\n",
    "col_sc = ColorScale()\n",
    "\n",
    "scatter = Scatter(x=x_data, y=y_data, color=y_data_2,\n",
    "                  scales={'x': x_sc, 'y':y_sc, 'color': col_sc})\n",
    "ax_x = Axis(scale=x_sc)\n",
    "ax_y = Axis(scale=y_sc, orientation='vertical', tick_format='0.2f')\n",
    "ax_c = ColorAxis(scale=col_sc, label='Color', side='right', orientation='vertical')\n",
    "\n",
    "margin=dict(top=80, left=80, right=80, bottom=80)\n",
    "display(Figure(marks=[scatter], axes=[ax_x, ax_y, ax_c], fig_margin=margin))"
   ]
  },
  {
   "cell_type": "markdown",
   "metadata": {},
   "source": [
    "## Changing side and orientation of color axis"
   ]
  },
  {
   "cell_type": "code",
   "execution_count": 24,
   "metadata": {
    "collapsed": true
   },
   "outputs": [],
   "source": [
    "ax_c.side = 'top'"
   ]
  },
  {
   "cell_type": "code",
   "execution_count": 22,
   "metadata": {
    "collapsed": true
   },
   "outputs": [],
   "source": [
    "with ax_c.hold_sync():\n",
    "    ax_c.orientation = 'vertical'\n",
    "    ax_c.side = 'right'"
   ]
  },
  {
   "cell_type": "code",
   "execution_count": 23,
   "metadata": {
    "collapsed": true
   },
   "outputs": [],
   "source": [
    "ax_y.side = 'right'\n",
    "ax_c.side = 'left'"
   ]
  },
  {
   "cell_type": "code",
   "execution_count": null,
   "metadata": {
    "collapsed": true
   },
   "outputs": [],
   "source": []
  }
 ],
 "metadata": {
  "kernelspec": {
   "display_name": "Python 2",
   "language": "python",
   "name": "python2"
  },
  "language_info": {
   "codemirror_mode": {
    "name": "ipython",
    "version": 2
   },
   "file_extension": ".py",
   "mimetype": "text/x-python",
   "name": "python",
   "nbconvert_exporter": "python",
   "pygments_lexer": "ipython2",
   "version": "2.7.11"
  },
  "widgets": {
   "state": {
    "014c57c2d8144d219ea215bf36e4f937": {
     "views": []
    },
    "01598ee5a9914ebb8e1102c2a30702d3": {
     "views": []
    },
    "016aacd074f4465981cd6e4aecba4104": {
     "views": []
    },
    "01e3c263a94440adbafd64be1041b918": {
     "views": []
    },
    "01ee86927dfe44879d661032e88ffe54": {
     "views": []
    },
    "0287ee1901d74596afba2446a8e9469e": {
     "views": []
    },
    "03577d5273f04ca9862890424afd0d52": {
     "views": []
    },
    "041b6806d00244298eb5585d869937d8": {
     "views": []
    },
    "04652c4876a946d7b5b8b2ef8049a33f": {
     "views": []
    },
    "060b5557fcfa413eb49895ae1da9f324": {
     "views": []
    },
    "06c16cea5a8c479fb196860e45a25a59": {
     "views": []
    },
    "07ac1f1dc4704aef9cb8c4ef63090ad6": {
     "views": []
    },
    "0b026f4bd3ec455cbf606d9baa22d8c7": {
     "views": []
    },
    "0b132f2bf30046e0bb9813cae999d818": {
     "views": []
    },
    "0b7384e0f3de4c22b35f7e181fdb6e30": {
     "views": []
    },
    "0b8f6bc5a7034f9dac1ffe2ef2f6cedf": {
     "views": []
    },
    "0ccab45dd0874121ad58fceabc31bfc6": {
     "views": []
    },
    "0fc877314fa446e6a585896f1e40abfb": {
     "views": []
    },
    "1012a05ed8294f52b8b2eb072c4d5fba": {
     "views": []
    },
    "105a2eb79f4b49b4bf28a17bc2607fdd": {
     "views": []
    },
    "10e3da9f6ba3490c82b5df6811daa086": {
     "views": []
    },
    "116e211092c44a39b058d8f64265b369": {
     "views": [
      {
       "cell": {
        "cell_type": "code",
        "execution_count": 13,
        "metadata": {
         "collapsed": true,
         "trusted": true
        },
        "outputs": [],
        "source": "x_sc = LinearScale()\ny_sc = LinearScale()\n\nax_x = Axis(label='index', scale=x_sc)\nax_y = Axis(label='Brownian', scale=y_sc, orientation='vertical', tick_format='0.2f')\n\nline = Lines(x=x_data[:20], y=y_data[:20], scales={'x': x_sc, 'y': y_sc}, colors=['hotpink', 'orange'])\n\nm_fig = dict(left=50, top=50, bottom=50, right=50)\nfig = Figure(axes=[ax_x, ax_y], marks=[line], fig_margin=m_fig)\ndisplay(fig)"
       },
       "cell_index": 15,
       "root": true
      }
     ]
    },
    "13245a0c0da642628ae28ef2d655364f": {
     "views": []
    },
    "13616ae580de40769174139bf23e823d": {
     "views": []
    },
    "16f8180bef5549eab3b0a2372cd33491": {
     "views": []
    },
    "191162031e6a4daeb0790edf7cb77472": {
     "views": []
    },
    "19904c8b97f0457a81d3193aca1c4e43": {
     "views": []
    },
    "1b9b07d231f74f17a601f43437606228": {
     "views": []
    },
    "1cab2bbdccf44106b3cd2c194a4fe7e6": {
     "views": []
    },
    "1e34cf4f9c8048dda9962fd0428e4933": {
     "views": [
      {
       "cell": {
        "cell_type": "code",
        "execution_count": 17,
        "metadata": {
         "collapsed": false,
         "trusted": true
        },
        "outputs": [],
        "source": "## Setting offset for axis in terms of figure scales\nax_x = Axis(label='Test X', scale=sc_x, \n            grid_lines='solid', offset=dict(value=0.2), label_location=\"start\")\n\nax_y = Axis(label='Test Y', scale=sc_y, \n            orientation='vertical', tick_format='0.2f', grid_lines='solid', label_location=\"end\")\n\nax_y2 = Axis(label='Test Y2', scale=sc_y2, orientation='vertical', side='right', \n             tick_format='0.2f')\nfig = Figure(axes=[ax_x, ax_y, ax_y2], marks=[sc1, sc2], legend_location='top-right',\n             padding_x=0.025)\ndisplay(fig)"
       },
       "cell_index": 21,
       "root": true
      }
     ]
    },
    "226c16a51e7049d796ad65949ed6074b": {
     "views": []
    },
    "22d083ae2d8b49cfbd8be069d90c8bdb": {
     "views": []
    },
    "25827376775547e699aab1733e53563d": {
     "views": []
    },
    "25998654e3b0415e9df719468e5ff2c8": {
     "views": []
    },
    "28d047993c9b439f81620f549298573e": {
     "views": []
    },
    "2c72083ed0ed4d03a263f10750b444f2": {
     "views": []
    },
    "2ef3f80ddcf2410fafcc851a3b9fb554": {
     "views": []
    },
    "2f3d158ed43248b8acd47d25abec5f4b": {
     "views": []
    },
    "337d73a15cf540629d00bc1ffda5e257": {
     "views": []
    },
    "354238585e254900a5b134ff61622ce0": {
     "views": []
    },
    "363dea125f304f18ae29d506c259c9c6": {
     "views": []
    },
    "393314e0c6c24b709146deef8e4bcf98": {
     "views": []
    },
    "3b59453dbeac4ebf9f11b66547295d4d": {
     "views": []
    },
    "3f3f9220683440fbb2a7a8ceb08c7368": {
     "views": []
    },
    "3f5291feb17e48eb8ad0a313959ef8cf": {
     "views": []
    },
    "40835622954d43f580f808a2a733f2ae": {
     "views": []
    },
    "416d37f370e0419e8f10591070479dee": {
     "views": []
    },
    "4233bd69571640938b480b71f6dcb0d6": {
     "views": []
    },
    "42919501201243379585736516257793": {
     "views": []
    },
    "42bea5ce209544a0bee3f82261767cc3": {
     "views": []
    },
    "43d17ecb7dd849a4a6f4fdf527cbd4d2": {
     "views": []
    },
    "442742733ad14851827ad11d9fe7c253": {
     "views": []
    },
    "443fb06dace0479c9eb94f915fb4d0e3": {
     "views": []
    },
    "447f6da0b460403396d78b9afb1e0b6d": {
     "views": []
    },
    "4604960c48b6464a82d693f3c9144761": {
     "views": []
    },
    "478a6c3a493749f4b8867338bbfe352f": {
     "views": []
    },
    "4a06b537132d47119625732a9edeace4": {
     "views": []
    },
    "4b8d500724fc498ab063b84b72e147db": {
     "views": []
    },
    "4c01365a7a4748ec8d24b74333114492": {
     "views": []
    },
    "502a0b1366e94680901b966f6b6e086a": {
     "views": []
    },
    "526f20a64ab64e55b5adc79b4880c96a": {
     "views": []
    },
    "556f48da888b4e6da8af2e2296f195eb": {
     "views": []
    },
    "55eb5dce96f047fa8e1ef5e27510e56b": {
     "views": []
    },
    "590041cc48834f86b5771af1c3271a67": {
     "views": []
    },
    "5a1121a55b2e4ded82070a57d7a03996": {
     "views": []
    },
    "5a7388e927884027977faab60bf6f6fa": {
     "views": []
    },
    "5d062deec44b47d39404b82eb733d22b": {
     "views": []
    },
    "5d9f189b395841d78e6a93766644373a": {
     "views": []
    },
    "5fb25fa5aef948f2a96763b894d1d997": {
     "views": []
    },
    "61e73fa6149844539923838702fa6d36": {
     "views": []
    },
    "62a8146a73ee4900a1cf91eee17bd5c0": {
     "views": []
    },
    "63750e7e9eeb4fa38009411b6cc91be7": {
     "views": []
    },
    "63ff54bacf904f71b6d6c25439c5c3c3": {
     "views": []
    },
    "642a5c5b327a4605ba329f60978da1ed": {
     "views": []
    },
    "6985634ca3da47ac996b190581cf48c8": {
     "views": []
    },
    "69a3c3b928b14666b2971d9ff4078b98": {
     "views": []
    },
    "6aaeeaaaab0240bba0a6fc7888948968": {
     "views": []
    },
    "6c1d30a4c3a14d55be329d2bdea29079": {
     "views": []
    },
    "6e57648366794af8b06d83f27cfcfe9d": {
     "views": []
    },
    "7211753389cf49a2b6d6c975e06c98bf": {
     "views": []
    },
    "73080cf4739246c8bc700881120ff195": {
     "views": []
    },
    "74a6b3f09b88492fbc43163fc771cf5c": {
     "views": []
    },
    "7506f0bbe39f4d1d8b9484cfc52d77dc": {
     "views": []
    },
    "7780bbe87d94402fb7539efe0bfc3cbf": {
     "views": []
    },
    "7bcae39806b744fbad82cc035cec09e9": {
     "views": []
    },
    "7e086bd984d843a99bec3f2a5db58990": {
     "views": []
    },
    "80086b0a4a604ba397aa0f311f6b96e4": {
     "views": []
    },
    "8010407dbc5a4dcda310025b2eb0ece1": {
     "views": []
    },
    "82a79c09a32048c288d6abd0925f8314": {
     "views": []
    },
    "82f221debafd42eb868f980091f37e59": {
     "views": []
    },
    "83b45d404cd84cf690a2d5acd72c7c3f": {
     "views": []
    },
    "83b49cc436b44ac9939f3a2a498d2627": {
     "views": []
    },
    "87f90a95971e4e95bb273f3b0a56ad09": {
     "views": []
    },
    "8ac52bd9efca467cabaeaf5fcdbc6dca": {
     "views": []
    },
    "8adf755a37eb401a9c4ebb6c52df9fb6": {
     "views": []
    },
    "8b84babc42aa4f67939abcdea64111ea": {
     "views": []
    },
    "8d2747c3bd9a407e8e3c15076896df42": {
     "views": []
    },
    "9002adceb4fb4dd7b9c43919796660d8": {
     "views": []
    },
    "9166ffc578f14721a49b16df77438fe9": {
     "views": []
    },
    "940deb06fe6a47b39f54238495fe6215": {
     "views": []
    },
    "95a37c6c5f91458db13b60016d66ab72": {
     "views": []
    },
    "9bcae344a396448b86eb6e0a16d3b784": {
     "views": []
    },
    "9be74f81774449b99ade9f8dcab5d091": {
     "views": []
    },
    "9d4597c4546c4590b0d6a3e1aa7fe811": {
     "views": []
    },
    "9e537b6d92af4af49d4a52b1214ee137": {
     "views": []
    },
    "a1be52481e5b47d4bc125738e7b0cb57": {
     "views": []
    },
    "a466da6f94c5477d807fa582c8158b29": {
     "views": []
    },
    "a558871ea0354fa586e7f035631e107b": {
     "views": []
    },
    "a9f596e2d26448a99a3dac5c64947f30": {
     "views": []
    },
    "accd788fab4f48c2b1213229a24c1bb0": {
     "views": []
    },
    "affd895836d94eecb21fa9f47cdb6c97": {
     "views": []
    },
    "b7b6a8bb0fe34a658302b6548b43fc47": {
     "views": []
    },
    "baaba6119a7c47b3a55efa4685a69943": {
     "views": []
    },
    "bdc206adc7da46a5826729b6bb4eac97": {
     "views": [
      {
       "cell": {
        "cell_type": "code",
        "execution_count": 10,
        "metadata": {
         "collapsed": true,
         "trusted": true
        },
        "outputs": [],
        "source": "x_sc = LinearScale()\ny_sc = LinearScale()\n\nax_x = Axis(label='Test X', scale=x_sc)\nax_y = Axis(label='Test Y', scale=y_sc, orientation='vertical', tick_format='0.3f')\n\nline = Lines(x=x_data, y=y_data_2, scales={'x': x_sc, 'y': y_sc}, colors=['hotpink', 'orange'])\n\nm_fig = dict(left=100, top=50, bottom=50, right=100)\nfig = Figure(axes=[ax_x, ax_y], marks=[line], fig_margin=m_fig)\ndisplay(fig)"
       },
       "cell_index": 11,
       "root": true
      }
     ]
    },
    "c03f049848b642799d3dd650d3d4f273": {
     "views": []
    },
    "c215b9de470c48639d8f3992674aec08": {
     "views": [
      {
       "cell": {
        "cell_type": "code",
        "execution_count": 3,
        "metadata": {
         "collapsed": false,
         "trusted": true
        },
        "outputs": [],
        "source": "y_sc = LinearScale()\n\nax_x = Axis(label='Test X', scale=y_sc, grid_lines='solid')\nax_y = Axis(label='Test Y', scale=y_sc, orientation='vertical', tick_format='0.2f', grid_lines='solid')\n\nline = Lines(x=y_data_2, y=y_data_2,\n             scales={'x': y_sc, 'y': y_sc}, colors=['hotpink', 'orange'])\n\nm_fig = dict(left=100, top=50, bottom=50, right=100)\nfig = Figure(axes=[ax_x, ax_y], marks=[line], fig_margin=m_fig)\ndisplay(fig)"
       },
       "cell_index": 3,
       "root": true
      }
     ]
    },
    "c3305df1deab4f749410305761b81e25": {
     "views": []
    },
    "c35938fc9bf542a7b658d06b3c861677": {
     "views": []
    },
    "c4094c9681c846bc95961842c66595f6": {
     "views": []
    },
    "c63edcf0e8ed45ec800c87a76b45ed9f": {
     "views": []
    },
    "c7b8bb9d06534fbea0a2de452063316d": {
     "views": []
    },
    "c7c89df2db154793a9ce0ae3c299f1c3": {
     "views": []
    },
    "c7cae92f17634280b8a1d190836ecca4": {
     "views": []
    },
    "c8769ae264a9491f9545797f95effca9": {
     "views": []
    },
    "c8e6c9f64cf0416aa96d12919c6eabb0": {
     "views": [
      {
       "cell": {
        "cell_type": "code",
        "execution_count": 30,
        "metadata": {
         "collapsed": false,
         "trusted": true
        },
        "outputs": [],
        "source": "x_sc = LinearScale()\ny_sc = LinearScale()\ncol_sc = ColorScale()\n\nscatter = Scatter(x=x_data, y=y_data, color=y_data_2,\n                  scales={'x': x_sc, 'y':y_sc, 'color': col_sc})\nax_x = Axis(scale=x_sc)\nax_y = Axis(scale=y_sc, orientation='vertical', tick_format='0.2f')\nax_c = ColorAxis(scale=col_sc, label='Color', side='right', orientation='vertical')\n\nmargin=dict(top=80, left=80, right=80, bottom=80)\ndisplay(Figure(marks=[scatter], axes=[ax_x, ax_y, ax_c], fig_margin=margin))"
       },
       "cell_index": 26,
       "root": true
      }
     ]
    },
    "c90946b6d89a4fc9812665f2c17e6917": {
     "views": []
    },
    "ccff89c70e5e4b07acc799d9e5f0303a": {
     "views": []
    },
    "cf45cc95a0714dfd90174a05428ac8ab": {
     "views": []
    },
    "cf4787e9eec04b56b1c8df348d98ebfd": {
     "views": []
    },
    "d30f64ea162941f2b2bca154f9f5801a": {
     "views": []
    },
    "d3e51c0ea5aa41d9a6f659031f24f40b": {
     "views": []
    },
    "d459eb6b2e2f42e0b549f23dfb3a5a24": {
     "views": []
    },
    "d773a9cb95a8484f973d2acb4d56d683": {
     "views": []
    },
    "d7d0a6f3d8f5438e8847fba8e2d8a605": {
     "views": []
    },
    "d8734019736544b088d9f4fdacfdbc68": {
     "views": []
    },
    "db99f1d74cfc4e528ab42263d2731a58": {
     "views": []
    },
    "dc21e597276e4f438533644d147df437": {
     "views": []
    },
    "dc4a54f3ced04dc9841673a45bfdfe61": {
     "views": []
    },
    "dc81d9cb72f44c90a4ef17a9cd4065ac": {
     "views": []
    },
    "dd372cee6fb343359f1a307c9375a146": {
     "views": []
    },
    "ddffec809be54cc99c53a8fdf99c95a6": {
     "views": []
    },
    "e0370c5cc35f419fbaf265c44cc524b6": {
     "views": []
    },
    "e33798f5db354af7b8fda3ebfa1507d2": {
     "views": []
    },
    "e3e1b10a133a490ab5990080c2a1bbc3": {
     "views": []
    },
    "e5391b8103924a78934d309ffb15ddb8": {
     "views": []
    },
    "e66a75218db6435a88cde7c5d9b0a3d7": {
     "views": []
    },
    "e6cef675a048431098690e41b1d56ba5": {
     "views": []
    },
    "e6de0513eed344468d9bfb4991671af6": {
     "views": []
    },
    "e7ccd438ed45474a84316aab503021a4": {
     "views": []
    },
    "e8bc4515936a48dca0b9b408c3984779": {
     "views": []
    },
    "e8bfe60098c4414aac19da1f982a6545": {
     "views": []
    },
    "eb8258bc3a8c4e12bdf76ec6f015f0fc": {
     "views": []
    },
    "f1c05daacb05434eb8e544ac482c5bf6": {
     "views": []
    },
    "f302be400dc8410f9b817a974bd3cccd": {
     "views": []
    },
    "f32c1c6416774b5baa67f45a8b030f05": {
     "views": []
    },
    "f41bddb8469242f28aa42a02a3f3d69d": {
     "views": []
    },
    "f51adfebb24b4190b3ab995e82232cc9": {
     "views": []
    },
    "f6fdcb5348634b62b4c47bd1d321f76f": {
     "views": []
    },
    "f8480e788d5749638731c85e57a8301c": {
     "views": []
    },
    "fabb37c1438347a8a047246b6e2339ee": {
     "views": []
    },
    "fb880455e7fc4b70bb733bbb759ba02c": {
     "views": []
    },
    "fbd8bec9e96b467e9dff8108a9ff8c4b": {
     "views": []
    },
    "fd654b1263ce4694bb445e0cccccda34": {
     "views": []
    },
    "fdee779ee1fb4cb692634131b3d44d00": {
     "views": []
    }
   },
   "version": "0.0.1"
  }
 },
 "nbformat": 4,
 "nbformat_minor": 0
}
