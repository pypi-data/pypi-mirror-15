{
 "cells": [
  {
   "cell_type": "code",
   "execution_count": 2,
   "metadata": {
    "collapsed": true
   },
   "outputs": [],
   "source": [
    "from ipyleaflet import Map\n",
    "from ipywidgets import VBox"
   ]
  },
  {
   "cell_type": "code",
   "execution_count": 4,
   "metadata": {
    "collapsed": true
   },
   "outputs": [],
   "source": [
    "m = Map()\n",
    "VBox([m])"
   ]
  },
  {
   "cell_type": "code",
   "execution_count": 6,
   "metadata": {
    "collapsed": true
   },
   "outputs": [],
   "source": [
    "m.layout.align_self = 'stretch'"
   ]
  },
  {
   "cell_type": "code",
   "execution_count": null,
   "metadata": {
    "collapsed": true
   },
   "outputs": [],
   "source": [
    "css_name"
   ]
  }
 ],
 "metadata": {
  "kernelspec": {
   "display_name": "Python 2",
   "language": "python",
   "name": "python2"
  },
  "language_info": {
   "codemirror_mode": {
    "name": "ipython",
    "version": 2
   },
   "file_extension": ".py",
   "mimetype": "text/x-python",
   "name": "python",
   "nbconvert_exporter": "python",
   "pygments_lexer": "ipython2",
   "version": "2.7.11"
  },
  "widgets": {
   "state": {
    "10db933fb13b4c29ab36f1eb3d3f4934": {
     "views": [
      {
       "cell_index": 1
      }
     ]
    },
    "13bec734f9fb47b582cb62b0797db8b0": {
     "views": []
    },
    "586b811e2896492bac2f289bd61affce": {
     "views": []
    },
    "c0f39fd0aa3148b787d9c8263998e2e7": {
     "views": []
    },
    "c22e1174a5e1447c99274bfc910a1b40": {
     "views": []
    },
    "d22744522b4d42119cbba4d415300e38": {
     "views": []
    },
    "d89d6044abf74069be62df8285c5ee10": {
     "views": []
    },
    "f8c916e328e9471b853563385f9eacdd": {
     "views": []
    },
    "fac9fa3f0e154d42ac078a1e57b2b3d1": {
     "views": []
    },
    "fb1726988b2f45edb523095026dc41d9": {
     "views": []
    }
   },
   "version": "1.0.0"
  }
 },
 "nbformat": 4,
 "nbformat_minor": 1
}
