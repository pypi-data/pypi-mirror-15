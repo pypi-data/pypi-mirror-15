{
 "cells": [
  {
   "cell_type": "code",
   "execution_count": 1,
   "metadata": {
    "collapsed": false
   },
   "outputs": [],
   "source": [
    "from ipywidgets import *"
   ]
  },
  {
   "cell_type": "code",
   "execution_count": 2,
   "metadata": {
    "collapsed": false
   },
   "outputs": [],
   "source": [
    "words = (\"Lorem ipsum dolor sit amet, consectetur adipiscing elit, sed \" +\n",
    "         \"do eiusmod tempor incididunt ut labore et dolore magna aliqua.\").split(' ')\n",
    "\n",
    "items = [HTML('''\n",
    "<div style=\"background-color: steelblue; \n",
    "            padding: 5px; \n",
    "            color: white; \n",
    "            font-size: large;\n",
    "            min-height: 22px; \n",
    "            text-align: center;\">\n",
    "%s\n",
    "</div>\n",
    "''' % w) for w in words]"
   ]
  },
  {
   "cell_type": "markdown",
   "metadata": {},
   "source": [
    "# Column Layout\n",
    "## Natural width for items"
   ]
  },
  {
   "cell_type": "code",
   "execution_count": 3,
   "metadata": {
    "collapsed": false
   },
   "outputs": [],
   "source": [
    "layout = Layout(display='flex', flex_flow='column')\n",
    "box = Box(children=items, layout=layout)\n",
    "box"
   ]
  },
  {
   "cell_type": "markdown",
   "metadata": {},
   "source": [
    "## Align items"
   ]
  },
  {
   "cell_type": "code",
   "execution_count": 4,
   "metadata": {
    "collapsed": true
   },
   "outputs": [],
   "source": [
    "# center\n",
    "box.layout.align_items = 'center'"
   ]
  },
  {
   "cell_type": "code",
   "execution_count": 5,
   "metadata": {
    "collapsed": true
   },
   "outputs": [],
   "source": [
    "# flex-end\n",
    "box.layout.align_items = 'flex-end'"
   ]
  },
  {
   "cell_type": "code",
   "execution_count": 6,
   "metadata": {
    "collapsed": true
   },
   "outputs": [],
   "source": [
    "# stretch\n",
    "box.layout.align_items = 'stretch'"
   ]
  },
  {
   "cell_type": "code",
   "execution_count": 7,
   "metadata": {
    "collapsed": true
   },
   "outputs": [],
   "source": [
    "# back to default flex-start\n",
    "box.layout.align_items = 'flex-start'"
   ]
  },
  {
   "cell_type": "code",
   "execution_count": 8,
   "metadata": {
    "collapsed": true
   },
   "outputs": [],
   "source": [
    "# back to stretch with smaller width and border\n",
    "box.layout.border = 'solid 4px'\n",
    "box.layout.width = '400px'\n",
    "box.layout.align_items = 'stretch'"
   ]
  },
  {
   "cell_type": "markdown",
   "metadata": {},
   "source": [
    "# Row Layout\n",
    "## No wrap"
   ]
  },
  {
   "cell_type": "code",
   "execution_count": 9,
   "metadata": {
    "collapsed": false
   },
   "outputs": [],
   "source": [
    "layout = Layout(display='flex', flex_flow='row', width='50%', overflow='hidden', border='solid')\n",
    "box = Box(children=items, layout=layout)\n",
    "box"
   ]
  },
  {
   "cell_type": "markdown",
   "metadata": {},
   "source": [
    "## Wrapping"
   ]
  },
  {
   "cell_type": "code",
   "execution_count": 10,
   "metadata": {
    "collapsed": true
   },
   "outputs": [],
   "source": [
    "box.layout.flex_flow = 'row wrap'"
   ]
  },
  {
   "cell_type": "markdown",
   "metadata": {},
   "source": [
    "## Flex grow"
   ]
  },
  {
   "cell_type": "code",
   "execution_count": 11,
   "metadata": {
    "collapsed": false
   },
   "outputs": [],
   "source": [
    "items = [HTML('''\n",
    "<div style=\"background-color: steelblue; \n",
    "            padding: 5px; \n",
    "            color: white; \n",
    "            font-size: large;\n",
    "            height: 50px; \n",
    "            text-align: center;\">\n",
    "%s\n",
    "</div>\n",
    "''' % w) for w in ['left', 'middle', 'right']]\n",
    "\n",
    "for item in items:\n",
    "    item.layout.flex = '1 1 auto'"
   ]
  },
  {
   "cell_type": "code",
   "execution_count": 12,
   "metadata": {
    "collapsed": false
   },
   "outputs": [],
   "source": [
    "layout = Layout(display='flex', flex_flow='row', overflow='hidden')\n",
    "box = Box(children=items, layout=layout)\n",
    "box"
   ]
  },
  {
   "cell_type": "code",
   "execution_count": 13,
   "metadata": {
    "collapsed": false
   },
   "outputs": [],
   "source": [
    "items[1].layout.flex = '2 1 auto'"
   ]
  },
  {
   "cell_type": "code",
   "execution_count": 14,
   "metadata": {
    "collapsed": true
   },
   "outputs": [],
   "source": [
    "from ipyleaflet import Map"
   ]
  },
  {
   "cell_type": "code",
   "execution_count": 18,
   "metadata": {
    "collapsed": true
   },
   "outputs": [],
   "source": [
    "m = Map()\n",
    "v = VBox([m])"
   ]
  },
  {
   "cell_type": "code",
   "execution_count": 19,
   "metadata": {
    "collapsed": true
   },
   "outputs": [],
   "source": [
    "v"
   ]
  },
  {
   "cell_type": "code",
   "execution_count": null,
   "metadata": {
    "collapsed": true
   },
   "outputs": [],
   "source": []
  }
 ],
 "metadata": {
  "kernelspec": {
   "display_name": "Python 2",
   "language": "python",
   "name": "python2"
  },
  "language_info": {
   "codemirror_mode": {
    "name": "ipython",
    "version": 2
   },
   "file_extension": ".py",
   "mimetype": "text/x-python",
   "name": "python",
   "nbconvert_exporter": "python",
   "pygments_lexer": "ipython2",
   "version": "2.7.11"
  },
  "widgets": {
   "state": {
    "076c7b88b08b48e4a0f520bcbe429b40": {
     "views": []
    },
    "0d431773a1f1417b8cce0acae846641a": {
     "views": []
    },
    "131b336544b44cc1b1785f345ca28bf8": {
     "views": []
    },
    "14202ce7b6d54aea8ff6523e6d337a86": {
     "views": []
    },
    "159b7625efb247e897df15548b11a4e4": {
     "views": []
    },
    "28442db41c72443bae4b9376925daaaf": {
     "views": []
    },
    "2a580210449f4573bfccb89f1aa72dc9": {
     "views": [
      {
       "cell_index": 11
      }
     ]
    },
    "2c43f7a06dcf488b84797075d593f385": {
     "views": []
    },
    "2d56e0edaafd4e7897440d6514590317": {
     "views": []
    },
    "2de749c5ede844c98b5a7feeefddb7d5": {
     "views": []
    },
    "2fd8015b89c44ae3948180c5bfdb0e8b": {
     "views": []
    },
    "3320c51cf75e4c3a95220db88b92a106": {
     "views": []
    },
    "340720c8332d4c63ad0c03be663548ae": {
     "views": []
    },
    "37742cd54e12414d947c5a116e590ca6": {
     "views": []
    },
    "410c2138b43f411bba789889a64503e5": {
     "views": []
    },
    "4b9793457214466eb212ca94f1737d86": {
     "views": []
    },
    "4c1372ac161c484eb1e6adff550c62cc": {
     "views": []
    },
    "52c29ced04b34302af7d06fc791f4e88": {
     "views": []
    },
    "55808afc818c43019d21ae79df07efa0": {
     "views": []
    },
    "55e14f3a547548cfb2faf0e2a11198a9": {
     "views": []
    },
    "571f9bf569c34121961bd71134c33baf": {
     "views": []
    },
    "5c522a78d6f84805b490ade279578dc7": {
     "views": []
    },
    "5f6f86332d0b48d39e59b15bdfae85b3": {
     "views": []
    },
    "60ca7e505b164fd3b7676a4846e77abd": {
     "views": []
    },
    "640892ba58b14138886cbad91bc81078": {
     "views": []
    },
    "64180882dec94439a832b08c7d15ff8e": {
     "views": []
    },
    "64d186059e55436f919af73a306e2b0f": {
     "views": []
    },
    "6633dcf64ae746ae9898814b2e7778a8": {
     "views": []
    },
    "6aa879cfec7f4cb2aed2073a82e68017": {
     "views": []
    },
    "6daf4d2885fb445d83afea8240be0ab2": {
     "views": []
    },
    "71440b8502ad4e3c890848a643a8dd27": {
     "views": []
    },
    "72dc1702aa1840a19fb99d0d355a66d5": {
     "views": []
    },
    "7ea31cf6390e4f11b2f9acfdb6c96fce": {
     "views": []
    },
    "81588838cf3a44be9de80b978216f122": {
     "views": []
    },
    "822a242a64d74959aaee3782fdc72b12": {
     "views": []
    },
    "82a8227b88394ceeae0df4fbf5f341fa": {
     "views": []
    },
    "848299bd798b495c9ad9e0692fa743af": {
     "views": []
    },
    "8625797006054f879f2070f4e00e797a": {
     "views": []
    },
    "88ff74913891434caa5fd5790f5c1dd4": {
     "views": []
    },
    "8a17f756e7234ef382951b882be24734": {
     "views": []
    },
    "9158816afd1642c584bf52ad0f49715a": {
     "views": [
      {
       "cell_index": 3
      }
     ]
    },
    "92e45b17e653468fb814fa6d042ba1c5": {
     "views": []
    },
    "96bd6f14637c4c40adc47d8c9b106457": {
     "views": [
      {
       "cell_index": 16
      }
     ]
    },
    "9bee075ca0264747b1f5d0ff85370e5a": {
     "views": []
    },
    "9e2b733d66f54428af6843c7e9f76f93": {
     "views": []
    },
    "a8c9191e8eee4b83aff9600bee934695": {
     "views": []
    },
    "ae67075f912a408aa9f4cc9f92615f82": {
     "views": []
    },
    "b00358656ba64a40a54276e6957df95b": {
     "views": []
    },
    "b382b92f6de14cf08f5e5aa4ff22304f": {
     "views": []
    },
    "cb815666ed70407bbdad0e89fd4d30b1": {
     "views": []
    },
    "d27569645d8d4763b89a1ea7f8c8a610": {
     "views": []
    },
    "dc1faeb0ebb14309b3f5736a9bd9a2d1": {
     "views": []
    },
    "dd84286d90f4465b816d7567bec666fd": {
     "views": []
    },
    "de637bbeb3c74d6c9530bd85c8542c48": {
     "views": []
    },
    "e7951aa64f32414789ea6246daba40f3": {
     "views": []
    },
    "e7a294dffc9945ba862760a1a2a61a61": {
     "views": []
    },
    "ee085fa71f3440d5a48715d526014182": {
     "views": []
    },
    "ef0b01c88fdb47828a54dd3d82dc4e93": {
     "views": []
    },
    "ef59fed3bc3646e6aec6dde0167e5454": {
     "views": [
      {
       "cell_index": 20
      }
     ]
    },
    "f75e41d076a746259bb898f854bfd5cc": {
     "views": []
    },
    "f87c626155864ff6b00e4ac63f0467e9": {
     "views": []
    },
    "fb443121bd414bec9a09a4f4cb39559b": {
     "views": []
    },
    "fb992b41f1444e8e9f73a3033468902a": {
     "views": []
    },
    "fca2a8d741864c00b2c82b26e2d7fd47": {
     "views": []
    },
    "fe3fcd7ceb3049e0a77bc15b5a98d20c": {
     "views": []
    }
   },
   "version": "1.0.0"
  }
 },
 "nbformat": 4,
 "nbformat_minor": 1
}
