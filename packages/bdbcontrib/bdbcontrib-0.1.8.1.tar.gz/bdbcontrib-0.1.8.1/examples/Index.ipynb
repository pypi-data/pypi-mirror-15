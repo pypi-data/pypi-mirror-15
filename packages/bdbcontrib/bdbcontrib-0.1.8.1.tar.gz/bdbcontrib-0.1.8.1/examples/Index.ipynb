{
 "cells": [
  {
   "cell_type": "markdown",
   "metadata": {},
   "source": [
    "# Introduction\n",
    "\n",
    "These example notebooks introduce probabilistic programming. We first look at applications, how generative models can be applied to populations in [BayesDB](http://probcomp.csail.mit.edu/bayesdb/). We then progress towards creating new generative models that better fit our intuitions about those populations in [Venture](http://probcomp.csail.mit.edu/venture). BayesDB and Venture are developed by the [MIT Probabilistic Computing Group](http://probcomp.csail.mit.edu/). \n",
    "\n",
    "\n",
    "We invite you to watch a [presentation](http://video.media.mit.edu/media/play/mansinghka-2016-03-15_h264_512x288.mov) \n",
    "([slides](https://docs.google.com/presentation/d/1LdO6SPAFyC99Gb2QHa8-ikLLYluOPOB9MTavuOLTY9I/edit))\n",
    "on the subject of this tutorial by Vikash Mansingka.\n",
    "\n",
    "\n",
    "Before we get started..."
   ]
  },
  {
   "cell_type": "markdown",
   "metadata": {},
   "source": [
    "## About you...\n",
    "\n",
    "Signing up with your name and email helps build a community of support and helps improve your user experience. When you sign up, we collect information including the commands you tried, how long they took, what errors they resulted in, any additional data that you import, etc. If you provide your email, we will invite you to a low-traffic announcements list. Please include the name and email you use below in any reports of bugs or surprises. Send those reports to bayesdb@mit.edu or via [GitHub](https://github.com/probcomp/bdbcontrib/issues/new).\n",
    "\n",
    "If security is a primary concern, then you should do a security audit (and share the results with us) before using the software. As this is alpha software, results may not be reliable. \n",
    "DO NOT USE THIS SOFTWARE FOR HIPAA-COVERED, PERSONALLY IDENTIFIABLE, OR SIMILARLY SENSITIVE DATA!\n",
    "\n",
    "**Please fill in your name and email,** then use shift-return (or the play button above) to run the cell."
   ]
  },
  {
   "cell_type": "code",
   "execution_count": 4,
   "metadata": {
    "collapsed": false
   },
   "outputs": [],
   "source": [
    "name = \"\"\n",
    "email = \"\"\n",
    "\n",
    "\n",
    "with open('bayesdb-session-capture-opt.txt', 'w') as optfile:\n",
    "    optfile.write('%s <%s>\\n' % (name, email))\n",
    "\n",
    "# To opt out, use optfile.write('False') instead.\n",
    "# Even opting out of sending details, you still allow us to count how often users opt out.\n",
    "# You can opt-in or opt-out on a per-population basis using the session_capture_name option to Population.\n",
    "# You must choose to either opt-in or opt-out."
   ]
  },
  {
   "cell_type": "markdown",
   "metadata": {},
   "source": [
    "# Background\n",
    "\n",
    "For those unfamiliar with the software, languages, or concepts we will use in this tutorial, we recommend:\n",
    "* External [Introduction to SQL](http://www.tutorialspoint.com/sql/sql-overview.htm) — we do not implement all of SQL, but the basics are the same.\n",
    "* External [Introduction to Python](https://docs.python.org/3/tutorial/introduction.html). We will introduce the basics of [pandas](http://pandas.pydata.org/pandas-docs/stable/tutorials.html) and [seaborn](https://stanford.edu/~mwaskom/software/seaborn/tutorial.html) but getting familiar with them might be helpful too.\n",
    "* External quick explanations of [statistical populations](https://en.wikipedia.org/wiki/Statistical_population), [probability models](http://www.stat.yale.edu/Courses/1997-98/101/probint.htm), [generative models](https://en.wikipedia.org/wiki/Generative_model), and [predictive probabilities](https://en.wikipedia.org/wiki/Posterior_predictive_distribution).\n",
    "* This page is an IPython Notebook. Many people are happy clicking on cells and running them with shift-enter. If you want to learn more, start by pressing Escape then H for a quick reference. You can also dive deeper with an external [Introduction to iPython notebooks](https://ipython.org/ipython-doc/3/notebook/notebook.html#basic-workflow).\n",
    "\n",
    "You do not need extensive knowledge of any of these to read our examples, so **feel free to skip ahead**. But if you are not very familiar with one of the technologies, then doing initial learning will be very helpful to you in playing around confidently and doing the suggested exercises."
   ]
  },
  {
   "cell_type": "markdown",
   "metadata": {},
   "source": [
    "## BayesDB\n",
    "\n",
    "[BayesDB](http://probcomp.csail.mit.edu/) allows you to query your data as other SQL database systems do. It also allows you to query the **implications** of your data. We explore these capabilities using information about satellites orbiting our planet.\n",
    "\n",
    "* [Querying and Plotting the Satellites Data](satellites/querying-and-plotting.ipynb) without doing any probabilistic analysis. This is a good place to start to get used to the language, *before* learning to explore the implications of the data.\n",
    "* [Satellites Exploration](satellites/Satellites.ipynb) — a bit of the above, plus a short exploration of the results of probabilistic analysis.\n",
    "\n",
    "\n",
    "**TODO**: The same in smaller chunks, with those chunks expanded, promised here.\n",
    "\n",
    "<!--\n",
    "Descriptive Analysis (quantitatively describe a population):\n",
    "* [Basic BQL querying and plotting](satellites/querying-and-plotting.ipynb).\n",
    "* [Population recipes](satellites/with-recipes.ipynb).\n",
    "\n",
    "Exploratory Analysis (find relationships between variables, and suggest areas for future study):\n",
    "* [Simulate for \"What If?\" questions](satellites/what-if.ipynb),\n",
    "* [Estimate predictive relationships](satellites/predictive-relationships.ipynb),\n",
    "* [Inferring missing values](satellites/missing-values.ipynb),\n",
    "* [Finding unlikely values](satellites/unlikely-values.ipynb),\n",
    "* [Mathematics of inference quality analysis](lab3),\n",
    "* [Limitations of the default metamodel](satellites/cc-limitations.ipynb),\n",
    "* [Analysis with a foreign model](satellites/foreign-model.ipynb).\n",
    "\n",
    "And, more suitable for presentation than for learning:\n",
    "* A [one-notebook summary](satellites/Satellites.ipynb) with fewer details.\n",
    "-->"
   ]
  },
  {
   "cell_type": "markdown",
   "metadata": {
    "collapsed": true
   },
   "source": [
    "## Working with your own data\n",
    "\n",
    "Because a default BayesDB model is unlikely to model your data plausibly, and because we do not yet have the tools to be confident that any model has captured the relationships in a population well, BayesDB is not ready for use for [higher levels of analysis](http://datascientistinsights.com/2013/01/29/six-types-of-analyses-every-data-scientist-should-know/). \n",
    "\n",
    "As you work with your data, **do not attempt to use BayesDB for**:\n",
    "* inferential analysis: drawing conclusions about a larger population from which the data you analyze are a sample,\n",
    "* predictive analysis: using the population you have to make predictions outside of that population,\n",
    "* causal analysis: understanding how interventions in one variable will affect other variables, or\n",
    "* mechanistic analysis: understanding causal and structural relationships between variables.\n",
    "\n",
    "For somewhat temporary technical reasons, BayesDB is not ready to handle very large populations, except by sub-sampling them (violating the caveat against inferential analysis!).\n",
    "\n",
    "While the focus of the group is towards better model types and inference strategies, some of these limitations are still in view to grow past. If these interest you, please work with us towards those goals.\n",
    "\n",
    "With those caveats, we explore a \"new\" dataset using BayesDB:\n",
    "\n",
    "* [ma-school-districts](ma-school-districts/MASchoolDistricts.ipynb)\n",
    "\n",
    "**TODO**: the same in smaller chunks, with those chunks expanded, is promised here.\n",
    "\n",
    "<!--\n",
    "* [Preparing the data for analysis, and making initial modeling choices](ma-school-districts/data-prep.ipynb),\n",
    "* [Describing the population](ma-school-districts/descriptions.ipynb),\n",
    "* [Creating derived variables](ma-school-districts/derived-variables.ipynb),\n",
    "* [Exploring relationships in the population](ma-school-districts/exploring-relationships.ipynb),\n",
    "* [Finding and patching implausible model assumptions](ma-school-districts/implausible-assumptions.ipynb).\n",
    "-->\n",
    "\n",
    "To work with your own data, please [contact the group](mailto:bayesdb@mit.edu) to have a conversation about the population you want to explore, about appropriate types of analysis, and to learn how to unlock analysis. We lock this feature because users have frequently misunderstood the limitations of our software, drawing unwarranted inferences. The concepts are easy to misuse, the software is in an early alpha version, and working with our team will help keep egg off your face, or worse."
   ]
  },
  {
   "cell_type": "markdown",
   "metadata": {},
   "source": [
    "## Venture\n",
    "\n",
    "[Venture](http://probcomp.csail.mit.edu/venture) is a prototype general-purpose probabilistic computing platform. In Venture, one can create novel probabilistic models, and inference strategies that allow efficient learning for those models. Venture is programmed primarily in VentureScript, but also supports applications written in other probabilistic or traditional programming languages. In this tutorial we will explore a mix of the VentureScript language and the Python API to Venture.\n",
    "\n",
    "**TODO**: Tutorial examples promised here.\n",
    "\n",
    "<!--\n",
    "* A simple case: [Bayesian linear regression in Venture](venture/bayesian-linear-regression.ipynb)\n",
    "* More generally: [Setting up a probabilistic model in Venture](venture/probabilistic-model.ipynb)\n",
    "* [Probabilistic inference in Venture](venture/probabilistic-inference.ipynb)\n",
    "* [Time-accuracy tradeoffs in inference](venture/time-accuracy-general.ipynb)\n",
    "* [New techniques for quantifying time and accuracy tradeoffs of MCMC-based inference](venture/time-accuracy-marcoct.ipynb)\n",
    "-->"
   ]
  },
  {
   "cell_type": "markdown",
   "metadata": {
    "collapsed": true
   },
   "source": [
    "## Notes\n",
    "\n",
    "As I work in these notebooks, where is my work saved? Execute the following cell to find out:"
   ]
  },
  {
   "cell_type": "code",
   "execution_count": 5,
   "metadata": {
    "collapsed": false,
    "scrolled": true
   },
   "outputs": [
    {
     "data": {
      "text/plain": [
       "'/Users/probcomp/GoogleDrive/ProbComp/bdbcontrib/examples'"
      ]
     },
     "execution_count": 5,
     "metadata": {},
     "output_type": "execute_result"
    }
   ],
   "source": [
    "import os\n",
    "os.getcwd()"
   ]
  },
  {
   "cell_type": "code",
   "execution_count": null,
   "metadata": {
    "collapsed": true
   },
   "outputs": [],
   "source": []
  },
  {
   "cell_type": "markdown",
   "metadata": {
    "collapsed": true
   },
   "source": [
    "--------------------------------------------\n",
    "\n",
    "Copyright (c) 2010-2016, MIT Probabilistic Computing Project\n",
    "\n",
    "Licensed under Apache 2.0 (edit cell for details).\n",
    "\n",
    "<!--\n",
    "   Licensed under the Apache License, Version 2.0 (the \"License\");\n",
    "   you may not use this file except in compliance with the License.\n",
    "   You may obtain a copy of the License at\n",
    "\n",
    "       http://www.apache.org/licenses/LICENSE-2.0\n",
    "\n",
    "   Unless required by applicable law or agreed to in writing, software\n",
    "   distributed under the License is distributed on an \"AS IS\" BASIS,\n",
    "   WITHOUT WARRANTIES OR CONDITIONS OF ANY KIND, either express or implied.\n",
    "   See the License for the specific language governing permissions and\n",
    "   limitations under the License.\n",
    "-->"
   ]
  }
 ],
 "metadata": {
  "kernelspec": {
   "display_name": "Python 2",
   "language": "python",
   "name": "python2"
  },
  "language_info": {
   "codemirror_mode": {
    "name": "ipython",
    "version": 2
   },
   "file_extension": ".py",
   "mimetype": "text/x-python",
   "name": "python",
   "nbconvert_exporter": "python",
   "pygments_lexer": "ipython2",
   "version": "2.7.11"
  }
 },
 "nbformat": 4,
 "nbformat_minor": 0
}
