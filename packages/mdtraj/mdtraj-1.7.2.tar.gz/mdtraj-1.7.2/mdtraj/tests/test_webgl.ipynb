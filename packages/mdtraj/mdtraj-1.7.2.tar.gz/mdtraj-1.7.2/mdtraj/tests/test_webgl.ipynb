{
 "cells": [
  {
   "cell_type": "code",
   "execution_count": 1,
   "metadata": {
    "collapsed": false
   },
   "outputs": [
    {
     "data": {
      "application/javascript": [
       "$(\"head\").append($(\"<link/>\").attr({\n",
       "  rel:  \"stylesheet\",\n",
       "  type: \"text/css\",\n",
       "  href: \"//lab.jakiestfu.com/contextjs/context.standalone.css\"\n",
       "}));\n",
       "\n",
       "require.config({\n",
       "    paths: {\n",
       "        'three': '//cdnjs.cloudflare.com/ajax/libs/three.js/r68/three.min',\n",
       "        'iview' : '/nbextensions/mdtraj/iview',\n",
       "        'surface' : '/nbextensions/mdtraj/surface.min',\n",
       "        'objexporter' : '/nbextensions/mdtraj/objexporter',\n",
       "        'filesaver' : '/nbextensions/mdtraj/filesaver',\n",
       "        'jqueryui': '//ajax.googleapis.com/ajax/libs/jqueryui/1.11.1/jquery-ui.min',\n",
       "        'contextmenu': '/nbextensions/mdtraj/context',\n",
       "    },\n",
       "    shim: {\n",
       "        three: {\n",
       "            exports: 'THREE'\n",
       "        },\n",
       "        iview: {\n",
       "            deps: ['three', 'surface'],\n",
       "            exports: 'iview'\n",
       "        },\n",
       "        surface: {\n",
       "            exports: 'ProteinSurface'\n",
       "        },\n",
       "        objexporter: {\n",
       "            deps: ['three'],\n",
       "            exports: 'THREE.OBJExporter'\n",
       "        },\n",
       "        jqueryui: {\n",
       "            exports: \"$\"\n",
       "        },\n",
       "        contextmenu: {\n",
       "            deps: ['jquery'],\n",
       "            exports: \"context\"\n",
       "        },\n",
       "    },\n",
       "});\n"
      ],
      "text/plain": [
       "<IPython.core.display.Javascript object>"
      ]
     },
     "metadata": {},
     "output_type": "display_data"
    }
   ],
   "source": [
    "import mdtraj as md\n",
    "from mdtraj.html import enable_notebook, TrajectoryView\n",
    "from mdtraj.testing import get_fn\n",
    "enable_notebook()"
   ]
  },
  {
   "cell_type": "code",
   "execution_count": 2,
   "metadata": {
    "collapsed": true
   },
   "outputs": [],
   "source": [
    "TrajectoryView(md.load(get_fn('2EQQ.pdb')))"
   ]
  },
  {
   "cell_type": "code",
   "execution_count": null,
   "metadata": {
    "collapsed": true
   },
   "outputs": [],
   "source": []
  }
 ],
 "metadata": {
  "kernelspec": {
   "display_name": "Python 3",
   "language": "python",
   "name": "python3"
  },
  "language_info": {
   "codemirror_mode": {
    "name": "ipython",
    "version": 3
   },
   "file_extension": ".py",
   "mimetype": "text/x-python",
   "name": "python",
   "nbconvert_exporter": "python",
   "pygments_lexer": "ipython3",
   "version": "3.4.3"
  }
 },
 "nbformat": 4,
 "nbformat_minor": 0
}
