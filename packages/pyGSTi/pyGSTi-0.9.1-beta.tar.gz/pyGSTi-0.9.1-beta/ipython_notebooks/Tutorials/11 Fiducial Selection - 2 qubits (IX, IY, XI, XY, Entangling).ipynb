{
 "cells": [
  {
   "cell_type": "code",
   "execution_count": 1,
   "metadata": {
    "collapsed": false
   },
   "outputs": [],
   "source": [
    "#Import relevant modules.\n",
    "\n",
    "import pygsti\n",
    "import numpy as _np\n",
    "\n",
    "from pygsti.algorithms import fiducialselection as FS\n",
    "\n",
    "import matplotlib.pyplot as plt\n",
    "%matplotlib inline\n",
    "\n",
    "import time"
   ]
  },
  {
   "cell_type": "markdown",
   "metadata": {},
   "source": [
    "In this notebook, we'll demonstrate how to select preparation and measurement fiducials for a standard two-qubit gate set.  By \"standard\", we mean that a) measurements are made in the computational (Z) basis (and state prep is |00>), and b) gate set consists of independent X pi/2 and Y pi/2 gates on each qubit.  Presumably there will be additional entangling gates available; however, we do not want (or need) such gates in our fiducial gate strings.  (Two-qubit operations will typically be of lower fidelity, so it is \"safer\" to use single-qubit operations for fiducials.)"
   ]
  },
  {
   "cell_type": "code",
   "execution_count": 2,
   "metadata": {
    "collapsed": false
   },
   "outputs": [],
   "source": [
    "#Build the gate set.  As mentioned above, no entangling operation is included; these results will be general for\n",
    "#any two-qubit gate set that has access to the Gix, Giy, Gxi, and Gyi gates \n",
    "#(and prepares in the state |00> and performs measurements in the computational basis).\n",
    "gs_target = pygsti.construction.build_gateset( [4], [('Q0','Q1')],['Gix','Giy','Gxi','Gyi'], \n",
    "                                            [\"X(pi/2,Q1)\", \"Y(pi/2,Q1)\", \"X(pi/2,Q0)\", \"Y(pi/2,Q0)\"], \n",
    "                                            prepLabels = [\"rho0\"], prepExpressions = [\"0\"], \n",
    "                                            effectLabels = [\"E0\",\"E1\",\"E2\"], effectExpressions = [\"0\",\"1\",\"2\"], \n",
    "                                            spamdefs={'upup': (0,0), 'updn': (0,1), 'dnup': (0,2), 'dndn': (0,-1) },\n",
    "                                            basis=\"pp\")"
   ]
  },
  {
   "cell_type": "code",
   "execution_count": 3,
   "metadata": {
    "collapsed": true
   },
   "outputs": [],
   "source": [
    "#Let's try to pick out a fiducial set.  \n",
    "\n",
    "#First, we generate a candidate set which we'll attempt to prune.\n",
    "#We could look at all gate strings of up to a fixed length (using pygsti.construction.list_all_gatestrings),\n",
    "#but that grows quite rapidly.\n",
    "#Instead, we'll look at the tensor product of the standard 1-qubit fiducial set with itself.\n",
    "#This product set we define below.\n",
    "\n",
    "#{} x 1q fid list\n",
    "emptyList = pygsti.construction.gatestring_list([\n",
    "        (),\n",
    "        ('Gix',),\n",
    "        ('Gix','Gix'),\n",
    "        ('Gix','Gix','Gix'),\n",
    "        ('Giy',),\n",
    "        ('Giy','Giy','Giy')\n",
    "    ])\n",
    "\n",
    "#Gx x 1q fid list\n",
    "XList = pygsti.construction.gatestring_list([\n",
    "        ('Gxi',),\n",
    "        ('Gxi','Gix',),\n",
    "        ('Gxi','Gix','Gix'),\n",
    "        ('Gxi','Gix','Gix','Gix'),\n",
    "        ('Gxi','Giy',),\n",
    "        ('Gxi','Giy','Giy','Giy')\n",
    "    ])\n",
    "\n",
    "#GxGx x 1q fid list\n",
    "XXList = pygsti.construction.gatestring_list([\n",
    "        ('Gxi','Gxi'),\n",
    "        ('Gxi','Gxi','Gix',),\n",
    "        ('Gxi','Gxi','Gix','Gix'),\n",
    "        ('Gxi','Gxi','Gix','Gix','Gix'),\n",
    "        ('Gxi','Gxi','Giy',),\n",
    "        ('Gxi','Gxi','Giy','Giy','Giy')\n",
    "    ])\n",
    "\n",
    "#GxGxGx x 1q fid list\n",
    "XXXList = pygsti.construction.gatestring_list([\n",
    "        ('Gxi','Gxi','Gxi'),\n",
    "        ('Gxi','Gxi','Gxi','Gix',),\n",
    "        ('Gxi','Gxi','Gxi','Gix','Gix'),\n",
    "        ('Gxi','Gxi','Gxi','Gix','Gix','Gix'),\n",
    "        ('Gxi','Gxi','Gxi','Giy',),\n",
    "        ('Gxi','Gxi','Gxi','Giy','Giy','Giy')\n",
    "    ])\n",
    "\n",
    "#Gy x 1q fid list\n",
    "YList = pygsti.construction.gatestring_list([\n",
    "        ('Gyi',),\n",
    "        ('Gyi','Gix',),\n",
    "        ('Gyi','Gix','Gix'),\n",
    "        ('Gyi','Gix','Gix','Gix'),\n",
    "        ('Gyi','Giy',),\n",
    "        ('Gyi','Giy','Giy','Giy')\n",
    "    ])\n",
    "\n",
    "#Gy x 1q fid list\n",
    "YYYList = pygsti.construction.gatestring_list([\n",
    "        ('Gyi','Gyi'),\n",
    "        ('Gyi','Gyi','Gyi','Gix',),\n",
    "        ('Gyi','Gyi','Gyi','Gix','Gix'),\n",
    "        ('Gyi','Gyi','Gyi','Gix','Gix','Gix'),\n",
    "        ('Gyi','Gyi','Gyi','Giy',),\n",
    "        ('Gyi','Gyi','Gyi','Giy','Giy','Giy')\n",
    "    ])\n",
    "\n",
    "testFidList = emptyList + XList + XXList + XXXList + YList + YYYList\n"
   ]
  },
  {
   "cell_type": "code",
   "execution_count": 4,
   "metadata": {
    "collapsed": true
   },
   "outputs": [],
   "source": [
    "#Don't worry if the optimize_integer_fiducials_slack function below throws a divide by zero warning;\n",
    "#this just means one of the tested cases was *really* bad."
   ]
  },
  {
   "cell_type": "code",
   "execution_count": 5,
   "metadata": {
    "collapsed": false,
    "scrolled": true
   },
   "outputs": [
    {
     "name": "stdout",
     "output_type": "stream",
     "text": [
      "Starting fiducial set optimization. Lower score is better.\n",
      "Iteration 0: score=411.818, nFids=36\n",
      "Moving to better neighbor\n",
      "Iteration 1: score=408.333, nFids=35\n",
      "Moving to better neighbor\n",
      "Iteration 2: score=415.669, nFids=34\n",
      "Moving to better neighbor\n",
      "Iteration 3: score=424.621, nFids=33\n",
      "Moving to better neighbor"
     ]
    },
    {
     "name": "stdout",
     "output_type": "stream",
     "text": [
      "\n",
      "Iteration 4: score=449.913, nFids=32\n",
      "Moving to better neighbor\n",
      "Iteration 5: score=460.238, nFids=31\n",
      "Moving to better neighbor\n",
      "Iteration 6: score=481.522, nFids=30\n",
      "Moving to better neighbor\n",
      "Iteration 7: score=484.676, nFids=29\n",
      "Moving to better neighbor"
     ]
    },
    {
     "name": "stdout",
     "output_type": "stream",
     "text": [
      "\n",
      "Iteration 8: score=494.598, nFids=28\n",
      "Moving to better neighbor\n",
      "Iteration 9: score=525.857, nFids=27\n",
      "Moving to better neighbor\n",
      "Iteration 10: score=564.806, nFids=26\n",
      "Moving to better neighbor"
     ]
    },
    {
     "name": "stdout",
     "output_type": "stream",
     "text": [
      "\n",
      "Iteration 11: score=578.853, nFids=25\n",
      "Moving to better neighbor\n",
      "Iteration 12: score=578.211, nFids=24\n",
      "Moving to better neighbor\n",
      "Iteration 13: score=660.513, nFids=23\n",
      "Moving to better neighbor"
     ]
    },
    {
     "name": "stdout",
     "output_type": "stream",
     "text": [
      "\n",
      "Iteration 14: score=660, nFids=22\n",
      "Moving to better neighbor\n",
      "Iteration 15: score=699.391, nFids=21\n",
      "Moving to better neighbor\n",
      "Iteration 16: score=766.667, nFids=20\n",
      "Moving to better neighbor"
     ]
    },
    {
     "name": "stdout",
     "output_type": "stream",
     "text": [
      "\n",
      "Iteration 17: score=842.333, nFids=19\n",
      "Moving to better neighbor\n",
      "Iteration 18: score=874.286, nFids=18\n",
      "Moving to better neighbor\n",
      "Iteration 19: score=1020, nFids=17\n",
      "Moving to better neighbor"
     ]
    },
    {
     "name": "stdout",
     "output_type": "stream",
     "text": [
      "\n",
      "Iteration 20: score=1088, nFids=16\n",
      "Stationary point found!\n",
      "score =  1387.2\n",
      "weights =  [1 0 0 0 0 0 0 0 0 0 0 0 0 0 0 1 1 1 0 1 1 1 1 0 0 0 0 1 1 1 1 0 1 1 1 1]\n",
      "L1(weights) =  16\n",
      "\n",
      "Fiducial selection completed in 0.41614484787 seconds.\n",
      "{}\n",
      "GyiGiy\n",
      "GyiGyi\n",
      "GxiGxiGiy\n",
      "GxiGxiGxiGix\n",
      "GxiGxiGxiGiy\n",
      "GyiGixGixGix\n",
      "GyiGiyGiyGiy\n",
      "GyiGyiGyiGiy\n",
      "GxiGxiGixGixGix\n",
      "GxiGxiGiyGiyGiy\n",
      "GxiGxiGxiGixGix\n",
      "GyiGyiGyiGixGix\n",
      "GxiGxiGxiGixGixGix\n",
      "GyiGyiGyiGixGixGix\n",
      "GyiGyiGyiGiyGiyGiy\n"
     ]
    }
   ],
   "source": [
    "#We know that we should be able to find a prep fiducial set that has no more than 16 elements,\n",
    "#so if we are finding sets that are larger than that, we can always increase slackFrac or fixedSlack\n",
    "start = time.time()\n",
    "prepFidList1_all = FS.optimize_integer_fiducials_slack(gs_target,testFidList,prepOrMeas='prep',initialWeights=None,\n",
    "                                                       scoreFunc='all',slackFrac=.275)\n",
    "end = time.time()\n",
    "print\n",
    "print \"Fiducial selection completed in\", end-start, \"seconds.\"\n",
    "print \"\\n\".join(map(str,sorted(prepFidList1_all,key=len)))"
   ]
  },
  {
   "cell_type": "code",
   "execution_count": 6,
   "metadata": {
    "collapsed": false,
    "scrolled": true
   },
   "outputs": [
    {
     "name": "stdout",
     "output_type": "stream",
     "text": [
      "Starting fiducial set optimization. Lower score is better.\n",
      "Iteration 0: score=53.4923, nFids=36\n",
      "Moving to better neighbor\n",
      "Iteration 1: score=53.3249, nFids=35\n",
      "Moving to better neighbor\n",
      "Iteration 2: score=53.1718, nFids=34\n",
      "Moving to better neighbor\n",
      "Iteration 3: score=52.0526, nFids=33\n",
      "Moving to better neighbor"
     ]
    },
    {
     "name": "stdout",
     "output_type": "stream",
     "text": [
      "\n",
      "Iteration 4: score=50.4752, nFids=32\n",
      "Moving to better neighbor\n",
      "Iteration 5: score=59.4355, nFids=31\n",
      "Moving to better neighbor\n",
      "Iteration 6: score=57.9586, nFids=30\n",
      "Moving to better neighbor\n",
      "Iteration 7: score=57.7735, nFids=29\n",
      "Moving to better neighbor"
     ]
    },
    {
     "name": "stdout",
     "output_type": "stream",
     "text": [
      "\n",
      "Iteration 8: score=57.7451, nFids=28\n",
      "Moving to better neighbor\n",
      "Iteration 9: score=55.7134, nFids=27\n",
      "Moving to better neighbor\n",
      "Iteration 10: score=66.2138, nFids=26\n",
      "Moving to better neighbor"
     ]
    },
    {
     "name": "stdout",
     "output_type": "stream",
     "text": [
      "\n",
      "Iteration 11: score=68.2051, nFids=25\n",
      "Moving to better neighbor\n",
      "Iteration 12: score=83.4132, nFids=24\n",
      "Moving to better neighbor\n",
      "Iteration 13: score=81.0626, nFids=23\n",
      "Moving to better neighbor"
     ]
    },
    {
     "name": "stdout",
     "output_type": "stream",
     "text": [
      "\n",
      "Iteration 14: score=78.1512, nFids=22\n",
      "Moving to better neighbor\n",
      "Iteration 15: score=88.4591, nFids=21\n",
      "Moving to better neighbor\n",
      "Iteration 16: score=100.819, nFids=20\n",
      "Moving to better neighbor"
     ]
    },
    {
     "name": "stdout",
     "output_type": "stream",
     "text": [
      "\n",
      "Iteration 17: score=118.296, nFids=19\n",
      "Moving to better neighbor\n",
      "Iteration 18: score=148.25, nFids=18\n",
      "Moving to better neighbor\n",
      "Iteration 19: score=167.026, nFids=17\n",
      "Moving to better neighbor"
     ]
    },
    {
     "name": "stdout",
     "output_type": "stream",
     "text": [
      "\n",
      "Iteration 20: score=195.295, nFids=16\n",
      "Stationary point found!\n",
      "score =  249.001323854\n",
      "weights =  [1 0 0 1 1 0 0 0 0 0 0 0 0 1 0 0 0 1 1 0 1 1 0 1 0 0 1 1 0 1 1 1 1 0 1 0]\n",
      "L1(weights) =  16\n",
      "\n",
      "Fiducial selection completed in 0.37730717659 seconds.\n",
      "{}\n",
      "Giy\n",
      "GyiGyi\n",
      "GixGixGix\n",
      "GxiGxiGix\n",
      "GxiGxiGxi\n",
      "GyiGixGix\n",
      "GyiGixGixGix\n",
      "GyiGiyGiyGiy\n",
      "GyiGyiGyiGix\n",
      "GyiGyiGyiGiy\n",
      "GxiGxiGiyGiyGiy\n",
      "GxiGxiGxiGixGix\n",
      "GyiGyiGyiGixGix\n",
      "GxiGxiGxiGixGixGix\n",
      "GxiGxiGxiGiyGiyGiy\n"
     ]
    }
   ],
   "source": [
    "#We know that we should be able to find a prep fiducial set that has no more than 16 elements,\n",
    "#so if we are finding sets that are larger than that, we can always increase slackFrac or fixedSlack\n",
    "start = time.time()\n",
    "prepFidList1_worst = FS.optimize_integer_fiducials_slack(gs_target,testFidList,prepOrMeas='prep',initialWeights=None,\n",
    "                                                         scoreFunc='worst',slackFrac=.275)\n",
    "end = time.time()\n",
    "print\n",
    "print \"Fiducial selection completed in\", end-start, \"seconds.\"\n",
    "print \"\\n\".join(map(str,sorted(prepFidList1_worst,key=len)))"
   ]
  },
  {
   "cell_type": "code",
   "execution_count": 7,
   "metadata": {
    "collapsed": false,
    "scrolled": true
   },
   "outputs": [
    {
     "name": "stdout",
     "output_type": "stream",
     "text": [
      "Starting fiducial set optimization. Lower score is better.\n",
      "Iteration 0: score=135.206, nFids=36\n",
      "Moving to better neighbor\n",
      "Iteration 1: score=134.74, nFids=35\n",
      "Moving to better neighbor\n",
      "Iteration 2: score=135.569, nFids=34\n",
      "Moving to better neighbor"
     ]
    },
    {
     "name": "stdout",
     "output_type": "stream",
     "text": [
      "\n",
      "Iteration 3: score=140.249, nFids=33\n",
      "Moving to better neighbor\n",
      "Iteration 4: score=140.606, nFids=32\n",
      "Moving to better neighbor\n",
      "Iteration 5: score=140.565, nFids=31\n",
      "Moving to better neighbor\n",
      "Iteration 6: score=140.471, nFids=30\n",
      "Moving to better neighbor"
     ]
    },
    {
     "name": "stdout",
     "output_type": "stream",
     "text": [
      "\n",
      "Iteration 7: score=140.035, nFids=29\n",
      "Moving to better neighbor\n",
      "Iteration 8: score=139.165, nFids=28\n",
      "Moving to better neighbor\n",
      "Iteration 9: score=138.355, nFids=27\n",
      "Moving to better neighbor"
     ]
    },
    {
     "name": "stdout",
     "output_type": "stream",
     "text": [
      "\n",
      "Iteration 10: score=137.143, nFids=26\n",
      "Moving to better neighbor\n",
      "Iteration 11: score=139.083, nFids=25\n",
      "Moving to better neighbor\n",
      "Iteration 12: score=140.314, nFids=24\n",
      "Moving to better neighbor"
     ]
    },
    {
     "name": "stdout",
     "output_type": "stream",
     "text": [
      "\n",
      "Iteration 13: score=141.459, nFids=23\n",
      "Moving to better neighbor\n",
      "Iteration 14: score=141.435, nFids=22\n",
      "Moving to better neighbor\n",
      "Iteration 15: score=141.134, nFids=21\n",
      "Moving to better neighbor"
     ]
    },
    {
     "name": "stdout",
     "output_type": "stream",
     "text": [
      "\n",
      "Iteration 16: score=140.906, nFids=20\n",
      "Moving to better neighbor\n",
      "Iteration 17: score=140.137, nFids=19\n",
      "Moving to better neighbor\n",
      "Iteration 18: score=138.753, nFids=18\n",
      "Moving to better neighbor"
     ]
    },
    {
     "name": "stdout",
     "output_type": "stream",
     "text": [
      "\n",
      "Iteration 19: score=146.204, nFids=17\n",
      "Moving to better neighbor\n",
      "Iteration 20: score=151.585, nFids=16\n",
      "Moving to better neighbor"
     ]
    },
    {
     "name": "stdout",
     "output_type": "stream",
     "text": [
      "\n",
      "Iteration 21: score=156.817, nFids=15\n",
      "Moving to better neighbor\n",
      "Iteration 22: score=159.181, nFids=14\n",
      "Moving to better neighbor"
     ]
    },
    {
     "name": "stdout",
     "output_type": "stream",
     "text": [
      "\n",
      "Iteration 23: score=163.76, nFids=13\n",
      "Moving to better neighbor\n",
      "Iteration 24: score=163.266, nFids=12\n",
      "Moving to better neighbor"
     ]
    },
    {
     "name": "stdout",
     "output_type": "stream",
     "text": [
      "\n",
      "Iteration 25: score=161.512, nFids=11\n",
      "Moving to better neighbor\n",
      "Iteration 26: score=160.547, nFids=10\n",
      "Moving to better neighbor"
     ]
    },
    {
     "name": "stdout",
     "output_type": "stream",
     "text": [
      "\n",
      "Iteration 27: score=158.065, nFids=9\n",
      "Stationary point found!\n",
      "score =  316.130180659\n",
      "weights =  [1 0 0 0 0 0 0 0 0 0 0 0 0 0 0 1 0 1 0 0 1 1 1 0 0 0 0 0 0 0 0 1 1 0 0 1]\n",
      "L1(weights) =  9\n",
      "\n",
      "Fiducial selection completed in 0.639625072479 seconds.\n",
      "{}\n",
      "GxiGxiGxiGiy\n",
      "GyiGyiGyiGix\n",
      "GxiGxiGixGixGix\n",
      "GxiGxiGiyGiyGiy\n",
      "GxiGxiGxiGixGix\n",
      "GyiGyiGyiGixGix\n",
      "GxiGxiGxiGixGixGix\n",
      "GyiGyiGyiGiyGiyGiy\n"
     ]
    },
    {
     "name": "stderr",
     "output_type": "stream",
     "text": [
      "/home/enielse/research/pyGSTi/packages/pygsti/algorithms/fiducialselection.py:355: RuntimeWarning: divide by zero encountered in divide\n",
      "  return sum(1./_np.abs(input_array))\n"
     ]
    }
   ],
   "source": [
    "#We know that there might exist a fiducial measurement set with as few as 6 elements (as 6*3=18>16).\n",
    "#However, repeated attempts to find one to date have failed.  We can reliably identify fiducial measurement sets\n",
    "#with only 9 elements, so 9 should be considered an upper bound.  (If you do find a set with fewer than 9 elements,\n",
    "#the pyGSTi team would love to hear from you!)\n",
    "start = time.time()\n",
    "measFidList1_all = FS.optimize_integer_fiducials_slack(gs_target,testFidList,prepOrMeas='meas',initialWeights=None,\n",
    "                                                       scoreFunc='all',slackFrac=1)\n",
    "end = time.time()\n",
    "print\n",
    "print \"Fiducial selection completed in\", end-start, \"seconds.\"\n",
    "print \"\\n\".join(map(str,sorted(measFidList1_all,key=len)))"
   ]
  },
  {
   "cell_type": "code",
   "execution_count": 8,
   "metadata": {
    "collapsed": false,
    "scrolled": true
   },
   "outputs": [
    {
     "name": "stdout",
     "output_type": "stream",
     "text": [
      "Starting fiducial set optimization. Lower score is better.\n",
      "Iteration 0: score=16.153, nFids=36\n",
      "Moving to better neighbor\n",
      "Iteration 1: score=15.7166, nFids=35\n",
      "Moving to better neighbor\n",
      "Iteration 2: score=15.2778, nFids=34\n",
      "Moving to better neighbor"
     ]
    },
    {
     "name": "stdout",
     "output_type": "stream",
     "text": [
      "\n",
      "Iteration 3: score=14.9137, nFids=33\n",
      "Moving to better neighbor\n",
      "Iteration 4: score=14.4871, nFids=32\n",
      "Moving to better neighbor\n",
      "Iteration 5: score=14.0945, nFids=31\n",
      "Moving to better neighbor\n",
      "Iteration 6: score=13.7221, nFids=30\n",
      "Moving to better neighbor"
     ]
    },
    {
     "name": "stdout",
     "output_type": "stream",
     "text": [
      "\n",
      "Iteration 7: score=13.2827, nFids=29\n",
      "Moving to better neighbor\n",
      "Iteration 8: score=12.861, nFids=28\n",
      "Moving to better neighbor\n",
      "Iteration 9: score=12.4406, nFids=27\n",
      "Moving to better neighbor"
     ]
    },
    {
     "name": "stdout",
     "output_type": "stream",
     "text": [
      "\n",
      "Iteration 10: score=18.0183, nFids=26\n",
      "Moving to better neighbor\n",
      "Iteration 11: score=17.3281, nFids=25\n",
      "Moving to better neighbor\n",
      "Iteration 12: score=16.6354, nFids=24\n",
      "Moving to better neighbor"
     ]
    },
    {
     "name": "stdout",
     "output_type": "stream",
     "text": [
      "\n",
      "Iteration 13: score=16.2301, nFids=23\n",
      "Moving to better neighbor\n",
      "Iteration 14: score=16.0761, nFids=22\n",
      "Moving to better neighbor\n",
      "Iteration 15: score=15.3486, nFids=21\n",
      "Moving to better neighbor"
     ]
    },
    {
     "name": "stdout",
     "output_type": "stream",
     "text": [
      "\n",
      "Iteration 16: score=14.6218, nFids=20\n",
      "Moving to better neighbor\n",
      "Iteration 17: score=14.1724, nFids=19\n",
      "Moving to better neighbor\n",
      "Iteration 18: score=13.7001, nFids=18\n",
      "Moving to better neighbor"
     ]
    },
    {
     "name": "stdout",
     "output_type": "stream",
     "text": [
      "\n",
      "Iteration 19: score=24.8079, nFids=17\n",
      "Moving to better neighbor\n",
      "Iteration 20: score=23.7956, nFids=16\n",
      "Moving to better neighbor\n",
      "Iteration 21: score=23.5748, nFids=15\n",
      "Moving to better neighbor"
     ]
    },
    {
     "name": "stdout",
     "output_type": "stream",
     "text": [
      "\n",
      "Iteration 22: score=22.6821, nFids=14\n",
      "Moving to better neighbor\n",
      "Iteration 23: score=21.7602, nFids=13\n",
      "Moving to better neighbor"
     ]
    },
    {
     "name": "stdout",
     "output_type": "stream",
     "text": [
      "\n",
      "Iteration 24: score=20.9816, nFids=12\n",
      "Moving to better neighbor\n",
      "Iteration 25: score=23.093, nFids=11\n",
      "Moving to better neighbor"
     ]
    },
    {
     "name": "stdout",
     "output_type": "stream",
     "text": [
      "\n",
      "Iteration 26: score=22.7489, nFids=10\n",
      "Moving to better neighbor\n",
      "Iteration 27: score=24.2287, nFids=9\n",
      "Stationary point found!"
     ]
    },
    {
     "name": "stdout",
     "output_type": "stream",
     "text": [
      "\n",
      "score =  48.4574110103\n",
      "weights =  [1 0 0 0 0 0 0 0 0 0 0 0 0 0 0 1 0 1 0 1 1 0 0 1 0 0 0 0 0 0 0 0 1 1 1 0]\n",
      "L1(weights) =  9\n",
      "\n",
      "Fiducial selection completed in 0.607774972916 seconds.\n",
      "{}\n",
      "GxiGxiGxiGix\n",
      "GyiGyiGyiGiy\n",
      "GxiGxiGixGixGix\n",
      "GxiGxiGiyGiyGiy\n",
      "GxiGxiGxiGixGix\n",
      "GyiGyiGyiGixGix\n",
      "GxiGxiGxiGiyGiyGiy\n",
      "GyiGyiGyiGixGixGix\n"
     ]
    }
   ],
   "source": [
    "#Let's try the same as above, but with \"worst\" instead of \"all\" as the scoreFunc.\n",
    "start = time.time()\n",
    "measFidList1_worst = FS.optimize_integer_fiducials_slack(gs_target,testFidList,prepOrMeas='meas',initialWeights=None,\n",
    "                                                       scoreFunc='worst',slackFrac=1)\n",
    "end = time.time()\n",
    "print\n",
    "print \"Fiducial selection completed in\", end-start, \"seconds.\"\n",
    "print \"\\n\".join(map(str,sorted(measFidList1_worst,key=len)))"
   ]
  },
  {
   "cell_type": "code",
   "execution_count": 9,
   "metadata": {
    "collapsed": false
   },
   "outputs": [
    {
     "name": "stdout",
     "output_type": "stream",
     "text": [
      "prep fid_all spectrum:\n",
      "[ 0.04601333  0.08804562  0.11197634  0.18885363  0.19098301  0.27531678\n",
      "  0.33869376  0.35895543  0.6341986   1.          1.14021158  1.30901699\n",
      "  1.52707531  1.99774087  2.02250994  4.77040881]\n",
      "prep fid_all 'all-score': 1088.0\n",
      "prep fid_all 'worst-score': 347.725298007\n"
     ]
    }
   ],
   "source": [
    "print \"prep fid_all spectrum:\\n\", FS.test_fiducial_list(gs_target,prepFidList1_all,'prep',returnAll=True)[1]\n",
    "print \"prep fid_all 'all-score':\", sum(FS.test_fiducial_list(gs_target,prepFidList1_all,'prep',\n",
    "                                                             scoreFunc='all',returnAll=True)[2:])\n",
    "print \"prep fid_all 'worst-score':\", sum(FS.test_fiducial_list(gs_target,prepFidList1_all,'prep',\n",
    "                                                             scoreFunc='worst',returnAll=True)[2:])"
   ]
  },
  {
   "cell_type": "code",
   "execution_count": 10,
   "metadata": {
    "collapsed": false
   },
   "outputs": [
    {
     "name": "stdout",
     "output_type": "stream",
     "text": [
      "prep fid_worst spectrum:\n",
      "[ 0.08192728  0.11388855  0.13201528  0.19518522  0.27205661  0.29289322\n",
      "  0.5         0.5         0.5         0.65555661  0.9189264   1.11499364\n",
      "  1.70710678  2.18411013  2.19512844  4.63621184]\n",
      "prep fid_worst 'all-score': 832.0\n",
      "prep fid_worst 'worst-score': 195.295155964\n"
     ]
    }
   ],
   "source": [
    "print \"prep fid_worst spectrum:\\n\", FS.test_fiducial_list(gs_target,prepFidList1_worst,'prep',returnAll=True)[1]\n",
    "print \"prep fid_worst 'all-score':\", sum(FS.test_fiducial_list(gs_target,prepFidList1_worst,'prep',\n",
    "                                                             scoreFunc='all',returnAll=True)[2:])\n",
    "print \"prep fid_worst 'worst-score':\", sum(FS.test_fiducial_list(gs_target,prepFidList1_worst,'prep',\n",
    "                                                             scoreFunc='worst',returnAll=True)[2:])"
   ]
  },
  {
   "cell_type": "code",
   "execution_count": 11,
   "metadata": {
    "collapsed": true
   },
   "outputs": [],
   "source": [
    "#Interestingly, using the option \"worst\" instead of \"all\" yields a better scoring fiducial set, by both the \"worst\"\n",
    "#and \"all\"."
   ]
  },
  {
   "cell_type": "code",
   "execution_count": 12,
   "metadata": {
    "collapsed": false
   },
   "outputs": [
    {
     "name": "stdout",
     "output_type": "stream",
     "text": [
      "prep meas_all spectrum:\n",
      "[ 0.37146021  0.5         0.56368584  0.64534973  0.71248175  0.71922359\n",
      "  0.74410254  0.75        0.75        1.91668037  2.          2.16101916\n",
      "  2.52091388  2.77107311  2.78077641  7.0932334 ]\n",
      "prep meas_all 'all-score': 158.065090329\n",
      "prep meas_all 'worst-score': 24.2287055051\n"
     ]
    }
   ],
   "source": [
    "print \"prep meas_all spectrum:\\n\", FS.test_fiducial_list(gs_target,measFidList1_all,'meas',returnAll=True)[1]\n",
    "print \"prep meas_all 'all-score':\", sum(FS.test_fiducial_list(gs_target,measFidList1_all,'meas',\n",
    "                                                             scoreFunc='all',returnAll=True)[2:])\n",
    "print \"prep meas_all 'worst-score':\", sum(FS.test_fiducial_list(gs_target,measFidList1_all,'meas',\n",
    "                                                             scoreFunc='worst',returnAll=True)[2:])"
   ]
  },
  {
   "cell_type": "code",
   "execution_count": 13,
   "metadata": {
    "collapsed": false
   },
   "outputs": [
    {
     "name": "stdout",
     "output_type": "stream",
     "text": [
      "prep meas_worst spectrum:\n",
      "[ 0.37146021  0.5         0.56368584  0.64534973  0.71248175  0.71922359\n",
      "  0.74410254  0.75        0.75        1.91668037  2.          2.16101916\n",
      "  2.52091388  2.77107311  2.78077641  7.0932334 ]\n",
      "prep meas_worst 'all-score': 158.065090329\n",
      "prep meas_worst 'worst-score': 24.2287055051\n"
     ]
    }
   ],
   "source": [
    "print \"prep meas_worst spectrum:\\n\", FS.test_fiducial_list(gs_target,measFidList1_worst,'meas',returnAll=True)[1]\n",
    "print \"prep meas_worst 'all-score':\", sum(FS.test_fiducial_list(gs_target,measFidList1_worst,'meas',\n",
    "                                                             scoreFunc='all',returnAll=True)[2:])\n",
    "print \"prep meas_worst 'worst-score':\", sum(FS.test_fiducial_list(gs_target,measFidList1_worst,'meas',\n",
    "                                                             scoreFunc='worst',returnAll=True)[2:])"
   ]
  },
  {
   "cell_type": "code",
   "execution_count": 14,
   "metadata": {
    "collapsed": false
   },
   "outputs": [
    {
     "name": "stdout",
     "output_type": "stream",
     "text": [
      "{} \t{} \tTrue\n",
      "GxiGxiGxiGiy \tGxiGxiGxiGix \tFalse\n",
      "GyiGyiGyiGix \tGyiGyiGyiGiy \tFalse\n",
      "GxiGxiGixGixGix \tGxiGxiGixGixGix \tTrue\n",
      "GxiGxiGiyGiyGiy \tGxiGxiGiyGiyGiy \tTrue\n",
      "GxiGxiGxiGixGix \tGxiGxiGxiGixGix \tTrue\n",
      "GyiGyiGyiGixGix \tGyiGyiGyiGixGix \tTrue\n",
      "GxiGxiGxiGixGixGix \tGxiGxiGxiGiyGiyGiy \tFalse\n",
      "GyiGyiGyiGiyGiyGiy \tGyiGyiGyiGixGixGix \tFalse\n"
     ]
    }
   ],
   "source": [
    "for i in xrange(len(measFidList1_all)):\n",
    "    print sorted(measFidList1_all,key=len)[i], '\\t', sorted(measFidList1_worst,key=len)[i], '\\t', sorted(measFidList1_all,key=len)[i] == sorted(measFidList1_worst,key=len)[i]"
   ]
  },
  {
   "cell_type": "code",
   "execution_count": 15,
   "metadata": {
    "collapsed": true
   },
   "outputs": [],
   "source": [
    "#We have the same scores for \"all\" and \"worst\" for measurement fiducials, even though the fiducial sets themselves\n",
    "#are not quite the same."
   ]
  },
  {
   "cell_type": "code",
   "execution_count": 16,
   "metadata": {
    "collapsed": true
   },
   "outputs": [],
   "source": [
    "#Lastly, let's see if we can find a minimal set of measurement fiducials (size 6), using the same input set as before."
   ]
  },
  {
   "cell_type": "code",
   "execution_count": 17,
   "metadata": {
    "collapsed": false
   },
   "outputs": [
    {
     "name": "stdout",
     "output_type": "stream",
     "text": [
      "Starting fiducial set optimization. Lower score is better.\n",
      "Output set is required to be of size 6\n",
      "Total number of fiducial sets to be checked is 324632.0\n",
      "If this is very large, you may wish to abort.\n",
      "Switching!"
     ]
    },
    {
     "name": "stdout",
     "output_type": "stream",
     "text": [
      "\n",
      "Switching!"
     ]
    },
    {
     "name": "stdout",
     "output_type": "stream",
     "text": [
      "\n",
      "Switching!"
     ]
    },
    {
     "name": "stdout",
     "output_type": "stream",
     "text": [
      "\n",
      "\n"
     ]
    },
    {
     "name": "stdout",
     "output_type": "stream",
     "text": [
      "Fiducial selection completed in 151.725115061 seconds.\n",
      "{}\n",
      "GxiGxiGxiGix\n",
      "GyiGyiGyiGiy\n",
      "GxiGxiGixGixGix\n",
      "GxiGxiGiyGiyGiy\n",
      "GxiGxiGxiGixGix\n",
      "GyiGyiGyiGixGix\n",
      "GxiGxiGxiGiyGiyGiy\n",
      "GyiGyiGyiGixGixGix\n"
     ]
    }
   ],
   "source": [
    "start = time.time()\n",
    "measFidList1_all_force6 = FS.optimize_integer_fiducials_slack(gs_target,testFidList,prepOrMeas='meas',initialWeights=None,fixedNum=6,\n",
    "                                                       scoreFunc='all',slackFrac=1)\n",
    "end = time.time()\n",
    "print\n",
    "print \"Fiducial selection completed in\", end-start, \"seconds.\"\n",
    "print \"\\n\".join(map(str,sorted(measFidList1_worst,key=len)))"
   ]
  },
  {
   "cell_type": "code",
   "execution_count": 18,
   "metadata": {
    "collapsed": false
   },
   "outputs": [
    {
     "name": "stderr",
     "output_type": "stream",
     "text": [
      "/home/enielse/research/pyGSTi/packages/pygsti/algorithms/fiducialselection.py:164: RuntimeWarning: divide by zero encountered in divide\n",
      "  return sum(1./input_array)\n"
     ]
    },
    {
     "data": {
      "text/plain": [
       "(False, array([ -1.59973447e-17,   0.00000000e+00,   6.42205571e-17,\n",
       "          1.05661853e-16,   3.39941429e-16,   6.51889291e-16,\n",
       "          3.03557616e-01,   4.38772336e-01,   5.00000000e-01,\n",
       "          1.00000000e+00,   1.00000000e+00,   1.00000000e+00,\n",
       "          2.15905500e+00,   2.95730073e+00,   3.46274430e+00,\n",
       "          5.17857002e+00]), inf)"
      ]
     },
     "execution_count": 18,
     "metadata": {},
     "output_type": "execute_result"
    }
   ],
   "source": [
    "FS.test_fiducial_list(gs_target,measFidList1_all_force6,'meas',scoreFunc='all',returnAll=True)"
   ]
  },
  {
   "cell_type": "code",
   "execution_count": 19,
   "metadata": {
    "collapsed": true
   },
   "outputs": [],
   "source": [
    "#Sadly, this did not work!  However, one could try different input sets (or increasing fixedNum to 7 or 8, which would\n",
    "#still be better than 9.)"
   ]
  },
  {
   "cell_type": "code",
   "execution_count": 20,
   "metadata": {
    "collapsed": true
   },
   "outputs": [],
   "source": []
  }
 ],
 "metadata": {
  "kernelspec": {
   "display_name": "Python 2",
   "language": "python",
   "name": "python2"
  },
  "language_info": {
   "codemirror_mode": {
    "name": "ipython",
    "version": 2
   },
   "file_extension": ".py",
   "mimetype": "text/x-python",
   "name": "python",
   "nbconvert_exporter": "python",
   "pygments_lexer": "ipython2",
   "version": "2.7.9"
  }
 },
 "nbformat": 4,
 "nbformat_minor": 0
}