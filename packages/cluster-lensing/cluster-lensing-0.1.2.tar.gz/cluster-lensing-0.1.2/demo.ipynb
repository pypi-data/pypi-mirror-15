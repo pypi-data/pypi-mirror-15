{
 "cells": [
  {
   "cell_type": "markdown",
   "metadata": {},
   "source": [
    "# ClusterEnsemble demonstration\n",
    "Some example usage of how to build up a dataframe of galaxy cluster properties, including NFW halo profiles. Each cluster is treated as an individual, meaning we track its individual mass and redshift, and other properties. This is useful for fitting a stacked weak lensing profile, for example, where you want to avoid fitting a single average cluster mass. See the project [documentation](http://jesford.github.io/cluster-lensing/index.html) for more details."
   ]
  },
  {
   "cell_type": "code",
   "execution_count": 1,
   "metadata": {
    "collapsed": false
   },
   "outputs": [],
   "source": [
    "from __future__ import print_function\n",
    "\n",
    "import numpy as np\n",
    "from astropy import units\n",
    "from matplotlib import pyplot as plt\n",
    "\n",
    "%matplotlib inline\n",
    "\n",
    "from clusterlensing import ClusterEnsemble"
   ]
  },
  {
   "cell_type": "markdown",
   "metadata": {},
   "source": [
    "### Create a ClusterEnsemble object by passing in a numpy array (or list) of redshifts"
   ]
  },
  {
   "cell_type": "code",
   "execution_count": 2,
   "metadata": {
    "collapsed": false
   },
   "outputs": [
    {
     "data": {
      "text/plain": [
       "'Ensemble of galaxy clusters and their properties.'"
      ]
     },
     "execution_count": 2,
     "metadata": {},
     "output_type": "execute_result"
    }
   ],
   "source": [
    "z = [0.1,0.2,0.3]\n",
    "c = ClusterEnsemble(z)\n",
    "c.describe"
   ]
  },
  {
   "cell_type": "markdown",
   "metadata": {},
   "source": [
    "### Display what we have so far\n",
    "Below the DataFrame (which so far only contains the cluster redshifts), we see the default assumptions for the power-law slope and normalization that will be used to convert richness $N_{200}$ to mass $M_{200}$. We'll see how to change those parameters below."
   ]
  },
  {
   "cell_type": "code",
   "execution_count": 3,
   "metadata": {
    "collapsed": false
   },
   "outputs": [
    {
     "name": "stdout",
     "output_type": "stream",
     "text": [
      "\n",
      "Cluster Ensemble:\n"
     ]
    },
    {
     "data": {
      "text/html": [
       "<div>\n",
       "<table border=\"1\" class=\"dataframe\">\n",
       "  <thead>\n",
       "    <tr style=\"text-align: right;\">\n",
       "      <th></th>\n",
       "      <th>z</th>\n",
       "    </tr>\n",
       "  </thead>\n",
       "  <tbody>\n",
       "    <tr>\n",
       "      <th>0</th>\n",
       "      <td>0.1</td>\n",
       "    </tr>\n",
       "    <tr>\n",
       "      <th>1</th>\n",
       "      <td>0.2</td>\n",
       "    </tr>\n",
       "    <tr>\n",
       "      <th>2</th>\n",
       "      <td>0.3</td>\n",
       "    </tr>\n",
       "  </tbody>\n",
       "</table>\n",
       "</div>"
      ],
      "text/plain": [
       "     z\n",
       "0  0.1\n",
       "1  0.2\n",
       "2  0.3"
      ]
     },
     "metadata": {},
     "output_type": "display_data"
    },
    {
     "name": "stdout",
     "output_type": "stream",
     "text": [
      "\n",
      "Mass-Richness Power Law: M200 = norm * (N200 / 20) ^ slope\n",
      "   norm: 2.7e+13 solMass\n",
      "   slope: 1.4\n"
     ]
    }
   ],
   "source": [
    "c.show()"
   ]
  },
  {
   "cell_type": "markdown",
   "metadata": {},
   "source": [
    "### Add richness values to the dataframe\n",
    "This step will also generate $M_{200}$, $r_{200}$, $c_{200}$, scale radius $r_s$, and other parameters, assuming the scaling relation given below."
   ]
  },
  {
   "cell_type": "code",
   "execution_count": 4,
   "metadata": {
    "collapsed": false
   },
   "outputs": [
    {
     "name": "stdout",
     "output_type": "stream",
     "text": [
      "\n",
      "Cluster Ensemble:\n"
     ]
    },
    {
     "data": {
      "text/html": [
       "<div>\n",
       "<table border=\"1\" class=\"dataframe\">\n",
       "  <thead>\n",
       "    <tr style=\"text-align: right;\">\n",
       "      <th></th>\n",
       "      <th>z</th>\n",
       "      <th>n200</th>\n",
       "      <th>m200</th>\n",
       "      <th>r200</th>\n",
       "      <th>c200</th>\n",
       "      <th>delta_c</th>\n",
       "      <th>rs</th>\n",
       "    </tr>\n",
       "  </thead>\n",
       "  <tbody>\n",
       "    <tr>\n",
       "      <th>0</th>\n",
       "      <td>0.1</td>\n",
       "      <td>20</td>\n",
       "      <td>2.700000e+13</td>\n",
       "      <td>0.612222</td>\n",
       "      <td>5.839934</td>\n",
       "      <td>12421.201995</td>\n",
       "      <td>0.104834</td>\n",
       "    </tr>\n",
       "    <tr>\n",
       "      <th>1</th>\n",
       "      <td>0.2</td>\n",
       "      <td>20</td>\n",
       "      <td>2.700000e+13</td>\n",
       "      <td>0.591082</td>\n",
       "      <td>5.644512</td>\n",
       "      <td>11480.644557</td>\n",
       "      <td>0.104718</td>\n",
       "    </tr>\n",
       "    <tr>\n",
       "      <th>2</th>\n",
       "      <td>0.3</td>\n",
       "      <td>20</td>\n",
       "      <td>2.700000e+13</td>\n",
       "      <td>0.569474</td>\n",
       "      <td>5.442457</td>\n",
       "      <td>10555.781440</td>\n",
       "      <td>0.104636</td>\n",
       "    </tr>\n",
       "  </tbody>\n",
       "</table>\n",
       "</div>"
      ],
      "text/plain": [
       "     z  n200          m200      r200      c200       delta_c        rs\n",
       "0  0.1    20  2.700000e+13  0.612222  5.839934  12421.201995  0.104834\n",
       "1  0.2    20  2.700000e+13  0.591082  5.644512  11480.644557  0.104718\n",
       "2  0.3    20  2.700000e+13  0.569474  5.442457  10555.781440  0.104636"
      ]
     },
     "metadata": {},
     "output_type": "display_data"
    },
    {
     "name": "stdout",
     "output_type": "stream",
     "text": [
      "\n",
      "Mass-Richness Power Law: M200 = norm * (N200 / 20) ^ slope\n",
      "   norm: 2.7e+13 solMass\n",
      "   slope: 1.4\n"
     ]
    }
   ],
   "source": [
    "n200 = np.ones(3)*20.\n",
    "c.n200 = n200\n",
    "c.show()"
   ]
  },
  {
   "cell_type": "markdown",
   "metadata": {},
   "source": [
    "### Access any column of the dataframe as an array\n",
    "Notice that [astropy units](http://docs.astropy.org/en/stable/units/) are present for the appropriate columns."
   ]
  },
  {
   "cell_type": "code",
   "execution_count": 5,
   "metadata": {
    "collapsed": false
   },
   "outputs": [
    {
     "name": "stdout",
     "output_type": "stream",
     "text": [
      "z: \t [ 0.1  0.2  0.3]\n",
      "n200: \t [ 20.  20.  20.]\n",
      "r200: \t [ 0.61222163  0.59108187  0.56947428] Mpc\n",
      "m200: \t [  2.70000000e+13   2.70000000e+13   2.70000000e+13] solMass\n",
      "c200: \t [ 5.8399338   5.64451215  5.44245689]\n",
      "rs: \t [ 0.10483366  0.10471797  0.10463552] Mpc\n"
     ]
    }
   ],
   "source": [
    "print('z: \\t', c.z)\n",
    "print('n200: \\t', c.n200)\n",
    "print('r200: \\t', c.r200)\n",
    "print('m200: \\t', c.m200)\n",
    "print('c200: \\t', c.c200)\n",
    "print('rs: \\t', c.rs)"
   ]
  },
  {
   "cell_type": "markdown",
   "metadata": {},
   "source": [
    "### If you don't want units, you can get just the values"
   ]
  },
  {
   "cell_type": "code",
   "execution_count": 6,
   "metadata": {
    "collapsed": false
   },
   "outputs": [
    {
     "data": {
      "text/plain": [
       "array([ 0.61222163,  0.59108187,  0.56947428])"
      ]
     },
     "execution_count": 6,
     "metadata": {},
     "output_type": "execute_result"
    }
   ],
   "source": [
    "c.r200.value"
   ]
  },
  {
   "cell_type": "markdown",
   "metadata": {},
   "source": [
    "### Or access the Pandas DataFrame directly"
   ]
  },
  {
   "cell_type": "code",
   "execution_count": 7,
   "metadata": {
    "collapsed": false
   },
   "outputs": [
    {
     "data": {
      "text/html": [
       "<div>\n",
       "<table border=\"1\" class=\"dataframe\">\n",
       "  <thead>\n",
       "    <tr style=\"text-align: right;\">\n",
       "      <th></th>\n",
       "      <th>z</th>\n",
       "      <th>n200</th>\n",
       "      <th>m200</th>\n",
       "      <th>r200</th>\n",
       "      <th>c200</th>\n",
       "      <th>delta_c</th>\n",
       "      <th>rs</th>\n",
       "    </tr>\n",
       "  </thead>\n",
       "  <tbody>\n",
       "    <tr>\n",
       "      <th>0</th>\n",
       "      <td>0.1</td>\n",
       "      <td>20</td>\n",
       "      <td>2.700000e+13</td>\n",
       "      <td>0.612222</td>\n",
       "      <td>5.839934</td>\n",
       "      <td>12421.201995</td>\n",
       "      <td>0.104834</td>\n",
       "    </tr>\n",
       "    <tr>\n",
       "      <th>1</th>\n",
       "      <td>0.2</td>\n",
       "      <td>20</td>\n",
       "      <td>2.700000e+13</td>\n",
       "      <td>0.591082</td>\n",
       "      <td>5.644512</td>\n",
       "      <td>11480.644557</td>\n",
       "      <td>0.104718</td>\n",
       "    </tr>\n",
       "    <tr>\n",
       "      <th>2</th>\n",
       "      <td>0.3</td>\n",
       "      <td>20</td>\n",
       "      <td>2.700000e+13</td>\n",
       "      <td>0.569474</td>\n",
       "      <td>5.442457</td>\n",
       "      <td>10555.781440</td>\n",
       "      <td>0.104636</td>\n",
       "    </tr>\n",
       "  </tbody>\n",
       "</table>\n",
       "</div>"
      ],
      "text/plain": [
       "     z  n200          m200      r200      c200       delta_c        rs\n",
       "0  0.1    20  2.700000e+13  0.612222  5.839934  12421.201995  0.104834\n",
       "1  0.2    20  2.700000e+13  0.591082  5.644512  11480.644557  0.104718\n",
       "2  0.3    20  2.700000e+13  0.569474  5.442457  10555.781440  0.104636"
      ]
     },
     "execution_count": 7,
     "metadata": {},
     "output_type": "execute_result"
    }
   ],
   "source": [
    "c.dataframe"
   ]
  },
  {
   "cell_type": "markdown",
   "metadata": {},
   "source": [
    "### Change the redshifts\n",
    "These changes will propogate to all redshift-dependant cluster attributes."
   ]
  },
  {
   "cell_type": "code",
   "execution_count": 8,
   "metadata": {
    "collapsed": false
   },
   "outputs": [
    {
     "data": {
      "text/html": [
       "<div>\n",
       "<table border=\"1\" class=\"dataframe\">\n",
       "  <thead>\n",
       "    <tr style=\"text-align: right;\">\n",
       "      <th></th>\n",
       "      <th>z</th>\n",
       "      <th>n200</th>\n",
       "      <th>m200</th>\n",
       "      <th>r200</th>\n",
       "      <th>c200</th>\n",
       "      <th>delta_c</th>\n",
       "      <th>rs</th>\n",
       "    </tr>\n",
       "  </thead>\n",
       "  <tbody>\n",
       "    <tr>\n",
       "      <th>0</th>\n",
       "      <td>0.4</td>\n",
       "      <td>20</td>\n",
       "      <td>2.700000e+13</td>\n",
       "      <td>0.547827</td>\n",
       "      <td>5.244512</td>\n",
       "      <td>9695.735436</td>\n",
       "      <td>0.104457</td>\n",
       "    </tr>\n",
       "    <tr>\n",
       "      <th>1</th>\n",
       "      <td>0.5</td>\n",
       "      <td>20</td>\n",
       "      <td>2.700000e+13</td>\n",
       "      <td>0.526483</td>\n",
       "      <td>5.055666</td>\n",
       "      <td>8916.795783</td>\n",
       "      <td>0.104137</td>\n",
       "    </tr>\n",
       "    <tr>\n",
       "      <th>2</th>\n",
       "      <td>0.6</td>\n",
       "      <td>20</td>\n",
       "      <td>2.700000e+13</td>\n",
       "      <td>0.505701</td>\n",
       "      <td>4.878356</td>\n",
       "      <td>8221.639808</td>\n",
       "      <td>0.103662</td>\n",
       "    </tr>\n",
       "  </tbody>\n",
       "</table>\n",
       "</div>"
      ],
      "text/plain": [
       "     z  n200          m200      r200      c200      delta_c        rs\n",
       "0  0.4    20  2.700000e+13  0.547827  5.244512  9695.735436  0.104457\n",
       "1  0.5    20  2.700000e+13  0.526483  5.055666  8916.795783  0.104137\n",
       "2  0.6    20  2.700000e+13  0.505701  4.878356  8221.639808  0.103662"
      ]
     },
     "execution_count": 8,
     "metadata": {},
     "output_type": "execute_result"
    }
   ],
   "source": [
    "c.z = np.array([0.4,0.5,0.6])\n",
    "c.dataframe"
   ]
  },
  {
   "cell_type": "markdown",
   "metadata": {},
   "source": [
    "### Change the mass or richness values\n",
    "Changing mass will affect richness and vice-versa, through the mass-richness scaling relation. These changes will propogate to all mass-dependant cluster attributes, as appropriate. "
   ]
  },
  {
   "cell_type": "code",
   "execution_count": 9,
   "metadata": {
    "collapsed": false
   },
   "outputs": [
    {
     "name": "stdout",
     "output_type": "stream",
     "text": [
      "\n",
      "Cluster Ensemble:\n"
     ]
    },
    {
     "data": {
      "text/html": [
       "<div>\n",
       "<table border=\"1\" class=\"dataframe\">\n",
       "  <thead>\n",
       "    <tr style=\"text-align: right;\">\n",
       "      <th></th>\n",
       "      <th>z</th>\n",
       "      <th>n200</th>\n",
       "      <th>m200</th>\n",
       "      <th>r200</th>\n",
       "      <th>c200</th>\n",
       "      <th>delta_c</th>\n",
       "      <th>rs</th>\n",
       "    </tr>\n",
       "  </thead>\n",
       "  <tbody>\n",
       "    <tr>\n",
       "      <th>0</th>\n",
       "      <td>0.4</td>\n",
       "      <td>21.563235</td>\n",
       "      <td>3.000000e+13</td>\n",
       "      <td>0.567408</td>\n",
       "      <td>5.194688</td>\n",
       "      <td>9486.316304</td>\n",
       "      <td>0.109229</td>\n",
       "    </tr>\n",
       "    <tr>\n",
       "      <th>1</th>\n",
       "      <td>0.5</td>\n",
       "      <td>83.602673</td>\n",
       "      <td>2.000000e+14</td>\n",
       "      <td>1.026296</td>\n",
       "      <td>4.238847</td>\n",
       "      <td>5994.835515</td>\n",
       "      <td>0.242117</td>\n",
       "    </tr>\n",
       "    <tr>\n",
       "      <th>2</th>\n",
       "      <td>0.6</td>\n",
       "      <td>263.927382</td>\n",
       "      <td>1.000000e+15</td>\n",
       "      <td>1.685668</td>\n",
       "      <td>3.583538</td>\n",
       "      <td>4142.243702</td>\n",
       "      <td>0.470392</td>\n",
       "    </tr>\n",
       "  </tbody>\n",
       "</table>\n",
       "</div>"
      ],
      "text/plain": [
       "     z        n200          m200      r200      c200      delta_c        rs\n",
       "0  0.4   21.563235  3.000000e+13  0.567408  5.194688  9486.316304  0.109229\n",
       "1  0.5   83.602673  2.000000e+14  1.026296  4.238847  5994.835515  0.242117\n",
       "2  0.6  263.927382  1.000000e+15  1.685668  3.583538  4142.243702  0.470392"
      ]
     },
     "metadata": {},
     "output_type": "display_data"
    },
    {
     "name": "stdout",
     "output_type": "stream",
     "text": [
      "\n",
      "Mass-Richness Power Law: M200 = norm * (N200 / 20) ^ slope\n",
      "   norm: 2.7e+13 solMass\n",
      "   slope: 1.4\n"
     ]
    }
   ],
   "source": [
    "c.m200 = [3e13,2e14,1e15]\n",
    "c.show()"
   ]
  },
  {
   "cell_type": "code",
   "execution_count": 10,
   "metadata": {
    "collapsed": false
   },
   "outputs": [
    {
     "name": "stdout",
     "output_type": "stream",
     "text": [
      "\n",
      "Cluster Ensemble:\n"
     ]
    },
    {
     "data": {
      "text/html": [
       "<div>\n",
       "<table border=\"1\" class=\"dataframe\">\n",
       "  <thead>\n",
       "    <tr style=\"text-align: right;\">\n",
       "      <th></th>\n",
       "      <th>z</th>\n",
       "      <th>n200</th>\n",
       "      <th>m200</th>\n",
       "      <th>r200</th>\n",
       "      <th>c200</th>\n",
       "      <th>delta_c</th>\n",
       "      <th>rs</th>\n",
       "    </tr>\n",
       "  </thead>\n",
       "  <tbody>\n",
       "    <tr>\n",
       "      <th>0</th>\n",
       "      <td>0.4</td>\n",
       "      <td>20</td>\n",
       "      <td>2.700000e+13</td>\n",
       "      <td>0.547827</td>\n",
       "      <td>5.244512</td>\n",
       "      <td>9695.735436</td>\n",
       "      <td>0.104457</td>\n",
       "    </tr>\n",
       "    <tr>\n",
       "      <th>1</th>\n",
       "      <td>0.5</td>\n",
       "      <td>30</td>\n",
       "      <td>4.763120e+13</td>\n",
       "      <td>0.636151</td>\n",
       "      <td>4.809323</td>\n",
       "      <td>7960.321226</td>\n",
       "      <td>0.132274</td>\n",
       "    </tr>\n",
       "    <tr>\n",
       "      <th>2</th>\n",
       "      <td>0.6</td>\n",
       "      <td>40</td>\n",
       "      <td>7.125343e+13</td>\n",
       "      <td>0.698834</td>\n",
       "      <td>4.490373</td>\n",
       "      <td>6819.417449</td>\n",
       "      <td>0.155629</td>\n",
       "    </tr>\n",
       "  </tbody>\n",
       "</table>\n",
       "</div>"
      ],
      "text/plain": [
       "     z  n200          m200      r200      c200      delta_c        rs\n",
       "0  0.4    20  2.700000e+13  0.547827  5.244512  9695.735436  0.104457\n",
       "1  0.5    30  4.763120e+13  0.636151  4.809323  7960.321226  0.132274\n",
       "2  0.6    40  7.125343e+13  0.698834  4.490373  6819.417449  0.155629"
      ]
     },
     "metadata": {},
     "output_type": "display_data"
    },
    {
     "name": "stdout",
     "output_type": "stream",
     "text": [
      "\n",
      "Mass-Richness Power Law: M200 = norm * (N200 / 20) ^ slope\n",
      "   norm: 2.7e+13 solMass\n",
      "   slope: 1.4\n"
     ]
    }
   ],
   "source": [
    "c.n200 = [20,30,40]\n",
    "c.show()"
   ]
  },
  {
   "cell_type": "markdown",
   "metadata": {},
   "source": [
    "### Change the parameters in the mass-richness relation\n",
    "The mass-richness slope and normalization can both be changed. The new parameters will be applied to the current n200, and will propagate to mass and other dependant quantities."
   ]
  },
  {
   "cell_type": "code",
   "execution_count": 11,
   "metadata": {
    "collapsed": false
   },
   "outputs": [
    {
     "name": "stdout",
     "output_type": "stream",
     "text": [
      "\n",
      "Cluster Ensemble:\n"
     ]
    },
    {
     "data": {
      "text/html": [
       "<div>\n",
       "<table border=\"1\" class=\"dataframe\">\n",
       "  <thead>\n",
       "    <tr style=\"text-align: right;\">\n",
       "      <th></th>\n",
       "      <th>z</th>\n",
       "      <th>n200</th>\n",
       "      <th>m200</th>\n",
       "      <th>r200</th>\n",
       "      <th>c200</th>\n",
       "      <th>delta_c</th>\n",
       "      <th>rs</th>\n",
       "    </tr>\n",
       "  </thead>\n",
       "  <tbody>\n",
       "    <tr>\n",
       "      <th>0</th>\n",
       "      <td>0.4</td>\n",
       "      <td>20</td>\n",
       "      <td>2.700000e+13</td>\n",
       "      <td>0.547827</td>\n",
       "      <td>5.244512</td>\n",
       "      <td>9695.735436</td>\n",
       "      <td>0.104457</td>\n",
       "    </tr>\n",
       "    <tr>\n",
       "      <th>1</th>\n",
       "      <td>0.5</td>\n",
       "      <td>30</td>\n",
       "      <td>4.960217e+13</td>\n",
       "      <td>0.644807</td>\n",
       "      <td>4.792194</td>\n",
       "      <td>7896.280856</td>\n",
       "      <td>0.134554</td>\n",
       "    </tr>\n",
       "    <tr>\n",
       "      <th>2</th>\n",
       "      <td>0.6</td>\n",
       "      <td>40</td>\n",
       "      <td>7.636753e+13</td>\n",
       "      <td>0.715169</td>\n",
       "      <td>4.463870</td>\n",
       "      <td>6729.455181</td>\n",
       "      <td>0.160213</td>\n",
       "    </tr>\n",
       "  </tbody>\n",
       "</table>\n",
       "</div>"
      ],
      "text/plain": [
       "     z  n200          m200      r200      c200      delta_c        rs\n",
       "0  0.4    20  2.700000e+13  0.547827  5.244512  9695.735436  0.104457\n",
       "1  0.5    30  4.960217e+13  0.644807  4.792194  7896.280856  0.134554\n",
       "2  0.6    40  7.636753e+13  0.715169  4.463870  6729.455181  0.160213"
      ]
     },
     "metadata": {},
     "output_type": "display_data"
    },
    {
     "name": "stdout",
     "output_type": "stream",
     "text": [
      "\n",
      "Mass-Richness Power Law: M200 = norm * (N200 / 20) ^ slope\n",
      "   norm: 2.7e+13 solMass\n",
      "   slope: 1.5\n"
     ]
    }
   ],
   "source": [
    "c.massrich_slope = 1.5\n",
    "c.show()"
   ]
  },
  {
   "cell_type": "code",
   "execution_count": 12,
   "metadata": {
    "collapsed": false
   },
   "outputs": [
    {
     "name": "stdout",
     "output_type": "stream",
     "text": [
      "\n",
      "Cluster Ensemble:\n",
      "     z  n200          m200      r200      c200      delta_c        rs\n",
      "0  0.4    20  2.700000e+13  0.547827  5.244512  9695.735436  0.104457\n",
      "1  0.5    30  4.960217e+13  0.644807  4.792194  7896.280856  0.134554\n",
      "2  0.6    40  7.636753e+13  0.715169  4.463870  6729.455181  0.160213\n",
      "\n",
      "Mass-Richness Power Law: M200 = norm * (N200 / 20) ^ slope\n",
      "   norm: 2.7e+13 solMass\n",
      "   slope: 1.5\n"
     ]
    }
   ],
   "source": [
    "# Show basic table without Pandas formatting\n",
    "c.show(notebook = False)"
   ]
  },
  {
   "cell_type": "markdown",
   "metadata": {},
   "source": [
    "## Calculate $\\Sigma(r)$ and $\\Delta\\Sigma(r)$ for NFW model\n",
    "First select the radial bins in units of Mpc."
   ]
  },
  {
   "cell_type": "code",
   "execution_count": 13,
   "metadata": {
    "collapsed": false
   },
   "outputs": [
    {
     "name": "stdout",
     "output_type": "stream",
     "text": [
      "rbins range from 0.1 to 5.0 Mpc\n"
     ]
    }
   ],
   "source": [
    "rmin, rmax = 0.1, 5. # Mpc\n",
    "nbins = 20\n",
    "rbins = np.logspace(np.log10(rmin), np.log10(rmax), num = nbins)\n",
    "print('rbins range from', rbins.min(), 'to', rbins.max(), 'Mpc')"
   ]
  },
  {
   "cell_type": "code",
   "execution_count": 14,
   "metadata": {
    "collapsed": false
   },
   "outputs": [],
   "source": [
    "c.calc_nfw(rbins)    # calculate the profiles\n",
    "\n",
    "sigma = c.sigma_nfw  # access the profiles\n",
    "deltasigma = c.deltasigma_nfw"
   ]
  },
  {
   "cell_type": "code",
   "execution_count": 15,
   "metadata": {
    "collapsed": false
   },
   "outputs": [
    {
     "data": {
      "text/latex": [
       "$[139.41162,~108.34792,~82.771159,~62.190652,~45.997375,~33.525543,~24.109903,~17.130596,~12.041972,~8.3858736,~5.7925656,~3.973461,~2.7095426,~1.8384576,~1.2422014,~0.83639739,~0.56152963,~0.37608786,~0.25138828,~0.16776142] \\; \\mathrm{\\frac{M_{\\odot}}{pc^{2}}}$"
      ],
      "text/plain": [
       "<Quantity [ 139.4116229 , 108.34791832,  82.77115926,  62.19065202,\n",
       "             45.99737488,  33.52554303,  24.10990324,  17.13059635,\n",
       "             12.04197196,   8.38587358,   5.79256563,   3.97346101,\n",
       "              2.70954262,   1.83845763,   1.24220137,   0.83639739,\n",
       "              0.56152963,   0.37608786,   0.25138828,   0.16776142] solMass / pc2>"
      ]
     },
     "execution_count": 15,
     "metadata": {},
     "output_type": "execute_result"
    }
   ],
   "source": [
    "sigma[0]"
   ]
  },
  {
   "cell_type": "code",
   "execution_count": 16,
   "metadata": {
    "collapsed": false
   },
   "outputs": [
    {
     "data": {
      "image/png": "[encoded data removed]",
      "text/plain": [
       "<matplotlib.figure.Figure at 0x110b25350>"
      ]
     },
     "metadata": {},
     "output_type": "display_data"
    }
   ],
   "source": [
    "fig = plt.figure(figsize=(12,5))\n",
    "fig.suptitle('Centered NFW Cluster Profiles', size=30)\n",
    "\n",
    "first = fig.add_subplot(1,2,1)\n",
    "second = fig.add_subplot(1,2,2)\n",
    "\n",
    "for rich, profile in zip(c.n200,deltasigma):\n",
    "    first.plot(rbins, profile, label='$N_{200}=$ '+str(rich))\n",
    "first.set_xscale('log')\n",
    "first.set_xlabel('$r\\ [\\mathrm{Mpc}]$', fontsize=20)\n",
    "first.set_ylabel('$\\Delta\\Sigma(r)\\ [\\mathrm{M}_\\mathrm{sun}/\\mathrm{pc}^2]$', \n",
    "                 fontsize=20)\n",
    "first.set_xlim(rbins.min(), rbins.max())\n",
    "first.legend(fontsize=20)\n",
    "\n",
    "\n",
    "for rich, profile in zip(c.n200,sigma):\n",
    "    second.plot(rbins, profile, label='$N_{200}=$ '+str(rich))\n",
    "second.set_xscale('log')\n",
    "second.set_xlabel('$r\\ [\\mathrm{Mpc}]$', fontsize=20)\n",
    "second.set_ylabel('$\\Sigma(r)\\ [\\mathrm{M}_\\mathrm{sun}/\\mathrm{pc}^2]$', \n",
    "                 fontsize=20)\n",
    "second.set_xlim(0.05, 1.)\n",
    "second.set_xlim(rbins.min(), rbins.max())\n",
    "second.legend(fontsize=20)\n",
    "\n",
    "\n",
    "fig.tight_layout()\n",
    "plt.subplots_adjust(top=0.88)"
   ]
  },
  {
   "cell_type": "markdown",
   "metadata": {},
   "source": [
    "# Calculate Miscentered NFW Profiles\n",
    "\n",
    "When the true underlying dark matter distribution is offset from the assumed cluster \"center\" (such as a BCG or some other center proxy), the weak lensing profiles measured around the assumed centers will be different than for the perfectly centered case. One way to account for this is to describe the cluster centroid offsets as a Gaussian distribution around the true centers. We say the probability of an offset is given by\n",
    "\n",
    "$P(R_\\mathrm{off}) = \\frac{R_\\mathrm{off}}{\\sigma_\\mathrm{off}^2}e^{-\\frac{1}{2}\\left(\\frac{R_\\mathrm{off}}{\\sigma_\\mathrm{off}}\\right)^2}$,\n",
    "\n",
    "which is parameterized by the width of the 2D offset distribution $\\sigma_\\mathrm{off} = \\sqrt{\\sigma_x^2 + \\sigma_y^2}$. Then the measured surface mass density is given by \n",
    "\n",
    "$\\Sigma^\\mathrm{sm}(R) = \\int_0^\\infty \\Sigma(R | R_\\mathrm{off})\\  P(R_\\mathrm{off})\\ \\mathrm{d}R_\\mathrm{off}$,\n",
    "\n",
    "where\n",
    "\n",
    "$\\Sigma(R | R_\\mathrm{off}) = \\frac{1}{2\\pi} \\int_0^{2\\pi} \\Sigma(r')\\ \\mathrm{d}\\theta$, \n",
    "\n",
    "and\n",
    "\n",
    "$r' = \\sqrt{R^2 + R_\\mathrm{off}^2 - 2 R R_\\mathrm{off} \\cos{\\theta}}$.\n",
    "\n",
    "More details on the cluster miscentering problem can be found in [Ford et al 2015](http://arxiv.org/abs/1409.3571), [George et al 2012](http://arxiv.org/abs/1205.4262), and [Johnston et al 2007](http://arxiv.org/abs/0709.1159).\n",
    "\n",
    "To calculate the miscentered profiles, simply create an array of offsets in units of Mpc, and pass it to the calc_nfw method:"
   ]
  },
  {
   "cell_type": "code",
   "execution_count": 17,
   "metadata": {
    "collapsed": false
   },
   "outputs": [],
   "source": [
    "offsets = np.array([0.1,0.1,0.1]) #same length as number of clusters\n",
    "\n",
    "c.calc_nfw(rbins, offsets=offsets)\n",
    "\n",
    "deltasigma_off = c.deltasigma_nfw\n",
    "sigma_off = c.sigma_nfw"
   ]
  },
  {
   "cell_type": "code",
   "execution_count": 18,
   "metadata": {
    "collapsed": false
   },
   "outputs": [
    {
     "data": {
      "image/png": "[encoded data removed]",
      "text/plain": [
       "<matplotlib.figure.Figure at 0x113bb34d0>"
      ]
     },
     "metadata": {},
     "output_type": "display_data"
    }
   ],
   "source": [
    "fig = plt.figure(figsize=(12,5))\n",
    "fig.suptitle('Miscentered NFW Cluster Profiles', size=30)\n",
    "\n",
    "first = fig.add_subplot(1,2,1)\n",
    "second = fig.add_subplot(1,2,2)\n",
    "\n",
    "for rich, profile in zip(c.n200,deltasigma_off):\n",
    "    first.plot(rbins, profile, label='$N_{200}=$ '+str(rich))\n",
    "first.set_xscale('log')\n",
    "first.set_xlabel('$r\\ [\\mathrm{Mpc}]$', fontsize=20)\n",
    "ytitle = '$\\Delta\\Sigma^\\mathrm{sm}(r)\\ [\\mathrm{M}_\\mathrm{sun}/\\mathrm{pc}^2]$'\n",
    "first.set_ylabel(ytitle, fontsize=20)\n",
    "first.set_xlim(rbins.min(), rbins.max())\n",
    "first.legend(fontsize=20)\n",
    "\n",
    "\n",
    "for rich, profile in zip(c.n200,sigma_off):\n",
    "    second.plot(rbins, profile, label='$N_{200}=$ '+str(rich))\n",
    "second.set_xscale('log')\n",
    "second.set_xlabel('$r\\ [\\mathrm{Mpc}]$', fontsize=20)\n",
    "ytitle = '$\\Sigma^\\mathrm{sm}(r)\\ [\\mathrm{M}_\\mathrm{sun}/\\mathrm{pc}^2]$'\n",
    "second.set_ylabel(ytitle, fontsize=20)\n",
    "second.set_xlim(rbins.min(), rbins.max())\n",
    "second.legend(fontsize=20)\n",
    "\n",
    "\n",
    "fig.tight_layout()\n",
    "plt.subplots_adjust(top=0.88)"
   ]
  },
  {
   "cell_type": "markdown",
   "metadata": {},
   "source": [
    "### Advanced use: tuning the precision of the integrations\n",
    "The centered profile calculations are straightforward, and this package uses the formulas given in [Wright & Brainerd 2000](http://adsabs.harvard.edu/abs/2000ApJ...534...34W) for this. However, as outlined above, the calculation of the miscentered profiles requires a double integration for $\\Sigma^\\mathrm{sm}(R)$, and there is a third integration for calculating $\\Delta\\Sigma^\\mathrm{sm}(R) = \\overline{\\Sigma^\\mathrm{sm}}(< R) - \\Sigma^\\mathrm{sm}(R)$. \n",
    "\n",
    "For increased precision, you can adjust parameters specifying the number of bins to use in these integration (but note that this comes at the expense of increased computational time). See the [documentation](http://jesford.github.io/cluster-lensing/index.html) for details."
   ]
  }
 ],
 "metadata": {
  "kernelspec": {
   "display_name": "Python 2",
   "language": "python",
   "name": "python2"
  },
  "language_info": {
   "codemirror_mode": {
    "name": "ipython",
    "version": 2
   },
   "file_extension": ".py",
   "mimetype": "text/x-python",
   "name": "python",
   "nbconvert_exporter": "python",
   "pygments_lexer": "ipython2",
   "version": "2.7.11"
  }
 },
 "nbformat": 4,
 "nbformat_minor": 0
}
