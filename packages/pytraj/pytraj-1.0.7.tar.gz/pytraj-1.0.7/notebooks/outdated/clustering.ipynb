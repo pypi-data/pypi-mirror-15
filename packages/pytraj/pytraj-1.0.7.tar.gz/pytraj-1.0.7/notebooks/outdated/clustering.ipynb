{
 "cells": [
  {
   "cell_type": "code",
   "execution_count": 1,
   "metadata": {
    "collapsed": false
   },
   "outputs": [
    {
     "name": "stdout",
     "output_type": "stream",
     "text": [
      "<pytraj.TrajectoryIterator, 101 frames, include:\n",
      "<Topology: 223 atoms, 13 residues, 1 mols, non-PBC>>\n",
      "           \n"
     ]
    },
    {
     "data": {
      "text/plain": [
       "<pytraj.DatasetList with 1 datasets>\n",
       "Cnum_00001\n",
       "[8 9 7 ..., 1 1 1]"
      ]
     },
     "execution_count": 1,
     "metadata": {},
     "output_type": "execute_result"
    }
   ],
   "source": [
    "# TODO : update with more details\n",
    "# import `io` module in `pytraj` to control `IO`\n",
    "\n",
    "import pytraj.io as io\n",
    "import pytraj.common_actions as pyca # have `do_clustering`\n",
    "\n",
    "# load TrajectoryIterator object to save memory\n",
    "trajiter = io.iterload(\"../tests/data/tz2.nc\", \"../tests/data/tz2.parm7\")\n",
    "print (trajiter)\n",
    "\n",
    "dataset = pt.clustering(trajiter, \"kmeans clusters 10 @CA\")\n",
    "dataset"
   ]
  },
  {
   "cell_type": "code",
   "execution_count": 2,
   "metadata": {
    "collapsed": false
   },
   "outputs": [
    {
     "name": "stdout",
     "output_type": "stream",
     "text": [
      "Counter({0: 35, 1: 24, 2: 16, 3: 9, 4: 6, 5: 4, 6: 4, 7: 1, 8: 1, 9: 1})\n",
      "0.3465346534653465\n"
     ]
    }
   ],
   "source": [
    "# want to know how many frames per cluster\n",
    "d = dataset[0]\n",
    "print (d.count()) # the output says that there is 35 frames for 0-th cluster (the most populated cluster)\n",
    "\n",
    "# want to get fraction\n",
    "print (d.count(0)/trajiter.n_frames)"
   ]
  },
  {
   "cell_type": "markdown",
   "metadata": {},
   "source": [
    "See also\n",
    "\n",
    "[Trajectory.ipynb](Trajectory.ipynb)\n",
    "\n",
    "[saving_data_or_traj.ipynb](saving_data_or_traj.ipynb)\n"
   ]
  }
 ],
 "metadata": {
  "kernelspec": {
   "display_name": "Python 3",
   "language": "python",
   "name": "python3"
  },
  "language_info": {
   "codemirror_mode": {
    "name": "ipython",
    "version": 3
   },
   "file_extension": ".py",
   "mimetype": "text/x-python",
   "name": "python",
   "nbconvert_exporter": "python",
   "pygments_lexer": "ipython3",
   "version": "3.4.3"
  }
 },
 "nbformat": 4,
 "nbformat_minor": 0
}
