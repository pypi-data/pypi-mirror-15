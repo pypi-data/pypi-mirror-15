{
 "cells": [
  {
   "cell_type": "markdown",
   "metadata": {},
   "source": [
    "# TODO : write introduction"
   ]
  },
  {
   "cell_type": "code",
   "execution_count": 1,
   "metadata": {
    "collapsed": false
   },
   "outputs": [],
   "source": [
    "from __future__ import print_function\n",
    "import pytraj as pt\n",
    "from pytraj import load_sample_data"
   ]
  },
  {
   "cell_type": "code",
   "execution_count": 2,
   "metadata": {
    "collapsed": false
   },
   "outputs": [
    {
     "name": "stdout",
     "output_type": "stream",
     "text": [
      "<Topology: 304 atoms, 20 residues, 1 mols, non-PBC>\n"
     ]
    }
   ],
   "source": [
    "top = pt.load_topology(\"../tests/data/Tc5b.top\")\n",
    "print (top)"
   ]
  },
  {
   "cell_type": "code",
   "execution_count": 3,
   "metadata": {
    "collapsed": false
   },
   "outputs": [
    {
     "data": {
      "text/plain": [
       "<N-atom, resnum=0, n_bonds=4>"
      ]
     },
     "execution_count": 3,
     "metadata": {},
     "output_type": "execute_result"
    }
   ],
   "source": [
    "# get first atom in Topology\n",
    "top[0]"
   ]
  },
  {
   "cell_type": "code",
   "execution_count": 4,
   "metadata": {
    "collapsed": false
   },
   "outputs": [
    {
     "data": {
      "text/plain": [
       "<Topology: 20 atoms, 20 residues, 20 mols, non-PBC>"
      ]
     },
     "execution_count": 4,
     "metadata": {},
     "output_type": "execute_result"
    }
   ],
   "source": [
    "# get all atoms with mask CA\n",
    "top['@CA']"
   ]
  },
  {
   "cell_type": "code",
   "execution_count": 5,
   "metadata": {
    "collapsed": false
   },
   "outputs": [
    {
     "name": "stdout",
     "output_type": "stream",
     "text": [
      "CA   0\n",
      "CA   1\n",
      "CA   2\n",
      "CA   3\n",
      "CA   4\n",
      "CA   5\n",
      "CA   6\n",
      "CA   7\n",
      "CA   8\n",
      "CA   9\n",
      "CA   10\n",
      "CA   11\n",
      "CA   12\n",
      "CA   13\n",
      "CA   14\n",
      "CA   15\n",
      "CA   16\n",
      "CA   17\n",
      "CA   18\n",
      "CA   19\n"
     ]
    }
   ],
   "source": [
    "# loop all CA to get information\n",
    "for atom in top['@CA']:\n",
    "    print (atom.name, atom.resnum)"
   ]
  },
  {
   "cell_type": "code",
   "execution_count": 6,
   "metadata": {
    "collapsed": false
   },
   "outputs": [],
   "source": [
    "# make a new copy\n",
    "top2 = top.copy()"
   ]
  },
  {
   "cell_type": "code",
   "execution_count": 7,
   "metadata": {
    "collapsed": false
   },
   "outputs": [
    {
     "data": {
      "text/plain": [
       "False"
      ]
     },
     "execution_count": 7,
     "metadata": {},
     "output_type": "execute_result"
    }
   ],
   "source": [
    "top2 == top"
   ]
  },
  {
   "cell_type": "code",
   "execution_count": 8,
   "metadata": {
    "collapsed": false
   },
   "outputs": [
    {
     "data": {
      "text/plain": [
       "['OD1 ',\n",
       " 'HE3 ',\n",
       " 'HE1 ',\n",
       " 'HH11',\n",
       " 'HE2 ',\n",
       " 'HG13',\n",
       " 'HB3 ',\n",
       " 'NE2 ',\n",
       " 'CE3 ',\n",
       " 'ND2 ']"
      ]
     },
     "execution_count": 8,
     "metadata": {},
     "output_type": "execute_result"
    }
   ],
   "source": [
    "# get unique atom names\n",
    "list(top.atom_names)[:10]"
   ]
  },
  {
   "cell_type": "code",
   "execution_count": 9,
   "metadata": {
    "collapsed": false
   },
   "outputs": [
    {
     "data": {
      "text/plain": [
       "{'ARG ',\n",
       " 'ASN ',\n",
       " 'ASP ',\n",
       " 'GLN ',\n",
       " 'GLY ',\n",
       " 'ILE ',\n",
       " 'LEU ',\n",
       " 'LYS ',\n",
       " 'PRO ',\n",
       " 'SER ',\n",
       " 'TRP ',\n",
       " 'TYR '}"
      ]
     },
     "execution_count": 9,
     "metadata": {},
     "output_type": "execute_result"
    }
   ],
   "source": [
    "# get unique residue name\n",
    "top.residue_names"
   ]
  },
  {
   "cell_type": "code",
   "execution_count": 10,
   "metadata": {
    "collapsed": false
   },
   "outputs": [],
   "source": [
    "res0 = next(top.residues)"
   ]
  },
  {
   "cell_type": "code",
   "execution_count": 11,
   "metadata": {
    "collapsed": false
   },
   "outputs": [
    {
     "name": "stdout",
     "output_type": "stream",
     "text": [
      "ASN \n",
      "LEU \n",
      "TYR \n",
      "ILE \n",
      "GLN \n",
      "TRP \n",
      "LEU \n",
      "LYS \n",
      "ASP \n",
      "GLY \n",
      "GLY \n",
      "PRO \n",
      "SER \n",
      "SER \n",
      "GLY \n",
      "ARG \n",
      "PRO \n",
      "PRO \n",
      "PRO \n",
      "SER \n"
     ]
    }
   ],
   "source": [
    "for res0 in top.residues:\n",
    "    print (res0.name)"
   ]
  },
  {
   "cell_type": "code",
   "execution_count": 12,
   "metadata": {
    "collapsed": false
   },
   "outputs": [],
   "source": [
    "# get atom mask object\n",
    "atommask = top(\"@CA\")"
   ]
  },
  {
   "cell_type": "code",
   "execution_count": 13,
   "metadata": {
    "collapsed": false
   },
   "outputs": [
    {
     "name": "stdout",
     "output_type": "stream",
     "text": [
      "[  4  18  37 ..., 274 288 294]\n"
     ]
    }
   ],
   "source": [
    "# get incides of atoms having mask \"@CA\"\n",
    "print (atommask.selected_indices())"
   ]
  },
  {
   "cell_type": "code",
   "execution_count": 14,
   "metadata": {
    "collapsed": false
   },
   "outputs": [
    {
     "name": "stdout",
     "output_type": "stream",
     "text": [
      "<Topology: 20 atoms, 20 residues, 20 mols, non-PBC>\n"
     ]
    }
   ],
   "source": [
    "# but you can get atom objects having mask @CA too\n",
    "# In this case, we use [] rather using ()\n",
    "print (top[\"@CA\"])"
   ]
  },
  {
   "cell_type": "code",
   "execution_count": 15,
   "metadata": {
    "collapsed": false
   },
   "outputs": [
    {
     "data": {
      "text/plain": [
       "array([183, 184, 185, ..., 289, 290, 291])"
      ]
     },
     "execution_count": 15,
     "metadata": {},
     "output_type": "execute_result"
    }
   ],
   "source": [
    "# get indices of residues having mask :PRO\n",
    "# TODO : return residue indices too?\n",
    "top(\":PRO\").selected_indices()"
   ]
  },
  {
   "cell_type": "code",
   "execution_count": 16,
   "metadata": {
    "collapsed": false
   },
   "outputs": [
    {
     "data": {
      "text/plain": [
       "[0, 1, 2, 3]"
      ]
     },
     "execution_count": 16,
     "metadata": {},
     "output_type": "execute_result"
    }
   ],
   "source": [
    "# get residues indies having mask :PRO\n",
    "from pytraj.compat import set\n",
    "resid = set()\n",
    "\n",
    "for atom in top[\":PRO\"]:\n",
    "    resid.add(atom.resnum)\n",
    "    \n",
    "sorted(resid)"
   ]
  }
 ],
 "metadata": {
  "kernelspec": {
   "display_name": "Python 3",
   "language": "python",
   "name": "python3"
  },
  "language_info": {
   "codemirror_mode": {
    "name": "ipython",
    "version": 3
   },
   "file_extension": ".py",
   "mimetype": "text/x-python",
   "name": "python",
   "nbconvert_exporter": "python",
   "pygments_lexer": "ipython3",
   "version": "3.4.3"
  }
 },
 "nbformat": 4,
 "nbformat_minor": 0
}
