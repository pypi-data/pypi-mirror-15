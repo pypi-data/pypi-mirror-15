{
 "cells": [
  {
   "cell_type": "code",
   "execution_count": 3,
   "metadata": {
    "collapsed": true
   },
   "outputs": [],
   "source": [
    "import pytraj as pt"
   ]
  },
  {
   "cell_type": "code",
   "execution_count": 5,
   "metadata": {
    "collapsed": false
   },
   "outputs": [
    {
     "data": {
      "text/plain": [
       "<pytraj.DatasetList with 38 datasets>\n",
       "psi:1\n",
       "[ 154.85298804  164.12468166  130.30039598  156.79457574  153.107096\n",
       "  170.91703326 -178.28630167  170.0462619   123.09102888  156.59330585]\n",
       "\n",
       "phi:2\n",
       "[-161.05606872 -134.84295355 -107.02687069 -148.50828241 -116.02075527\n",
       " -133.32423279  -68.2859731  -100.84894912  -89.82520065  -72.65411987]\n",
       "\n",
       "psi:2\n",
       "[ 142.4180593   152.05825118  125.00161064  149.45265893  132.05020195\n",
       "  143.35015398  156.89116986  143.71528591  160.89418438  171.16918494]\n",
       "...\n",
       "\n",
       "psi:19\n",
       "[ 167.62328208  121.57051801  142.65769905  173.52975065  141.44039963\n",
       "  157.53109264  152.10139862  -24.62935106  -15.27912796  -29.29872084]\n",
       "\n",
       "phi:20\n",
       "[-147.57911414  -76.95104037 -154.09158263  -80.06141861 -143.17467645\n",
       " -146.75458682 -132.59519588 -141.58874412  -73.01104403  -94.34620155]"
      ]
     },
     "execution_count": 5,
     "metadata": {},
     "output_type": "execute_result"
    }
   ],
   "source": [
    "traj = pt.iterload(\"../tests/data/md1_prod.Tc5b.x\", \"../tests/data/Tc5b.top\")\n",
    "\n",
    "dihedrals = pt.multidihedral(traj, 'phi psi')\n",
    "dihedrals"
   ]
  },
  {
   "cell_type": "markdown",
   "metadata": {},
   "source": [
    "<span style=\"color:blue; font-size:2em;\">Combine with *panda*</span>"
   ]
  },
  {
   "cell_type": "code",
   "execution_count": 8,
   "metadata": {
    "collapsed": false
   },
   "outputs": [
    {
     "data": {
      "text/html": [
       "<div>\n",
       "<table border=\"1\" class=\"dataframe\">\n",
       "  <thead>\n",
       "    <tr style=\"text-align: right;\">\n",
       "      <th></th>\n",
       "      <th>psi:1</th>\n",
       "      <th>psi:2</th>\n",
       "    </tr>\n",
       "  </thead>\n",
       "  <tbody>\n",
       "    <tr>\n",
       "      <th>0</th>\n",
       "      <td>154.852988</td>\n",
       "      <td>142.418059</td>\n",
       "    </tr>\n",
       "    <tr>\n",
       "      <th>1</th>\n",
       "      <td>164.124682</td>\n",
       "      <td>152.058251</td>\n",
       "    </tr>\n",
       "    <tr>\n",
       "      <th>2</th>\n",
       "      <td>130.300396</td>\n",
       "      <td>125.001611</td>\n",
       "    </tr>\n",
       "    <tr>\n",
       "      <th>3</th>\n",
       "      <td>156.794576</td>\n",
       "      <td>149.452659</td>\n",
       "    </tr>\n",
       "    <tr>\n",
       "      <th>4</th>\n",
       "      <td>153.107096</td>\n",
       "      <td>132.050202</td>\n",
       "    </tr>\n",
       "    <tr>\n",
       "      <th>5</th>\n",
       "      <td>170.917033</td>\n",
       "      <td>143.350154</td>\n",
       "    </tr>\n",
       "    <tr>\n",
       "      <th>6</th>\n",
       "      <td>-178.286302</td>\n",
       "      <td>156.891170</td>\n",
       "    </tr>\n",
       "    <tr>\n",
       "      <th>7</th>\n",
       "      <td>170.046262</td>\n",
       "      <td>143.715286</td>\n",
       "    </tr>\n",
       "    <tr>\n",
       "      <th>8</th>\n",
       "      <td>123.091029</td>\n",
       "      <td>160.894184</td>\n",
       "    </tr>\n",
       "    <tr>\n",
       "      <th>9</th>\n",
       "      <td>156.593306</td>\n",
       "      <td>171.169185</td>\n",
       "    </tr>\n",
       "  </tbody>\n",
       "</table>\n",
       "</div>"
      ],
      "text/plain": [
       "        psi:1       psi:2\n",
       "0  154.852988  142.418059\n",
       "1  164.124682  152.058251\n",
       "2  130.300396  125.001611\n",
       "3  156.794576  149.452659\n",
       "4  153.107096  132.050202\n",
       "5  170.917033  143.350154\n",
       "6 -178.286302  156.891170\n",
       "7  170.046262  143.715286\n",
       "8  123.091029  160.894184\n",
       "9  156.593306  171.169185"
      ]
     },
     "execution_count": 8,
     "metadata": {},
     "output_type": "execute_result"
    }
   ],
   "source": [
    "dihedrals.to_dataframe()[['psi:1', 'psi:2']]"
   ]
  }
 ],
 "metadata": {
  "kernelspec": {
   "display_name": "Python 3",
   "language": "python",
   "name": "python3"
  }
 },
 "nbformat": 4,
 "nbformat_minor": 0
}
