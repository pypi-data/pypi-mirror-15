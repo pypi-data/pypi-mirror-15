{
 "cells": [
  {
   "cell_type": "markdown",
   "metadata": {},
   "source": [
    "### if you already have cpptraj input file and don't want to retype (loading traj, specify command, ...)? Use \"load_cpptraj_file\""
   ]
  },
  {
   "cell_type": "code",
   "execution_count": 1,
   "metadata": {
    "collapsed": false
   },
   "outputs": [
    {
     "name": "stdout",
     "output_type": "stream",
     "text": [
      "parm ../cpptraj/test/Test_Comprehensive/compound.prmtop\r\n",
      "# system: 7mer peptide in a box of\r\n",
      "# periodic water (1577 Waters)\r\n",
      "\r\n",
      "# Read in the trajectory file \r\n",
      "# starting at 1\r\n",
      "# 100 total snapshots\r\n",
      "# consider each one \r\n",
      "\r\n",
      "trajin ../cpptraj/test/Test_Comprehensive/trajectory.mdcrd 1 100 1\r\n",
      "\r\n",
      "#  first calculate some things that don't depend on\r\n",
      "#  the position of the solute in the box\r\n",
      "\r\n",
      "# do dihedral angles\r\n",
      "\r\n",
      "dihedral phi :1@C  :2@N  :2@CA :2@C out phi\r\n",
      "dihedral psi   :1@N  :1@CA :1@C  :2@N out psi\r\n",
      "dihedral omega   :1@CA :1@C  :2@N  :2@CA out omega\r\n",
      "\r\n",
      "# calculate the distance between two atoms \r\n",
      "# over the 10 snapshots\r\n",
      "# output to the file \"dist.list\"\r\n",
      "\r\n",
      "distance end_to_end :1@N :7@N out  dist_end_to_end.list\r\n",
      "\r\n",
      "#get the rms values for the whole system \r\n",
      "#referenced to the first snapshot\r\n",
      "\r\n",
      "rms first :1-1584\r\n",
      "\r\n",
      "#now deal with drift\r\n",
      "\r\n",
      "# the peptide (residues 1->7) has drifted around \r\n",
      "# the box during MD.  We'd like to view the system\r\n",
      "# with a \"constant\" solute.\r\n",
      "\r\n",
      "# note that this changes the coordinates you have in memory\r\n",
      "\r\n",
      "# first center the solute by itself\r\n",
      "\r\n",
      "center origin :1-7 \r\n",
      "\r\n",
      "# now image the whole system about the centered origin\r\n",
      "\r\n",
      "image origin center \r\n",
      "\r\n",
      "# calculate the waters in the first and second solvation shells\r\n",
      "# (0-3.5A and 3.5-5.0A) and output to watershell.list \r\n",
      " \r\n",
      "watershell :1-7 watershell.list ws \r\n",
      "\r\n",
      "# save only the peptide for easy graphics viewing\r\n",
      "\r\n",
      "strip :WAT\r\n",
      "\r\n",
      "trajout test.mdcrd\r\n",
      "\r\n"
     ]
    }
   ],
   "source": [
    "# test folder can be found here: https://github.com/mojyt/cpptraj/tree/master/test/Test_Comprehensive\n",
    "# I just add \"parm\" file to `ptraj.in` and updat relative path\n",
    "# TODO : more detail\n",
    "!cat ptraj.in"
   ]
  },
  {
   "cell_type": "markdown",
   "metadata": {},
   "source": [
    "## lazy loading"
   ]
  },
  {
   "cell_type": "code",
   "execution_count": 2,
   "metadata": {
    "collapsed": true
   },
   "outputs": [],
   "source": [
    "from __future__ import print_function # for python 2 and 3 compat\n",
    "import pytraj as pt\n",
    "\n",
    "# load cpptraj file and return a `state`, which hold lots of information (TopologyList, DataSetList, TrajinList, ...).\n",
    "# you can take the raw data from this `state`"
   ]
  },
  {
   "cell_type": "code",
   "execution_count": 3,
   "metadata": {
    "collapsed": false
   },
   "outputs": [
    {
     "data": {
      "text/plain": [
       "CpptrajState, include:\n",
       "<datasetlist: 7 datasets>"
      ]
     },
     "execution_count": 3,
     "metadata": {},
     "output_type": "execute_result"
    }
   ],
   "source": [
    "# load state from `ptraj.in`\n",
    "state = pt.load_cpptraj_file(\"ptraj.in\")\n",
    "state.run()"
   ]
  },
  {
   "cell_type": "code",
   "execution_count": 4,
   "metadata": {
    "collapsed": false
   },
   "outputs": [
    {
     "name": "stdout",
     "output_type": "stream",
     "text": [
      "test.mdcrd\r\n"
     ]
    }
   ],
   "source": [
    "# we did save traj to disk\n",
    "!ls test.mdcrd"
   ]
  },
  {
   "cell_type": "code",
   "execution_count": 5,
   "metadata": {
    "collapsed": false
   },
   "outputs": [
    {
     "name": "stdout",
     "output_type": "stream",
     "text": [
      "['phi', 'psi', 'omega', 'end_to_end', 'RMSD_00004', 'ws[lower]', 'ws[upper]']\n"
     ]
    }
   ],
   "source": [
    "print(state.data.keys())"
   ]
  },
  {
   "cell_type": "code",
   "execution_count": 6,
   "metadata": {
    "collapsed": false
   },
   "outputs": [
    {
     "name": "stdout",
     "output_type": "stream",
     "text": [
      "<pytraj.datasets.DatasetDouble: size=100, key=phi> \n",
      "values: \n",
      "[ 41.28882154  51.91785129  49.05564944 ...,  51.2927548   61.26562317\n",
      "  53.001836  ]\n"
     ]
    }
   ],
   "source": [
    "print(state.data['phi'])"
   ]
  }
 ],
 "metadata": {
  "kernelspec": {
   "display_name": "Python 3",
   "language": "python",
   "name": "python3"
  },
  "language_info": {
   "codemirror_mode": {
    "name": "ipython",
    "version": 3
   },
   "file_extension": ".py",
   "mimetype": "text/x-python",
   "name": "python",
   "nbconvert_exporter": "python",
   "pygments_lexer": "ipython3",
   "version": "3.4.3"
  }
 },
 "nbformat": 4,
 "nbformat_minor": 0
}
